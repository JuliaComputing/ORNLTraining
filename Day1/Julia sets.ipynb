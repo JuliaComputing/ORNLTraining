{
 "cells": [
  {
   "cell_type": "markdown",
   "metadata": {},
   "source": [
    "# Exploring the Julia Set in Julia"
   ]
  },
  {
   "cell_type": "code",
   "execution_count": null,
   "metadata": {},
   "outputs": [],
   "source": [
    "const maxiter = 100\n",
    "\n",
    "function julia(z, c)\n",
    "    for n = 1:maxiter\n",
    "        abs2(z) > 4 && return n-1\n",
    "        z = z^2 + c\n",
    "    end\n",
    "    return maxiter\n",
    "end"
   ]
  },
  {
   "cell_type": "code",
   "execution_count": null,
   "metadata": {},
   "outputs": [],
   "source": [
    "julia(-0.06 + .52im, -0.02 + .66im)"
   ]
  },
  {
   "cell_type": "code",
   "execution_count": null,
   "metadata": {},
   "outputs": [],
   "source": [
    "julia(1, 0.5)"
   ]
  },
  {
   "cell_type": "code",
   "execution_count": null,
   "metadata": {},
   "outputs": [],
   "source": [
    "julia(\"foo\", \"bar\")"
   ]
  },
  {
   "cell_type": "code",
   "execution_count": null,
   "metadata": {},
   "outputs": [],
   "source": [
    "[julia(r + i*im, -0.06 + .665im) for r=-1:.002:1, i=-0.5:.002:0.5]"
   ]
  },
  {
   "cell_type": "code",
   "execution_count": null,
   "metadata": {},
   "outputs": [],
   "source": [
    "@code_native julia(-0.02 + .7im, -0.06 + .665im)"
   ]
  },
  {
   "cell_type": "code",
   "execution_count": null,
   "metadata": {},
   "outputs": [],
   "source": [
    "@code_native julia(1, 2)"
   ]
  },
  {
   "cell_type": "code",
   "execution_count": null,
   "metadata": {},
   "outputs": [],
   "source": [
    "using Pkg\n",
    "Pkg.add([\"Colors\", \"Images\", \"ImageMagick\", \"QuartzImageIO\"])\n",
    "using Colors, Images, ImageMagick, QuartzImageIO"
   ]
  },
  {
   "cell_type": "code",
   "execution_count": null,
   "metadata": {},
   "outputs": [],
   "source": [
    "const cmap = convert(Vector{RGB{N0f8}}, colormap(\"RdBu\", 100))"
   ]
  },
  {
   "cell_type": "code",
   "execution_count": null,
   "metadata": {},
   "outputs": [],
   "source": [
    "typeof(ans)"
   ]
  },
  {
   "cell_type": "code",
   "execution_count": null,
   "metadata": {},
   "outputs": [],
   "source": [
    "px = cmap[75]"
   ]
  },
  {
   "cell_type": "code",
   "execution_count": null,
   "metadata": {},
   "outputs": [],
   "source": [
    "dump(px)"
   ]
  },
  {
   "cell_type": "code",
   "execution_count": null,
   "metadata": {},
   "outputs": [],
   "source": [
    "px.r"
   ]
  },
  {
   "cell_type": "code",
   "execution_count": null,
   "metadata": {},
   "outputs": [],
   "source": [
    "px.r + px.b"
   ]
  },
  {
   "cell_type": "code",
   "execution_count": null,
   "metadata": {},
   "outputs": [],
   "source": [
    "@code_native px.r + px.b"
   ]
  },
  {
   "cell_type": "code",
   "execution_count": null,
   "metadata": {},
   "outputs": [],
   "source": [
    "@which px.r + px.b"
   ]
  },
  {
   "cell_type": "code",
   "execution_count": null,
   "metadata": {},
   "outputs": [],
   "source": [
    "ImageMeta([cmap[julia(r + i*im, -0.055 + .67im)] for i=-1:.005:1, r=-1.5:.005:1.5])"
   ]
  },
  {
   "cell_type": "code",
   "execution_count": null,
   "metadata": {},
   "outputs": [],
   "source": [
    "img = ImageMeta([cmap[julia(r + i*im, r + i*im)] for i=-1:.005:1, r=-1.5:.005:1.5])"
   ]
  },
  {
   "cell_type": "code",
   "execution_count": null,
   "metadata": {},
   "outputs": [],
   "source": [
    "using Interact"
   ]
  },
  {
   "cell_type": "code",
   "execution_count": null,
   "metadata": {},
   "outputs": [],
   "source": [
    "@manipulate for r′ = -0.1:0.01:0.1, i′ = 0.65:0.01:0.85\n",
    "    ImageMeta([cmap[julia(r + i*im, r′ + i′*im)] for i=-1:.005:1, r=-1.5:.005:1.5])\n",
    "end"
   ]
  },
  {
   "cell_type": "code",
   "execution_count": null,
   "metadata": {},
   "outputs": [],
   "source": [
    "let I = -1:.005:1, R = -1.5:.005:1.5\n",
    "    data = Array{RGB{N0f8}}(undef, length(I), length(R))\n",
    "    img = ImageMeta(data)\n",
    "    @manipulate for i′ = 0.65:0.01:0.85, r′ = -0.1:0.01:0.1\n",
    "        for (j, i) in enumerate(I),\n",
    "            (k, r) in enumerate(R)\n",
    "            data[j,k] = cmap[julia(r + i*im, r′ + i′*im)]\n",
    "        end\n",
    "        img\n",
    "    end\n",
    "end"
   ]
  },
  {
   "cell_type": "code",
   "execution_count": null,
   "metadata": {},
   "outputs": [],
   "source": [
    "using Base.Threads\n",
    "\n",
    "let I = -1:.005:1, R = -1.5:.005:1.5\n",
    "    data = Array{RGB{N0f8}}(undef, length(I), length(R))\n",
    "    img = ImageMeta(data)\n",
    "    @manipulate for i′ = 0.65:0.01:0.85, r′ = -0.1:0.01:0.1\n",
    "        @threads for j = 1:length(I)\n",
    "            i = I[j]\n",
    "            for k = 1:length(R)\n",
    "                r = R[k]\n",
    "                data[j,k] = cmap[julia(r + i*im, r′ + i′*im)]\n",
    "            end\n",
    "        end\n",
    "        img\n",
    "    end\n",
    "end"
   ]
  },
  {
   "cell_type": "code",
   "execution_count": null,
   "metadata": {},
   "outputs": [],
   "source": [
    "nthreads()"
   ]
  }
 ],
 "metadata": {
  "anaconda-cloud": {},
  "kernelspec": {
   "display_name": "Julia 1.1.0-DEV",
   "language": "julia",
   "name": "julia-1.1"
  },
  "language_info": {
   "file_extension": ".jl",
   "mimetype": "application/julia",
   "name": "julia",
   "version": "1.1.0"
  },
  "widgets": {
   "state": {
    "094b0143-a91b-4189-9a7b-748238feab2c": {
     "views": [
      {
       "cell_index": 23
      }
     ]
    },
    "34b8826f-8197-4164-8813-20fd6d9efad7": {
     "views": [
      {
       "cell_index": 24
      }
     ]
    },
    "457990f3-828a-4d59-9b0b-40493cf00200": {
     "views": [
      {
       "cell_index": 23
      }
     ]
    },
    "942b54de-72d5-4622-9f32-3dfb9bc26575": {
     "views": [
      {
       "cell_index": 22
      }
     ]
    },
    "a7b686a9-d4e4-4210-aa7e-5e5f60181fd0": {
     "views": [
      {
       "cell_index": 24
      }
     ]
    },
    "c88baa0c-52f4-491e-b57c-e72d28649dc4": {
     "views": [
      {
       "cell_index": 22
      }
     ]
    }
   },
   "version": "1.2.0"
  }
 },
 "nbformat": 4,
 "nbformat_minor": 1
}
