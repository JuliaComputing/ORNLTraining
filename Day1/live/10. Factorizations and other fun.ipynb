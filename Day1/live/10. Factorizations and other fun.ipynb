{
 "cells": [
  {
   "cell_type": "markdown",
   "metadata": {},
   "source": [
    "# Factorizations and other fun\n",
    "Based on work by Andreas Noack\n",
    "\n",
    "## Outline\n",
    " - Factorizations\n",
    " - Special matrix structures\n",
    " - Generic linear algebra"
   ]
  },
  {
   "cell_type": "markdown",
   "metadata": {},
   "source": [
    "Before we get started, let's set up a linear system and use `LinearAlgebra` to bring in the factorizations and special matrix structures."
   ]
  },
  {
   "cell_type": "code",
   "execution_count": 1,
   "metadata": {},
   "outputs": [
    {
     "data": {
      "text/plain": [
       "3-element Array{Float64,1}:\n",
       " 1.8569052513607969\n",
       " 1.4435006853770964\n",
       " 1.5570405899570547"
      ]
     },
     "execution_count": 1,
     "metadata": {},
     "output_type": "execute_result"
    }
   ],
   "source": [
    "using LinearAlgebra\n",
    "A = rand(3, 3)\n",
    "x = fill(1, (3,))\n",
    "b = A * x"
   ]
  },
  {
   "cell_type": "markdown",
   "metadata": {},
   "source": [
    "## Factorizations\n",
    "\n",
    "#### LU factorizations\n",
    "In Julia we can perform an LU factorization\n",
    "```julia\n",
    "PA = LU\n",
    "``` \n",
    "where `P` is a permutation matrix, `L` is lower triangular unit diagonal and `U` is upper triangular, using `lufact`.\n",
    "\n",
    "Julia allows computing the LU factorization and defines a composite factorization type for storing it."
   ]
  },
  {
   "cell_type": "code",
   "execution_count": 2,
   "metadata": {},
   "outputs": [
    {
     "data": {
      "text/plain": [
       "LU{Float64,Array{Float64,2}}\n",
       "L factor:\n",
       "3×3 Array{Float64,2}:\n",
       " 1.0       0.0       0.0\n",
       " 0.855966  1.0       0.0\n",
       " 0.54739   0.402517  1.0\n",
       "U factor:\n",
       "3×3 Array{Float64,2}:\n",
       " 0.888313  0.00191593   0.966677\n",
       " 0.0       0.376817    -0.522763\n",
       " 0.0       0.0          0.599336"
      ]
     },
     "execution_count": 2,
     "metadata": {},
     "output_type": "execute_result"
    }
   ],
   "source": [
    "Alu = lu(A)"
   ]
  },
  {
   "cell_type": "code",
   "execution_count": 3,
   "metadata": {},
   "outputs": [
    {
     "data": {
      "text/plain": [
       "LU{Float64,Array{Float64,2}}"
      ]
     },
     "execution_count": 3,
     "metadata": {},
     "output_type": "execute_result"
    }
   ],
   "source": [
    "typeof(Alu)"
   ]
  },
  {
   "cell_type": "markdown",
   "metadata": {},
   "source": [
    "The different parts of the factorization can be extracted by accessing their special properties"
   ]
  },
  {
   "cell_type": "code",
   "execution_count": 4,
   "metadata": {},
   "outputs": [
    {
     "data": {
      "text/plain": [
       "3×3 Array{Float64,2}:\n",
       " 1.0  0.0  0.0\n",
       " 0.0  1.0  0.0\n",
       " 0.0  0.0  1.0"
      ]
     },
     "execution_count": 4,
     "metadata": {},
     "output_type": "execute_result"
    }
   ],
   "source": [
    "Alu.P"
   ]
  },
  {
   "cell_type": "code",
   "execution_count": 5,
   "metadata": {},
   "outputs": [
    {
     "data": {
      "text/plain": [
       "3×3 Array{Float64,2}:\n",
       " 1.0       0.0       0.0\n",
       " 0.855966  1.0       0.0\n",
       " 0.54739   0.402517  1.0"
      ]
     },
     "execution_count": 5,
     "metadata": {},
     "output_type": "execute_result"
    }
   ],
   "source": [
    "Alu.L"
   ]
  },
  {
   "cell_type": "code",
   "execution_count": 6,
   "metadata": {},
   "outputs": [
    {
     "data": {
      "text/plain": [
       "3×3 Array{Float64,2}:\n",
       " 0.888313  0.00191593   0.966677\n",
       " 0.0       0.376817    -0.522763\n",
       " 0.0       0.0          0.599336"
      ]
     },
     "execution_count": 6,
     "metadata": {},
     "output_type": "execute_result"
    }
   ],
   "source": [
    "Alu.U"
   ]
  },
  {
   "cell_type": "markdown",
   "metadata": {},
   "source": [
    "Julia can dispatch methods on factorization objects.\n",
    "\n",
    "For example, we can solve the linear system using either the original matrix or the factorization object."
   ]
  },
  {
   "cell_type": "code",
   "execution_count": 7,
   "metadata": {},
   "outputs": [
    {
     "data": {
      "text/plain": [
       "3-element Array{Float64,1}:\n",
       " 1.0               \n",
       " 1.0000000000000002\n",
       " 1.0               "
      ]
     },
     "execution_count": 7,
     "metadata": {},
     "output_type": "execute_result"
    }
   ],
   "source": [
    "A\\b"
   ]
  },
  {
   "cell_type": "code",
   "execution_count": 8,
   "metadata": {},
   "outputs": [
    {
     "data": {
      "text/plain": [
       "3-element Array{Float64,1}:\n",
       " 1.0               \n",
       " 1.0000000000000002\n",
       " 1.0               "
      ]
     },
     "execution_count": 8,
     "metadata": {},
     "output_type": "execute_result"
    }
   ],
   "source": [
    "Alu\\b"
   ]
  },
  {
   "cell_type": "markdown",
   "metadata": {},
   "source": [
    "Similarly, we can calculate the determinant of `A` using either `A` or the factorization object"
   ]
  },
  {
   "cell_type": "code",
   "execution_count": 10,
   "metadata": {},
   "outputs": [
    {
     "data": {
      "text/plain": [
       "true"
      ]
     },
     "execution_count": 10,
     "metadata": {},
     "output_type": "execute_result"
    }
   ],
   "source": [
    "det(A) == det(Alu)"
   ]
  },
  {
   "cell_type": "markdown",
   "metadata": {},
   "source": [
    "#### QR factorizations\n",
    "\n",
    "In Julia we can perform a QR factorization\n",
    "```\n",
    "A=QR\n",
    "``` \n",
    "\n",
    "where `Q` is unitary/orthogonal and `R` is upper triangular, using `qrfact`. "
   ]
  },
  {
   "cell_type": "code",
   "execution_count": 11,
   "metadata": {},
   "outputs": [
    {
     "data": {
      "text/plain": [
       "LinearAlgebra.QRCompactWY{Float64,Array{Float64,2}}\n",
       "Q factor:\n",
       "3×3 LinearAlgebra.QRCompactWYQ{Float64,Array{Float64,2}}:\n",
       " -0.701463   0.688295  -0.184931\n",
       " -0.600428  -0.71051   -0.366962\n",
       " -0.383974  -0.146373   0.911668\n",
       "R factor:\n",
       "3×3 Array{Float64,2}:\n",
       " -1.26637  -0.287222  -1.21354 \n",
       "  0.0      -0.289933   0.314502\n",
       "  0.0       0.0        0.546396"
      ]
     },
     "execution_count": 11,
     "metadata": {},
     "output_type": "execute_result"
    }
   ],
   "source": [
    "Aqr = qr(A)"
   ]
  },
  {
   "cell_type": "markdown",
   "metadata": {},
   "source": [
    "Similarly to the LU factorization, the matrices `Q` and `R` can be extracted from the QR factorization object via"
   ]
  },
  {
   "cell_type": "code",
   "execution_count": 12,
   "metadata": {},
   "outputs": [
    {
     "data": {
      "text/plain": [
       "3×3 LinearAlgebra.QRCompactWYQ{Float64,Array{Float64,2}}:\n",
       " -0.701463   0.688295  -0.184931\n",
       " -0.600428  -0.71051   -0.366962\n",
       " -0.383974  -0.146373   0.911668"
      ]
     },
     "execution_count": 12,
     "metadata": {},
     "output_type": "execute_result"
    }
   ],
   "source": [
    "Aqr.Q"
   ]
  },
  {
   "cell_type": "code",
   "execution_count": 13,
   "metadata": {},
   "outputs": [
    {
     "data": {
      "text/plain": [
       "3×3 Array{Float64,2}:\n",
       " -1.26637  -0.287222  -1.21354 \n",
       "  0.0      -0.289933   0.314502\n",
       "  0.0       0.0        0.546396"
      ]
     },
     "execution_count": 13,
     "metadata": {},
     "output_type": "execute_result"
    }
   ],
   "source": [
    "Aqr.R"
   ]
  },
  {
   "cell_type": "markdown",
   "metadata": {},
   "source": [
    "#### Eigendecompositions"
   ]
  },
  {
   "cell_type": "markdown",
   "metadata": {},
   "source": [
    "The results from eigendecompositions, singular value decompositions, Hessenberg factorizations, and Schur decompositions are all stored in `Factorization` types.\n",
    "\n",
    "The eigendecomposition can be computed"
   ]
  },
  {
   "cell_type": "code",
   "execution_count": 14,
   "metadata": {},
   "outputs": [
    {
     "data": {
      "text/plain": [
       "Eigen{Float64,Float64,Array{Float64,2},Array{Float64,1}}\n",
       "eigenvalues:\n",
       "3-element Array{Float64,1}:\n",
       " 0.19566171494095277\n",
       " 0.6458510681219253 \n",
       " 3.528152532854935  \n",
       "eigenvectors:\n",
       "3×3 Array{Float64,2}:\n",
       "  0.688659  -0.243637  -0.682928\n",
       " -0.567115  -0.767863  -0.297937\n",
       " -0.451807   0.592476  -0.666966"
      ]
     },
     "execution_count": 14,
     "metadata": {},
     "output_type": "execute_result"
    }
   ],
   "source": [
    "Asym = A + A'\n",
    "AsymEig = eigen(Asym)"
   ]
  },
  {
   "cell_type": "markdown",
   "metadata": {},
   "source": [
    "The values and the vectors can be extracted from the Eigen type by special indexing"
   ]
  },
  {
   "cell_type": "code",
   "execution_count": 15,
   "metadata": {},
   "outputs": [
    {
     "data": {
      "text/plain": [
       "3-element Array{Float64,1}:\n",
       " 0.19566171494095277\n",
       " 0.6458510681219253 \n",
       " 3.528152532854935  "
      ]
     },
     "execution_count": 15,
     "metadata": {},
     "output_type": "execute_result"
    }
   ],
   "source": [
    "AsymEig.values"
   ]
  },
  {
   "cell_type": "code",
   "execution_count": 16,
   "metadata": {},
   "outputs": [
    {
     "data": {
      "text/plain": [
       "3×3 Array{Float64,2}:\n",
       "  0.688659  -0.243637  -0.682928\n",
       " -0.567115  -0.767863  -0.297937\n",
       " -0.451807   0.592476  -0.666966"
      ]
     },
     "execution_count": 16,
     "metadata": {},
     "output_type": "execute_result"
    }
   ],
   "source": [
    "AsymEig.vectors"
   ]
  },
  {
   "cell_type": "markdown",
   "metadata": {},
   "source": [
    "Once again, when the factorization is stored in a type, we can dispatch on it and write specialized methods that exploit the properties of the factorization, e.g. that $A^{-1}=(V\\Lambda V^{-1})^{-1}=V\\Lambda^{-1}V^{-1}$."
   ]
  },
  {
   "cell_type": "code",
   "execution_count": 18,
   "metadata": {},
   "outputs": [
    {
     "data": {
      "text/plain": [
       "3×3 Array{Float64,2}:\n",
       "  1.0           1.33227e-15  -4.44089e-16\n",
       "  9.99201e-16   1.0          -2.22045e-16\n",
       " -8.88178e-16  -1.66533e-15   1.0        "
      ]
     },
     "execution_count": 18,
     "metadata": {},
     "output_type": "execute_result"
    }
   ],
   "source": [
    "inv(AsymEig)*Asym"
   ]
  },
  {
   "cell_type": "markdown",
   "metadata": {},
   "source": [
    "## Special matrix structures\n",
    "Matrix structure is very important in linear algebra. To see *how* important it is, let's work with a larger linear system"
   ]
  },
  {
   "cell_type": "code",
   "execution_count": 19,
   "metadata": {},
   "outputs": [],
   "source": [
    "n = 1000\n",
    "A = randn(n,n);"
   ]
  },
  {
   "cell_type": "markdown",
   "metadata": {},
   "source": [
    "Julia can often infer special matrix structure"
   ]
  },
  {
   "cell_type": "code",
   "execution_count": 20,
   "metadata": {},
   "outputs": [
    {
     "data": {
      "text/plain": [
       "true"
      ]
     },
     "execution_count": 20,
     "metadata": {},
     "output_type": "execute_result"
    }
   ],
   "source": [
    "Asym = A + A'\n",
    "issymmetric(Asym)"
   ]
  },
  {
   "cell_type": "markdown",
   "metadata": {},
   "source": [
    "but sometimes floating point error might get in the way."
   ]
  },
  {
   "cell_type": "code",
   "execution_count": 21,
   "metadata": {},
   "outputs": [
    {
     "data": {
      "text/plain": [
       "0.28121166368078815"
      ]
     },
     "execution_count": 21,
     "metadata": {},
     "output_type": "execute_result"
    }
   ],
   "source": [
    "Asym_noisy = copy(Asym)\n",
    "Asym_noisy[1,2] += 5eps()"
   ]
  },
  {
   "cell_type": "code",
   "execution_count": 22,
   "metadata": {},
   "outputs": [
    {
     "data": {
      "text/plain": [
       "false"
      ]
     },
     "execution_count": 22,
     "metadata": {},
     "output_type": "execute_result"
    }
   ],
   "source": [
    "issymmetric(Asym_noisy)"
   ]
  },
  {
   "cell_type": "markdown",
   "metadata": {},
   "source": [
    "Luckily we can declare structure explicitly with, for example, `Diagonal`, `Triangular`, `Symmetric`, `Hermitian`, `Tridiagonal` and `SymTridiagonal`."
   ]
  },
  {
   "cell_type": "code",
   "execution_count": 23,
   "metadata": {},
   "outputs": [
    {
     "name": "stdout",
     "output_type": "stream",
     "text": [
      "search: \u001b[0m\u001b[1mS\u001b[22m\u001b[0m\u001b[1my\u001b[22m\u001b[0m\u001b[1mm\u001b[22m\u001b[0m\u001b[1mm\u001b[22m\u001b[0m\u001b[1me\u001b[22m\u001b[0m\u001b[1mt\u001b[22m\u001b[0m\u001b[1mr\u001b[22m\u001b[0m\u001b[1mi\u001b[22m\u001b[0m\u001b[1mc\u001b[22m i\u001b[0m\u001b[1ms\u001b[22ms\u001b[0m\u001b[1my\u001b[22m\u001b[0m\u001b[1mm\u001b[22m\u001b[0m\u001b[1mm\u001b[22m\u001b[0m\u001b[1me\u001b[22m\u001b[0m\u001b[1mt\u001b[22m\u001b[0m\u001b[1mr\u001b[22m\u001b[0m\u001b[1mi\u001b[22m\u001b[0m\u001b[1mc\u001b[22m\n",
      "\n"
     ]
    },
    {
     "data": {
      "text/markdown": [
       "```\n",
       "Symmetric(A, uplo=:U)\n",
       "```\n",
       "\n",
       "Construct a `Symmetric` view of the upper (if `uplo = :U`) or lower (if `uplo = :L`) triangle of the matrix `A`.\n",
       "\n",
       "# Examples\n",
       "\n",
       "```jldoctest\n",
       "julia> A = [1 0 2 0 3; 0 4 0 5 0; 6 0 7 0 8; 0 9 0 1 0; 2 0 3 0 4]\n",
       "5×5 Array{Int64,2}:\n",
       " 1  0  2  0  3\n",
       " 0  4  0  5  0\n",
       " 6  0  7  0  8\n",
       " 0  9  0  1  0\n",
       " 2  0  3  0  4\n",
       "\n",
       "julia> Supper = Symmetric(A)\n",
       "5×5 Symmetric{Int64,Array{Int64,2}}:\n",
       " 1  0  2  0  3\n",
       " 0  4  0  5  0\n",
       " 2  0  7  0  8\n",
       " 0  5  0  1  0\n",
       " 3  0  8  0  4\n",
       "\n",
       "julia> Slower = Symmetric(A, :L)\n",
       "5×5 Symmetric{Int64,Array{Int64,2}}:\n",
       " 1  0  6  0  2\n",
       " 0  4  0  9  0\n",
       " 6  0  7  0  3\n",
       " 0  9  0  1  0\n",
       " 2  0  3  0  4\n",
       "```\n",
       "\n",
       "Note that `Supper` will not be equal to `Slower` unless `A` is itself symmetric (e.g. if `A == transpose(A)`).\n"
      ],
      "text/plain": [
       "\u001b[36m  Symmetric(A, uplo=:U)\u001b[39m\n",
       "\n",
       "  Construct a \u001b[36mSymmetric\u001b[39m view of the upper (if \u001b[36muplo = :U\u001b[39m) or lower (if \u001b[36muplo =\n",
       "  :L\u001b[39m) triangle of the matrix \u001b[36mA\u001b[39m.\n",
       "\n",
       "\u001b[1m  Examples\u001b[22m\n",
       "\u001b[1m  ≡≡≡≡≡≡≡≡≡≡\u001b[22m\n",
       "\n",
       "\u001b[36m  julia> A = [1 0 2 0 3; 0 4 0 5 0; 6 0 7 0 8; 0 9 0 1 0; 2 0 3 0 4]\u001b[39m\n",
       "\u001b[36m  5×5 Array{Int64,2}:\u001b[39m\n",
       "\u001b[36m   1  0  2  0  3\u001b[39m\n",
       "\u001b[36m   0  4  0  5  0\u001b[39m\n",
       "\u001b[36m   6  0  7  0  8\u001b[39m\n",
       "\u001b[36m   0  9  0  1  0\u001b[39m\n",
       "\u001b[36m   2  0  3  0  4\u001b[39m\n",
       "\u001b[36m  \u001b[39m\n",
       "\u001b[36m  julia> Supper = Symmetric(A)\u001b[39m\n",
       "\u001b[36m  5×5 Symmetric{Int64,Array{Int64,2}}:\u001b[39m\n",
       "\u001b[36m   1  0  2  0  3\u001b[39m\n",
       "\u001b[36m   0  4  0  5  0\u001b[39m\n",
       "\u001b[36m   2  0  7  0  8\u001b[39m\n",
       "\u001b[36m   0  5  0  1  0\u001b[39m\n",
       "\u001b[36m   3  0  8  0  4\u001b[39m\n",
       "\u001b[36m  \u001b[39m\n",
       "\u001b[36m  julia> Slower = Symmetric(A, :L)\u001b[39m\n",
       "\u001b[36m  5×5 Symmetric{Int64,Array{Int64,2}}:\u001b[39m\n",
       "\u001b[36m   1  0  6  0  2\u001b[39m\n",
       "\u001b[36m   0  4  0  9  0\u001b[39m\n",
       "\u001b[36m   6  0  7  0  3\u001b[39m\n",
       "\u001b[36m   0  9  0  1  0\u001b[39m\n",
       "\u001b[36m   2  0  3  0  4\u001b[39m\n",
       "\n",
       "  Note that \u001b[36mSupper\u001b[39m will not be equal to \u001b[36mSlower\u001b[39m unless \u001b[36mA\u001b[39m is itself symmetric\n",
       "  (e.g. if \u001b[36mA == transpose(A)\u001b[39m)."
      ]
     },
     "execution_count": 23,
     "metadata": {},
     "output_type": "execute_result"
    }
   ],
   "source": [
    "?Symmetric"
   ]
  },
  {
   "cell_type": "code",
   "execution_count": 25,
   "metadata": {},
   "outputs": [
    {
     "data": {
      "text/plain": [
       "1000×1000 Symmetric{Float64,Array{Float64,2}}:\n",
       "  3.67908     0.281212    0.385946   …  -0.167902   -0.637034   -2.11801  \n",
       "  0.281212    0.820701    0.801522       1.78756    -1.98148    -0.0943299\n",
       "  0.385946    0.801522   -4.09416       -0.354785   -1.54445     0.137818 \n",
       "  1.25749    -1.88387    -0.165771       1.95611     0.485965   -0.491188 \n",
       "  1.1032     -2.86652     2.12382        0.22963    -0.58062    -0.387873 \n",
       " -0.226168    0.247323    0.362259   …  -0.447125   -0.957669    0.158319 \n",
       "  0.201396    2.21439    -1.43376       -0.808806   -0.72335    -1.26078  \n",
       " -1.58761     0.561689   -0.0653849     -1.78711     0.383983    0.793298 \n",
       " -1.91315    -0.0734975   0.484143       1.47337    -0.625338   -1.08886  \n",
       " -0.974388   -3.28833     0.39747        1.68167    -2.32289     1.33097  \n",
       " -0.174364    1.11363     0.850635   …  -0.0297972   1.36081    -0.0907651\n",
       "  2.21165     0.350801   -0.726477      -2.9432     -0.32611     1.54643  \n",
       " -1.967       0.0101535   1.49311        1.29642     0.497942   -0.897497 \n",
       "  ⋮                                  ⋱                                    \n",
       "  1.3808      0.979395   -1.2655         0.468965    0.213614   -1.39773  \n",
       " -0.781615   -0.731018   -1.13662       -0.880501   -0.503607   -0.275224 \n",
       " -1.03989     1.13159    -0.0935669  …  -1.98071     0.203993   -0.247824 \n",
       " -0.855901   -2.03144    -0.253604       0.39953    -1.83804    -1.92375  \n",
       " -0.935613    1.99214     2.3173        -0.803922   -0.318043   -1.37773  \n",
       "  0.303326    0.414053   -0.632929      -0.0732966  -1.60918    -0.762751 \n",
       " -2.13604     0.270815    0.965018      -2.86983     0.088229    4.43262  \n",
       " -0.0649313   0.65887     3.0071     …  -0.60419     0.892866   -2.8215   \n",
       "  1.49727     1.48895    -0.15841        0.711901    0.33412     0.0357352\n",
       " -0.167902    1.78756    -0.354785       0.159123    0.283519    0.479631 \n",
       " -0.637034   -1.98148    -1.54445        0.283519   -1.12171     0.0657624\n",
       " -2.11801    -0.0943299   0.137818       0.479631    0.0657624  -1.29921  "
      ]
     },
     "execution_count": 25,
     "metadata": {},
     "output_type": "execute_result"
    }
   ],
   "source": [
    "Asym_explicit = Symmetric(Asym_noisy)"
   ]
  },
  {
   "cell_type": "markdown",
   "metadata": {},
   "source": [
    "Let's compare how long it takes Julia to compute the eigenvalues of `Asym`, `Asym_noisy`, and `Asym_explicit`"
   ]
  },
  {
   "cell_type": "code",
   "execution_count": 32,
   "metadata": {},
   "outputs": [
    {
     "name": "stdout",
     "output_type": "stream",
     "text": [
      "  0.262729 seconds (16 allocations: 7.989 MiB, 1.58% gc time)\n"
     ]
    }
   ],
   "source": [
    "@time eigvals(Asym);"
   ]
  },
  {
   "cell_type": "code",
   "execution_count": 30,
   "metadata": {},
   "outputs": [
    {
     "name": "stdout",
     "output_type": "stream",
     "text": [
      "  1.419182 seconds (18 allocations: 7.921 MiB)\n"
     ]
    }
   ],
   "source": [
    "@time eigvals(Asym_noisy);"
   ]
  },
  {
   "cell_type": "code",
   "execution_count": 33,
   "metadata": {},
   "outputs": [
    {
     "name": "stdout",
     "output_type": "stream",
     "text": [
      "  0.160697 seconds (16 allocations: 7.989 MiB)\n"
     ]
    }
   ],
   "source": [
    "@time eigvals(Asym_explicit);"
   ]
  },
  {
   "cell_type": "markdown",
   "metadata": {},
   "source": [
    "In this example, using `Symmetric()` on `Asym_noisy` made our calculations about `5x` more efficient :)"
   ]
  },
  {
   "cell_type": "markdown",
   "metadata": {},
   "source": [
    "#### A big problem\n",
    "Using the `Tridiagonal` and `SymTridiagonal` types to store tridiagonal matrices makes it possible to work with potentially very large tridiagonal problems. The following problem would not be possible to solve on a laptop if the matrix had to be stored as a (dense) `Matrix` type."
   ]
  },
  {
   "cell_type": "code",
   "execution_count": 35,
   "metadata": {},
   "outputs": [
    {
     "name": "stdout",
     "output_type": "stream",
     "text": [
      "  0.744087 seconds (49 allocations: 183.107 MiB, 8.98% gc time)\n"
     ]
    },
    {
     "data": {
      "text/plain": [
       "6.465312521764517"
      ]
     },
     "execution_count": 35,
     "metadata": {},
     "output_type": "execute_result"
    }
   ],
   "source": [
    "n = 1_000_000;\n",
    "A = SymTridiagonal(randn(n), randn(n-1));\n",
    "@time eigmax(A)"
   ]
  },
  {
   "cell_type": "code",
   "execution_count": 37,
   "metadata": {},
   "outputs": [
    {
     "name": "stdout",
     "output_type": "stream",
     "text": [
      "  0.733038 seconds (49 allocations: 183.107 MiB, 11.30% gc time)\n"
     ]
    },
    {
     "data": {
      "text/plain": [
       "6.465312521764517"
      ]
     },
     "execution_count": 37,
     "metadata": {},
     "output_type": "execute_result"
    }
   ],
   "source": [
    "@time eigmax(A)"
   ]
  },
  {
   "cell_type": "code",
   "execution_count": 38,
   "metadata": {},
   "outputs": [
    {
     "data": {
      "text/plain": [
       "1000000×1000000 SymTridiagonal{Float64,Array{Float64,1}}:\n",
       " 0.278628   0.997564   ⋅          ⋅        …    ⋅          ⋅         ⋅      \n",
       " 0.997564  -1.39328   0.706969    ⋅             ⋅          ⋅         ⋅      \n",
       "  ⋅         0.706969  0.103376   1.03975        ⋅          ⋅         ⋅      \n",
       "  ⋅          ⋅        1.03975    0.195276       ⋅          ⋅         ⋅      \n",
       "  ⋅          ⋅         ⋅        -1.30052        ⋅          ⋅         ⋅      \n",
       "  ⋅          ⋅         ⋅          ⋅        …    ⋅          ⋅         ⋅      \n",
       "  ⋅          ⋅         ⋅          ⋅             ⋅          ⋅         ⋅      \n",
       "  ⋅          ⋅         ⋅          ⋅             ⋅          ⋅         ⋅      \n",
       "  ⋅          ⋅         ⋅          ⋅             ⋅          ⋅         ⋅      \n",
       "  ⋅          ⋅         ⋅          ⋅             ⋅          ⋅         ⋅      \n",
       "  ⋅          ⋅         ⋅          ⋅        …    ⋅          ⋅         ⋅      \n",
       "  ⋅          ⋅         ⋅          ⋅             ⋅          ⋅         ⋅      \n",
       "  ⋅          ⋅         ⋅          ⋅             ⋅          ⋅         ⋅      \n",
       " ⋮                                         ⋱                                \n",
       "  ⋅          ⋅         ⋅          ⋅             ⋅          ⋅         ⋅      \n",
       "  ⋅          ⋅         ⋅          ⋅             ⋅          ⋅         ⋅      \n",
       "  ⋅          ⋅         ⋅          ⋅        …    ⋅          ⋅         ⋅      \n",
       "  ⋅          ⋅         ⋅          ⋅             ⋅          ⋅         ⋅      \n",
       "  ⋅          ⋅         ⋅          ⋅             ⋅          ⋅         ⋅      \n",
       "  ⋅          ⋅         ⋅          ⋅             ⋅          ⋅         ⋅      \n",
       "  ⋅          ⋅         ⋅          ⋅             ⋅          ⋅         ⋅      \n",
       "  ⋅          ⋅         ⋅          ⋅        …    ⋅          ⋅         ⋅      \n",
       "  ⋅          ⋅         ⋅          ⋅            1.83165     ⋅         ⋅      \n",
       "  ⋅          ⋅         ⋅          ⋅           -1.31593   -0.996216   ⋅      \n",
       "  ⋅          ⋅         ⋅          ⋅           -0.996216  -0.251006  0.522574\n",
       "  ⋅          ⋅         ⋅          ⋅             ⋅         0.522574  0.663064"
      ]
     },
     "execution_count": 38,
     "metadata": {},
     "output_type": "execute_result"
    }
   ],
   "source": [
    "A"
   ]
  },
  {
   "cell_type": "markdown",
   "metadata": {},
   "source": [
    "## Generic linear algebra\n",
    "The usual way of adding support for numerical linear algebra is by wrapping BLAS and LAPACK subroutines. For matrices with elements of `Float32`, `Float64`, `Complex{Float32}` or `Complex{Float64}` this is also what Julia does.\n",
    "\n",
    "However, Julia also supports generic linear algebra, allowing you to, for example, work with matrices and vectors of rational numbers."
   ]
  },
  {
   "cell_type": "code",
   "execution_count": null,
   "metadata": {},
   "outputs": [],
   "source": []
  },
  {
   "cell_type": "markdown",
   "metadata": {},
   "source": [
    "#### Rational numbers\n",
    "Julia has rational numbers built in. To construct a rational number, use double forward slashes:"
   ]
  },
  {
   "cell_type": "code",
   "execution_count": null,
   "metadata": {},
   "outputs": [],
   "source": [
    "1//2"
   ]
  },
  {
   "cell_type": "markdown",
   "metadata": {},
   "source": [
    "#### Example: Rational linear system of equations\n",
    "The following example shows how linear system of equations with rational elements can be solved without promoting to floating point element types. Overflow can easily become a problem when working with rational numbers so we use `BigInt`s."
   ]
  },
  {
   "cell_type": "code",
   "execution_count": 43,
   "metadata": {},
   "outputs": [
    {
     "data": {
      "text/plain": [
       "3×3 Array{Rational{BigInt},2}:\n",
       "  197//5000   8903//10000   297//10000\n",
       " 4317//10000   358//625    4719//10000\n",
       " 4571//5000    267//400    1941//10000"
      ]
     },
     "execution_count": 43,
     "metadata": {},
     "output_type": "execute_result"
    }
   ],
   "source": [
    "Arational = Matrix{Rational{BigInt}}(rand(1:10000, 3, 3))/10000"
   ]
  },
  {
   "cell_type": "code",
   "execution_count": 44,
   "metadata": {},
   "outputs": [
    {
     "data": {
      "text/plain": [
       "3-element Array{Rational{BigInt},1}:\n",
       " 4797//5000\n",
       " 3691//2500\n",
       " 8879//5000"
      ]
     },
     "execution_count": 44,
     "metadata": {},
     "output_type": "execute_result"
    }
   ],
   "source": [
    "x = fill(1, 3)\n",
    "b = Arational*x"
   ]
  },
  {
   "cell_type": "code",
   "execution_count": 45,
   "metadata": {},
   "outputs": [
    {
     "data": {
      "text/plain": [
       "3-element Array{Rational{BigInt},1}:\n",
       " 1//1\n",
       " 1//1\n",
       " 1//1"
      ]
     },
     "execution_count": 45,
     "metadata": {},
     "output_type": "execute_result"
    }
   ],
   "source": [
    "Arational\\b"
   ]
  },
  {
   "cell_type": "code",
   "execution_count": 46,
   "metadata": {},
   "outputs": [
    {
     "data": {
      "text/plain": [
       "LU{Rational{BigInt},Array{Rational{BigInt},2}}\n",
       "L factor:\n",
       "3×3 Array{Rational{BigInt},2}:\n",
       "    1//1           0//1         0//1\n",
       " 4317//394         1//1         0//1\n",
       " 4571//197  78761276//36177419  1//1\n",
       "U factor:\n",
       "3×3 Array{Rational{BigInt},2}:\n",
       " 197//5000       8903//10000             297//10000      \n",
       "   0//1     -36177419//3940000        577137//3940000    \n",
       "   0//1             0//1        -73614979767//90443547500"
      ]
     },
     "execution_count": 46,
     "metadata": {},
     "output_type": "execute_result"
    }
   ],
   "source": [
    "lu(Arational)"
   ]
  },
  {
   "cell_type": "code",
   "execution_count": 51,
   "metadata": {},
   "outputs": [
    {
     "data": {
      "text/plain": [
       "20×20 Array{Rational{BigInt},2}:\n",
       " 1//1   1//2   1//3   1//4   1//5   …  1//16  1//17  1//18  1//19  1//20\n",
       " 1//2   1//3   1//4   1//5   1//6      1//17  1//18  1//19  1//20  1//21\n",
       " 1//3   1//4   1//5   1//6   1//7      1//18  1//19  1//20  1//21  1//22\n",
       " 1//4   1//5   1//6   1//7   1//8      1//19  1//20  1//21  1//22  1//23\n",
       " 1//5   1//6   1//7   1//8   1//9      1//20  1//21  1//22  1//23  1//24\n",
       " 1//6   1//7   1//8   1//9   1//10  …  1//21  1//22  1//23  1//24  1//25\n",
       " 1//7   1//8   1//9   1//10  1//11     1//22  1//23  1//24  1//25  1//26\n",
       " 1//8   1//9   1//10  1//11  1//12     1//23  1//24  1//25  1//26  1//27\n",
       " 1//9   1//10  1//11  1//12  1//13     1//24  1//25  1//26  1//27  1//28\n",
       " 1//10  1//11  1//12  1//13  1//14     1//25  1//26  1//27  1//28  1//29\n",
       " 1//11  1//12  1//13  1//14  1//15  …  1//26  1//27  1//28  1//29  1//30\n",
       " 1//12  1//13  1//14  1//15  1//16     1//27  1//28  1//29  1//30  1//31\n",
       " 1//13  1//14  1//15  1//16  1//17     1//28  1//29  1//30  1//31  1//32\n",
       " 1//14  1//15  1//16  1//17  1//18     1//29  1//30  1//31  1//32  1//33\n",
       " 1//15  1//16  1//17  1//18  1//19     1//30  1//31  1//32  1//33  1//34\n",
       " 1//16  1//17  1//18  1//19  1//20  …  1//31  1//32  1//33  1//34  1//35\n",
       " 1//17  1//18  1//19  1//20  1//21     1//32  1//33  1//34  1//35  1//36\n",
       " 1//18  1//19  1//20  1//21  1//22     1//33  1//34  1//35  1//36  1//37\n",
       " 1//19  1//20  1//21  1//22  1//23     1//34  1//35  1//36  1//37  1//38\n",
       " 1//20  1//21  1//22  1//23  1//24     1//35  1//36  1//37  1//38  1//39"
      ]
     },
     "execution_count": 51,
     "metadata": {},
     "output_type": "execute_result"
    }
   ],
   "source": [
    "H = [big(1)//(i+j-1) for i=1:20,j=1:20]"
   ]
  },
  {
   "cell_type": "code",
   "execution_count": 53,
   "metadata": {},
   "outputs": [
    {
     "data": {
      "text/plain": [
       "20×20 Array{Rational{BigInt},2}:\n",
       "              400//1  …               -1378465288200//1\n",
       "           -79800//1                 523816809516000//1\n",
       "          5266800//1              -49500688499262000//1\n",
       "       -171609900//1             2057028610969332000//1\n",
       "       3294910080//1           -47311658052294636000//1\n",
       "     -41186376000//1  …        681287875953042758400//1\n",
       "     356948592000//1         -6623632127321249040000//1\n",
       "   -2237302782000//1         45689544061930248480000//1\n",
       "   10440746316000//1       -231303316813521882930000//1\n",
       "  -37006645275600//1        879523723192157283240000//1\n",
       "  100927214388000//1  …   -2550618797257256121396000//1\n",
       " -213323430411000//1       5691463431896356634520000//1\n",
       "  350069219136000//1      -9801964799377058648340000//1\n",
       " -444318624288000//1      12991953343553024480640000//1\n",
       "  431623806451200//1     -13124524296038259424320000//1\n",
       " -314725692204000//1  …    9916307245895573787264000//1\n",
       "  166619484108000//1      -5422980525099141914910000//1\n",
       "  -60440401098000//1       2026580957476495940520000//1\n",
       "   13431200244000//1       -462861082880434258020000//1\n",
       "   -1378465288200//1         48722219250572027160000//1"
      ]
     },
     "execution_count": 53,
     "metadata": {},
     "output_type": "execute_result"
    }
   ],
   "source": [
    "inv(H)"
   ]
  },
  {
   "cell_type": "code",
   "execution_count": 54,
   "metadata": {},
   "outputs": [],
   "source": [
    "using Random"
   ]
  },
  {
   "cell_type": "code",
   "execution_count": 55,
   "metadata": {},
   "outputs": [
    {
     "data": {
      "text/markdown": [
       "```\n",
       "seed!([rng=GLOBAL_RNG], seed) -> rng\n",
       "seed!([rng=GLOBAL_RNG]) -> rng\n",
       "```\n",
       "\n",
       "Reseed the random number generator: `rng` will give a reproducible sequence of numbers if and only if a `seed` is provided. Some RNGs don't accept a seed, like `RandomDevice`. After the call to `seed!`, `rng` is equivalent to a newly created object initialized with the same seed.\n",
       "\n",
       "# Examples\n",
       "\n",
       "```julia-repl\n",
       "julia> Random.seed!(1234);\n",
       "\n",
       "julia> x1 = rand(2)\n",
       "2-element Array{Float64,1}:\n",
       " 0.590845\n",
       " 0.766797\n",
       "\n",
       "julia> Random.seed!(1234);\n",
       "\n",
       "julia> x2 = rand(2)\n",
       "2-element Array{Float64,1}:\n",
       " 0.590845\n",
       " 0.766797\n",
       "\n",
       "julia> x1 == x2\n",
       "true\n",
       "\n",
       "julia> rng = MersenneTwister(1234); rand(rng, 2) == x1\n",
       "true\n",
       "\n",
       "julia> MersenneTwister(1) == Random.seed!(rng, 1)\n",
       "true\n",
       "\n",
       "julia> rand(Random.seed!(rng), Bool) # not reproducible\n",
       "true\n",
       "\n",
       "julia> rand(Random.seed!(rng), Bool)\n",
       "false\n",
       "\n",
       "julia> rand(MersenneTwister(), Bool) # not reproducible either\n",
       "true\n",
       "```\n"
      ],
      "text/plain": [
       "\u001b[36m  seed!([rng=GLOBAL_RNG], seed) -> rng\u001b[39m\n",
       "\u001b[36m  seed!([rng=GLOBAL_RNG]) -> rng\u001b[39m\n",
       "\n",
       "  Reseed the random number generator: \u001b[36mrng\u001b[39m will give a reproducible sequence of\n",
       "  numbers if and only if a \u001b[36mseed\u001b[39m is provided. Some RNGs don't accept a seed,\n",
       "  like \u001b[36mRandomDevice\u001b[39m. After the call to \u001b[36mseed!\u001b[39m, \u001b[36mrng\u001b[39m is equivalent to a newly\n",
       "  created object initialized with the same seed.\n",
       "\n",
       "\u001b[1m  Examples\u001b[22m\n",
       "\u001b[1m  ≡≡≡≡≡≡≡≡≡≡\u001b[22m\n",
       "\n",
       "\u001b[36m  julia> Random.seed!(1234);\u001b[39m\n",
       "\u001b[36m  \u001b[39m\n",
       "\u001b[36m  julia> x1 = rand(2)\u001b[39m\n",
       "\u001b[36m  2-element Array{Float64,1}:\u001b[39m\n",
       "\u001b[36m   0.590845\u001b[39m\n",
       "\u001b[36m   0.766797\u001b[39m\n",
       "\u001b[36m  \u001b[39m\n",
       "\u001b[36m  julia> Random.seed!(1234);\u001b[39m\n",
       "\u001b[36m  \u001b[39m\n",
       "\u001b[36m  julia> x2 = rand(2)\u001b[39m\n",
       "\u001b[36m  2-element Array{Float64,1}:\u001b[39m\n",
       "\u001b[36m   0.590845\u001b[39m\n",
       "\u001b[36m   0.766797\u001b[39m\n",
       "\u001b[36m  \u001b[39m\n",
       "\u001b[36m  julia> x1 == x2\u001b[39m\n",
       "\u001b[36m  true\u001b[39m\n",
       "\u001b[36m  \u001b[39m\n",
       "\u001b[36m  julia> rng = MersenneTwister(1234); rand(rng, 2) == x1\u001b[39m\n",
       "\u001b[36m  true\u001b[39m\n",
       "\u001b[36m  \u001b[39m\n",
       "\u001b[36m  julia> MersenneTwister(1) == Random.seed!(rng, 1)\u001b[39m\n",
       "\u001b[36m  true\u001b[39m\n",
       "\u001b[36m  \u001b[39m\n",
       "\u001b[36m  julia> rand(Random.seed!(rng), Bool) # not reproducible\u001b[39m\n",
       "\u001b[36m  true\u001b[39m\n",
       "\u001b[36m  \u001b[39m\n",
       "\u001b[36m  julia> rand(Random.seed!(rng), Bool)\u001b[39m\n",
       "\u001b[36m  false\u001b[39m\n",
       "\u001b[36m  \u001b[39m\n",
       "\u001b[36m  julia> rand(MersenneTwister(), Bool) # not reproducible either\u001b[39m\n",
       "\u001b[36m  true\u001b[39m"
      ]
     },
     "execution_count": 55,
     "metadata": {},
     "output_type": "execute_result"
    }
   ],
   "source": [
    "?Random.seed!"
   ]
  },
  {
   "cell_type": "markdown",
   "metadata": {},
   "source": [
    "### Exercises\n",
    "\n",
    "#### 11.1\n",
    "What are the eigenvalues of matrix A?\n",
    "\n",
    "```\n",
    "A =\n",
    "[\n",
    " 140   97   74  168  131\n",
    "  97  106   89  131   36\n",
    "  74   89  152  144   71\n",
    " 168  131  144   54  142\n",
    " 131   36   71  142   36\n",
    "]\n",
    "```\n",
    "and assign it a variable `A_eigv`"
   ]
  },
  {
   "cell_type": "code",
   "execution_count": null,
   "metadata": {},
   "outputs": [],
   "source": [
    "using LinearAlgebra"
   ]
  },
  {
   "cell_type": "code",
   "execution_count": 56,
   "metadata": {},
   "outputs": [
    {
     "data": {
      "text/plain": [
       "5×5 Array{Int64,2}:\n",
       " 140   97   74  168  131\n",
       "  97  106   89  131   36\n",
       "  74   89  152  144   71\n",
       " 168  131  144   54  142\n",
       " 131   36   71  142   36"
      ]
     },
     "execution_count": 56,
     "metadata": {},
     "output_type": "execute_result"
    }
   ],
   "source": [
    "A =\n",
    "[\n",
    " 140   97   74  168  131\n",
    "  97  106   89  131   36\n",
    "  74   89  152  144   71\n",
    " 168  131  144   54  142\n",
    " 131   36   71  142   36\n",
    "]"
   ]
  },
  {
   "cell_type": "code",
   "execution_count": 57,
   "metadata": {},
   "outputs": [
    {
     "data": {
      "text/plain": [
       "5-element Array{Float64,1}:\n",
       " -128.49322764802145 \n",
       "  -55.887784553057   \n",
       "   42.752167279318854\n",
       "   87.16111477514494 \n",
       "  542.4677301466137  "
      ]
     },
     "execution_count": 57,
     "metadata": {},
     "output_type": "execute_result"
    }
   ],
   "source": [
    "A_eigv = eigen(A).values"
   ]
  },
  {
   "cell_type": "code",
   "execution_count": null,
   "metadata": {
    "deletable": false,
    "editable": false,
    "hide_input": true,
    "nbgrader": {
     "checksum": "f9f16fdef201ed372323a291f1dd1346",
     "grade": true,
     "grade_id": "cell-4d5f60c8a814c789",
     "locked": true,
     "points": 0,
     "schema_version": 1,
     "solution": false
    }
   },
   "outputs": [],
   "source": [
    "@assert A_eigv ==  [-128.49322764802145, -55.887784553056875, 42.7521672793189, 87.16111477514521, 542.4677301466143]"
   ]
  },
  {
   "cell_type": "markdown",
   "metadata": {},
   "source": [
    "#### 11.2 \n",
    "Create a `Diagonal` matrix from the eigenvalues of `A`."
   ]
  },
  {
   "cell_type": "code",
   "execution_count": 58,
   "metadata": {},
   "outputs": [
    {
     "data": {
      "text/plain": [
       "5×5 Diagonal{Float64,Array{Float64,1}}:\n",
       " -128.493     ⋅        ⋅        ⋅         ⋅   \n",
       "     ⋅     -55.8878    ⋅        ⋅         ⋅   \n",
       "     ⋅        ⋅      42.7522    ⋅         ⋅   \n",
       "     ⋅        ⋅        ⋅      87.1611     ⋅   \n",
       "     ⋅        ⋅        ⋅        ⋅      542.468"
      ]
     },
     "execution_count": 58,
     "metadata": {},
     "output_type": "execute_result"
    }
   ],
   "source": [
    "A_diag = Diagonal(A_eigv)"
   ]
  },
  {
   "cell_type": "code",
   "execution_count": null,
   "metadata": {
    "deletable": false,
    "editable": false,
    "hide_input": true,
    "nbgrader": {
     "checksum": "3ca676f6282c1a7c214ab2cb9f9b322d",
     "grade": true,
     "grade_id": "cell-3b000a3710c9c263",
     "locked": true,
     "points": 1,
     "schema_version": 1,
     "solution": false
    }
   },
   "outputs": [],
   "source": [
    "@assert A_diag ==  [-128.493    0.0      0.0      0.0       0.0;\n",
    "    0.0    -55.8878   0.0      0.0       0.0;\n",
    "    0.0      0.0     42.7522   0.0       0.0;\n",
    "    0.0      0.0      0.0     87.1611    0.0;\n",
    "    0.0 0.0      0.0      0.0     542.468]"
   ]
  },
  {
   "cell_type": "markdown",
   "metadata": {},
   "source": [
    "#### 11.3 \n",
    "Create a `LowerTriangular` matrix from `A` and store it in `A_lowertri`"
   ]
  },
  {
   "cell_type": "code",
   "execution_count": 59,
   "metadata": {},
   "outputs": [
    {
     "data": {
      "text/plain": [
       "5×5 LowerTriangular{Int64,Array{Int64,2}}:\n",
       " 140    ⋅    ⋅    ⋅   ⋅\n",
       "  97  106    ⋅    ⋅   ⋅\n",
       "  74   89  152    ⋅   ⋅\n",
       " 168  131  144   54   ⋅\n",
       " 131   36   71  142  36"
      ]
     },
     "execution_count": 59,
     "metadata": {},
     "output_type": "execute_result"
    }
   ],
   "source": [
    "A_lowertri = LowerTriangular(A)"
   ]
  },
  {
   "cell_type": "code",
   "execution_count": null,
   "metadata": {
    "deletable": false,
    "editable": false,
    "hide_input": true,
    "nbgrader": {
     "checksum": "b3b1a272343a05082f378a5e1aa3426d",
     "grade": true,
     "grade_id": "cell-b76cee2b4a8777da",
     "locked": true,
     "points": 0,
     "schema_version": 1,
     "solution": false
    }
   },
   "outputs": [],
   "source": [
    "@assert A_lowertri ==  [140    0    0    0   0;\n",
    "  97  106    0    0   0;\n",
    "  74   89  152    0   0;\n",
    " 168  131  144   54   0;\n",
    " 131   36   71  142  36]"
   ]
  },
  {
   "cell_type": "markdown",
   "metadata": {},
   "source": [
    "Please click on `Validate` on the top, once you are done with the exercises."
   ]
  }
 ],
 "metadata": {
  "kernelspec": {
   "display_name": "Julia 1.1.0-DEV",
   "language": "julia",
   "name": "julia-1.1"
  },
  "language": "Julia",
  "language_info": {
   "file_extension": ".jl",
   "mimetype": "application/julia",
   "name": "julia",
   "version": "1.0.2"
  }
 },
 "nbformat": 4,
 "nbformat_minor": 1
}
