{
 "cells": [
  {
   "cell_type": "markdown",
   "metadata": {},
   "source": [
    "## Calling libc\n",
    "\n",
    "Or anything else that's linked into your process memory."
   ]
  },
  {
   "cell_type": "code",
   "execution_count": null,
   "metadata": {},
   "outputs": [],
   "source": [
    "ccall(:puts, Cint, (Cstring,), \"Hello\")"
   ]
  },
  {
   "cell_type": "code",
   "execution_count": null,
   "metadata": {},
   "outputs": [],
   "source": [
    "@time ccall(:sleep, Cuint, (Cuint,), 3)"
   ]
  },
  {
   "cell_type": "markdown",
   "metadata": {},
   "source": [
    "## Calling shared libraries"
   ]
  },
  {
   "cell_type": "markdown",
   "metadata": {},
   "source": [
    "Let's compile a little C program as a shared library:"
   ]
  },
  {
   "cell_type": "code",
   "execution_count": null,
   "metadata": {},
   "outputs": [],
   "source": [
    ";cat hello.c"
   ]
  },
  {
   "cell_type": "code",
   "execution_count": null,
   "metadata": {},
   "outputs": [],
   "source": [
    ";gcc -shared -fPIC -o libhello.so hello.c"
   ]
  },
  {
   "cell_type": "code",
   "execution_count": null,
   "metadata": {},
   "outputs": [],
   "source": [
    "ccall((:hello, \"./libhello.so\"), Cvoid, (Cstring,), \"ORNL\")"
   ]
  },
  {
   "cell_type": "code",
   "execution_count": null,
   "metadata": {},
   "outputs": [],
   "source": [
    "ccall((:hello, \"./libhello.so\"), Cvoid, (Cstring,), \"Greg\")"
   ]
  },
  {
   "cell_type": "code",
   "execution_count": null,
   "metadata": {},
   "outputs": [],
   "source": [
    "floatmax()"
   ]
  },
  {
   "cell_type": "code",
   "execution_count": null,
   "metadata": {},
   "outputs": [],
   "source": [
    "ccall((:sqr, \"./libhello.so\"), Cdouble, (Cdouble,), sqrt(floatmax()))"
   ]
  },
  {
   "cell_type": "markdown",
   "metadata": {},
   "source": [
    "## Callbacks: calling Julia from C"
   ]
  },
  {
   "cell_type": "code",
   "execution_count": null,
   "metadata": {},
   "outputs": [],
   "source": [
    "T = Float64\n",
    "\n",
    "# C-friendly callback function\n",
    "function callback(p_a::Ptr{T}, p_b::Ptr{T})::Cint\n",
    "    a = unsafe_load(p_a)\n",
    "    b = unsafe_load(p_b)\n",
    "    a < b ? -1 : b < a ? 1 : 0\n",
    "end"
   ]
  },
  {
   "cell_type": "code",
   "execution_count": null,
   "metadata": {},
   "outputs": [],
   "source": [
    "p = [1.2, 3.4]"
   ]
  },
  {
   "cell_type": "code",
   "execution_count": null,
   "metadata": {},
   "outputs": [],
   "source": [
    "p_a = pointer(p, 1)\n",
    "p_b = pointer(p, 2)\n",
    "callback(p_b, p_a)"
   ]
  },
  {
   "cell_type": "code",
   "execution_count": null,
   "metadata": {},
   "outputs": [],
   "source": [
    "# get C-callable function pointer\n",
    "p_callback = @cfunction(callback, Cint, (Ptr{T}, Ptr{T}))"
   ]
  },
  {
   "cell_type": "code",
   "execution_count": null,
   "metadata": {},
   "outputs": [],
   "source": [
    "A = randn(10)"
   ]
  },
  {
   "cell_type": "code",
   "execution_count": null,
   "metadata": {},
   "outputs": [],
   "source": [
    "# call C's qsort function\n",
    "ccall(:qsort, Cvoid,\n",
    "    (Ptr{T}, Csize_t, Csize_t, Ptr{Cvoid}),\n",
    "    A, length(A), sizeof(T), p_callback)"
   ]
  },
  {
   "cell_type": "code",
   "execution_count": null,
   "metadata": {},
   "outputs": [],
   "source": [
    "A"
   ]
  },
  {
   "cell_type": "code",
   "execution_count": null,
   "metadata": {},
   "outputs": [],
   "source": [
    "function qsort!((<)::Function, A::Vector{T}) where T\n",
    "\n",
    "    # C-friendly callback function\n",
    "    function callback(p_a::Ptr{T}, p_b::Ptr{T})::Cint\n",
    "        a = unsafe_load(p_a)\n",
    "        b = unsafe_load(p_b)\n",
    "        a < b ? -1 : b < a ? 1 : 0\n",
    "    end\n",
    "\n",
    "    # get C-callable function pointer\n",
    "    p_callback = @cfunction($callback, Cint, (Ptr{T}, Ptr{T}))\n",
    "\n",
    "    # call C's qsort function\n",
    "    ccall(:qsort, Cvoid,\n",
    "        (Ptr{T}, Csize_t, Csize_t, Ptr{Cvoid}),\n",
    "        A, length(A), sizeof(T), p_callback)\n",
    "    \n",
    "    return A\n",
    "end\n",
    "\n",
    "# default comparison by `isless` function\n",
    "qsort!(A::Vector) = qsort!(isless, A)"
   ]
  },
  {
   "cell_type": "code",
   "execution_count": null,
   "metadata": {},
   "outputs": [],
   "source": [
    "A = randn(10)"
   ]
  },
  {
   "cell_type": "code",
   "execution_count": null,
   "metadata": {},
   "outputs": [],
   "source": [
    "qsort!(A)"
   ]
  },
  {
   "cell_type": "code",
   "execution_count": null,
   "metadata": {},
   "outputs": [],
   "source": [
    "qsort!((x,y)->abs(y) < abs(x), A)"
   ]
  },
  {
   "cell_type": "code",
   "execution_count": null,
   "metadata": {},
   "outputs": [],
   "source": [
    "absgt(x, y) = abs(y) < abs(x)"
   ]
  },
  {
   "cell_type": "code",
   "execution_count": null,
   "metadata": {},
   "outputs": [],
   "source": [
    "qsort!(absgt, A)"
   ]
  },
  {
   "cell_type": "code",
   "execution_count": null,
   "metadata": {},
   "outputs": [],
   "source": [
    "B = rand(-10:10, 20)"
   ]
  },
  {
   "cell_type": "code",
   "execution_count": null,
   "metadata": {},
   "outputs": [],
   "source": [
    "qsort!(B)"
   ]
  },
  {
   "cell_type": "code",
   "execution_count": null,
   "metadata": {},
   "outputs": [],
   "source": [
    "qsort!((x, y)->abs(y) < abs(x), B)"
   ]
  },
  {
   "cell_type": "code",
   "execution_count": null,
   "metadata": {},
   "outputs": [],
   "source": [
    "qsort!(absgt, B)"
   ]
  },
  {
   "cell_type": "markdown",
   "metadata": {},
   "source": [
    "## Embedding Julia in C/Fortran\n",
    "\n",
    "See https://docs.julialang.org/en/latest/manual/embedding/"
   ]
  },
  {
   "cell_type": "code",
   "execution_count": null,
   "metadata": {},
   "outputs": [],
   "source": []
  }
 ],
 "metadata": {
  "kernelspec": {
   "display_name": "Julia 1.1.0-DEV",
   "language": "julia",
   "name": "julia-1.1"
  },
  "language_info": {
   "file_extension": ".jl",
   "mimetype": "application/julia",
   "name": "julia",
   "version": "1.0.2"
  }
 },
 "nbformat": 4,
 "nbformat_minor": 2
}
