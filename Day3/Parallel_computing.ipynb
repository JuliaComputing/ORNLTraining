{
 "cells": [
  {
   "cell_type": "markdown",
   "metadata": {},
   "source": [
    "# Parallel Computing"
   ]
  },
  {
   "cell_type": "markdown",
   "metadata": {},
   "source": [
    "## Processors and threads"
   ]
  },
  {
   "cell_type": "markdown",
   "metadata": {},
   "source": [
    "Every Julia session has some number of *processors* (which do not share memory), and each processor has some number of *threads* (which do share memory)."
   ]
  },
  {
   "cell_type": "code",
   "execution_count": null,
   "metadata": {},
   "outputs": [],
   "source": [
    "using Distributed"
   ]
  },
  {
   "cell_type": "code",
   "execution_count": null,
   "metadata": {},
   "outputs": [],
   "source": [
    "nprocs()"
   ]
  },
  {
   "cell_type": "markdown",
   "metadata": {},
   "source": [
    "Processes are distinct from threads:"
   ]
  },
  {
   "cell_type": "code",
   "execution_count": null,
   "metadata": {},
   "outputs": [],
   "source": [
    "Threads.nthreads()"
   ]
  },
  {
   "cell_type": "markdown",
   "metadata": {},
   "source": [
    "The Julia process connected to your keyboard is processor 1 (sometimes called the \"master\" or \"head node\").\n",
    "\n",
    "`addprocs(n)` starts additional processors on your local machine, as separate OS-level processes. Processors other than 1 are sometimes called \"workers\"."
   ]
  },
  {
   "cell_type": "code",
   "execution_count": null,
   "metadata": {},
   "outputs": [],
   "source": [
    "myid()"
   ]
  },
  {
   "cell_type": "code",
   "execution_count": null,
   "metadata": {},
   "outputs": [],
   "source": [
    "addprocs(2)"
   ]
  },
  {
   "cell_type": "code",
   "execution_count": null,
   "metadata": {},
   "outputs": [],
   "source": [
    "nprocs()"
   ]
  },
  {
   "cell_type": "code",
   "execution_count": null,
   "metadata": {},
   "outputs": [],
   "source": [
    "nworkers()"
   ]
  },
  {
   "cell_type": "code",
   "execution_count": null,
   "metadata": {},
   "outputs": [],
   "source": [
    "workers()"
   ]
  },
  {
   "cell_type": "markdown",
   "metadata": {},
   "source": [
    "## Tasks"
   ]
  },
  {
   "cell_type": "markdown",
   "metadata": {},
   "source": [
    "Processors and threads represent compute resources. *Tasks* represent units of work performed by those resources.\n",
    "\n",
    "A `Task` gives you a handle to a computation to be performed. It has a create-start-run-finish lifecycle:\n",
    "\n",
    "* Create: `Task(thunk)` or `@task expr`. The latter is equivalent to `Task(()->expr)`.\n",
    "* Start: `schedule(task)`. `@async` and `@schedule` do create+start in one step.\n",
    "* Run: `current_task()` is always running. A task cooperatively pauses itself using `wait` or `yield`.\n",
    "* Finish: the task's `thunk` must exit via return or exception. You can `wait(task)`.\n",
    "\n",
    "Technically, `Task` is a *concurrency* primitve (as opposed to a *parallelism* primitive)."
   ]
  },
  {
   "cell_type": "code",
   "execution_count": null,
   "metadata": {},
   "outputs": [],
   "source": [
    "work = @task sum(rand(1000))"
   ]
  },
  {
   "cell_type": "code",
   "execution_count": null,
   "metadata": {},
   "outputs": [],
   "source": [
    "schedule(work)"
   ]
  },
  {
   "cell_type": "code",
   "execution_count": null,
   "metadata": {},
   "outputs": [],
   "source": [
    "fetch(work)"
   ]
  },
  {
   "cell_type": "markdown",
   "metadata": {},
   "source": [
    "- `wait`: wait for something to finish\n",
    "- `fetch`: wait for finish and get value (might move data)"
   ]
  },
  {
   "cell_type": "code",
   "execution_count": null,
   "metadata": {},
   "outputs": [],
   "source": [
    "@time work = @async sum(rand(100000000))"
   ]
  },
  {
   "cell_type": "code",
   "execution_count": null,
   "metadata": {},
   "outputs": [],
   "source": [
    "fetch(work)"
   ]
  },
  {
   "cell_type": "code",
   "execution_count": null,
   "metadata": {},
   "outputs": [],
   "source": [
    "@time sum(rand(100000000))"
   ]
  },
  {
   "cell_type": "code",
   "execution_count": null,
   "metadata": {},
   "outputs": [],
   "source": [
    "using Dates\n",
    "@sync for t = 'A':'F'\n",
    "    @async for k = 1:10\n",
    "        println(\"$t$k @ $(now())\")\n",
    "        sleep(rand())\n",
    "    end\n",
    "end"
   ]
  },
  {
   "cell_type": "markdown",
   "metadata": {},
   "source": [
    "## Communication: Conditions and Channels"
   ]
  },
  {
   "cell_type": "markdown",
   "metadata": {},
   "source": [
    "Most of the time, Tasks are too low-level to use directly.\n",
    "\n",
    "* A `Condition` represents an edge-triggered event that Tasks can `wait` for and `notify`.\n",
    "* I/O operations use Conditions, wait, and notify internally.\n",
    "* Parallel primitives start and manage Tasks internally."
   ]
  },
  {
   "cell_type": "code",
   "execution_count": null,
   "metadata": {},
   "outputs": [],
   "source": [
    "event = Condition()"
   ]
  },
  {
   "cell_type": "code",
   "execution_count": null,
   "metadata": {},
   "outputs": [],
   "source": [
    "work = @async begin\n",
    "    println(\"I'm waiting for the event to happen.\")\n",
    "    wait(event)\n",
    "    println(\"Ok, it happened.\")\n",
    "end"
   ]
  },
  {
   "cell_type": "code",
   "execution_count": null,
   "metadata": {},
   "outputs": [],
   "source": [
    "notify(event)"
   ]
  },
  {
   "cell_type": "markdown",
   "metadata": {},
   "source": [
    "A `Channel` is similar, but adds the ability to send data."
   ]
  },
  {
   "cell_type": "code",
   "execution_count": null,
   "metadata": {},
   "outputs": [],
   "source": [
    "c = Channel(4)  # 4 is the queue size"
   ]
  },
  {
   "cell_type": "code",
   "execution_count": null,
   "metadata": {},
   "outputs": [],
   "source": [
    "printer = @async begin\n",
    "    while true\n",
    "        data = take!(c)\n",
    "        println(\"from background: \", data)\n",
    "    end\n",
    "end"
   ]
  },
  {
   "cell_type": "code",
   "execution_count": null,
   "metadata": {},
   "outputs": [],
   "source": [
    "put!(c, rand(2,2));"
   ]
  },
  {
   "cell_type": "code",
   "execution_count": null,
   "metadata": {},
   "outputs": [],
   "source": [
    "put!(c, 1);"
   ]
  },
  {
   "cell_type": "code",
   "execution_count": null,
   "metadata": {},
   "outputs": [],
   "source": [
    "put!(c, \"hello\");"
   ]
  },
  {
   "cell_type": "markdown",
   "metadata": {},
   "source": [
    "A channel needs to be `close`d eventually."
   ]
  },
  {
   "cell_type": "markdown",
   "metadata": {},
   "source": [
    "## Putting it together: remote execution"
   ]
  },
  {
   "cell_type": "markdown",
   "metadata": {},
   "source": [
    "`addprocs` sets up Tasks on all processors ready to run code for you.\n",
    "\n",
    "A single remote function call can be done with `remotecall`, which returns a `Future`:"
   ]
  },
  {
   "cell_type": "code",
   "execution_count": null,
   "metadata": {},
   "outputs": [],
   "source": [
    "futuremat = remotecall(rand, 2, 3, 3)"
   ]
  },
  {
   "cell_type": "code",
   "execution_count": null,
   "metadata": {},
   "outputs": [],
   "source": [
    "fetch(futuremat)"
   ]
  },
  {
   "cell_type": "code",
   "execution_count": null,
   "metadata": {},
   "outputs": [],
   "source": [
    "isready(futuremat)"
   ]
  },
  {
   "cell_type": "code",
   "execution_count": null,
   "metadata": {},
   "outputs": [],
   "source": [
    "@async begin\n",
    "    wait(futuremat)\n",
    "    println(\"got it, callback goes here\")\n",
    "    # ......\n",
    "end"
   ]
  },
  {
   "cell_type": "markdown",
   "metadata": {},
   "source": [
    "`fetch` should be avoided, because it moves data. However, it's efficient when used on the process that owns the data.\n",
    "\n",
    "`@spawnat` rewrites to `remotecall`, similar to `@async` for `schedule` etc."
   ]
  },
  {
   "cell_type": "code",
   "execution_count": null,
   "metadata": {},
   "outputs": [],
   "source": [
    "futuremat_plus_1 = @spawnat 2 1 .+ fetch(futuremat)"
   ]
  },
  {
   "cell_type": "code",
   "execution_count": null,
   "metadata": {},
   "outputs": [],
   "source": [
    "fetch(futuremat_plus_1)"
   ]
  },
  {
   "cell_type": "markdown",
   "metadata": {},
   "source": [
    "`RemoteChannel` works similarly to `Channel`, but can be used by any process."
   ]
  },
  {
   "cell_type": "code",
   "execution_count": null,
   "metadata": {},
   "outputs": [],
   "source": [
    "rc = RemoteChannel()"
   ]
  },
  {
   "cell_type": "code",
   "execution_count": null,
   "metadata": {},
   "outputs": [],
   "source": [
    "@spawnat 2 begin\n",
    "    @show rc\n",
    "    while true\n",
    "        val = take!(rc)\n",
    "        println(val)\n",
    "    end\n",
    "end"
   ]
  },
  {
   "cell_type": "code",
   "execution_count": null,
   "metadata": {},
   "outputs": [],
   "source": [
    "put!(rc, \"test\")"
   ]
  },
  {
   "cell_type": "code",
   "execution_count": null,
   "metadata": {},
   "outputs": [],
   "source": [
    "put!(rc, rand(2,2))"
   ]
  },
  {
   "cell_type": "markdown",
   "metadata": {},
   "source": [
    "## Spawn and sync"
   ]
  },
  {
   "cell_type": "markdown",
   "metadata": {},
   "source": [
    "* `@spawn` is like `@spawnat` but picks a processor for you\n",
    "* `@sync` waits for all lexically-enclosed `@spawn`, `@spawnat`, and `@async`"
   ]
  },
  {
   "cell_type": "markdown",
   "metadata": {
    "collapsed": true
   },
   "source": [
    "#### Example\n",
    "\n",
    "Recipe for parallel-loading many files from a shared file system:\n",
    "```jl\n",
    "dataset = [(@spawn load(file)) for file in files]\n",
    "results = [(@spawnat x.where f(fetch(x))) for x in dataset]\n",
    "```"
   ]
  },
  {
   "cell_type": "code",
   "execution_count": null,
   "metadata": {},
   "outputs": [],
   "source": [
    "futuremat_plus_1.where"
   ]
  },
  {
   "cell_type": "markdown",
   "metadata": {},
   "source": [
    "## Loading code"
   ]
  },
  {
   "cell_type": "markdown",
   "metadata": {},
   "source": [
    "Use this recipe:\n",
    "\n",
    "1. `using Thing1, Thing2` for packages used only on process 1\n",
    "2. `addprocs()`\n",
    "3. `using Thing3` for packages needed everywhere\n",
    "4. Any time: `include(...)` is always local-only; `@everywhere include(...)` for global"
   ]
  },
  {
   "cell_type": "markdown",
   "metadata": {},
   "source": [
    "**Note:** if you need to send an object of type T to another processor, the package defining T must be loaded there."
   ]
  },
  {
   "cell_type": "markdown",
   "metadata": {},
   "source": [
    "## Demo: \"crowdsourced\" pi estimation"
   ]
  },
  {
   "cell_type": "markdown",
   "metadata": {},
   "source": [
    "Server code:\n",
    "\n",
    "```\n",
    "using Sockets, Serialization\n",
    "\n",
    "function estimate_pi(in_circle, N)\n",
    "    4in_circle / N\n",
    "end\n",
    "\n",
    "function run_server(n=10^8)\n",
    "    results = Channel(1)\n",
    "    @async begin\n",
    "        srvr = listen(IPv4(0), 8000)\n",
    "        while true\n",
    "            sock = accept(srvr)\n",
    "            serialize(sock, n)\n",
    "            @async begin\n",
    "                put!(results, deserialize(sock))\n",
    "            end\n",
    "        end\n",
    "    end\n",
    "\n",
    "    running_tally = (0, 0)\n",
    "    @async while true\n",
    "        c, trials = take!(results)\n",
    "        C, total_trials = C+c, total_trials+trials\n",
    "        println(\"Total samples: \", total_trials)\n",
    "        println(\"Current estimate: \", estimate_pi(C, total_trials))\n",
    "    end\n",
    "end\n",
    "\n",
    "run_server()\n",
    "wait()\n",
    "```"
   ]
  },
  {
   "cell_type": "code",
   "execution_count": null,
   "metadata": {},
   "outputs": [],
   "source": [
    "# Client code\n",
    "using Sockets, Serialization\n",
    "\n",
    "function trials(numsteps=1000)  # default value of the parameter\n",
    "    pos = 0 \n",
    "    for j in 1:numsteps\n",
    "        pos += Int(rand()^2 + rand()^2 < 1)\n",
    "    end\n",
    "    return pos\n",
    "end"
   ]
  },
  {
   "cell_type": "code",
   "execution_count": null,
   "metadata": {},
   "outputs": [],
   "source": [
    "@async begin\n",
    "    c = connect(\"anubis.juliacomputing.io\", 8000)\n",
    "    n = deserialize(c)    # <--- Block wait for a request\n",
    "    serialize(c, (trials(n), n))\n",
    "    close(c)\n",
    "end"
   ]
  }
 ],
 "metadata": {
  "anaconda-cloud": {},
  "kernelspec": {
   "display_name": "Julia 1.1.0-DEV",
   "language": "julia",
   "name": "julia-1.1"
  },
  "language_info": {
   "file_extension": ".jl",
   "mimetype": "application/julia",
   "name": "julia",
   "version": "1.0.2"
  }
 },
 "nbformat": 4,
 "nbformat_minor": 2
}
