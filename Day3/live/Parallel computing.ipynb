{
 "cells": [
  {
   "cell_type": "markdown",
   "metadata": {},
   "source": [
    "# Parallel Computing"
   ]
  },
  {
   "cell_type": "markdown",
   "metadata": {},
   "source": [
    "## Processors and threads"
   ]
  },
  {
   "cell_type": "markdown",
   "metadata": {},
   "source": [
    "Every Julia session has some number of *processors* (which do not share memory), and each processor has some number of *threads* (which do share memory)."
   ]
  },
  {
   "cell_type": "code",
   "execution_count": 1,
   "metadata": {},
   "outputs": [],
   "source": [
    "using Distributed"
   ]
  },
  {
   "cell_type": "code",
   "execution_count": 2,
   "metadata": {},
   "outputs": [
    {
     "data": {
      "text/plain": [
       "1"
      ]
     },
     "execution_count": 2,
     "metadata": {},
     "output_type": "execute_result"
    }
   ],
   "source": [
    "nprocs()"
   ]
  },
  {
   "cell_type": "markdown",
   "metadata": {},
   "source": [
    "Processes are distinct from threads:"
   ]
  },
  {
   "cell_type": "code",
   "execution_count": 3,
   "metadata": {},
   "outputs": [
    {
     "data": {
      "text/plain": [
       "1"
      ]
     },
     "execution_count": 3,
     "metadata": {},
     "output_type": "execute_result"
    }
   ],
   "source": [
    "Threads.nthreads()"
   ]
  },
  {
   "cell_type": "markdown",
   "metadata": {},
   "source": [
    "The Julia process connected to your keyboard is processor 1 (sometimes called the \"master\" or \"head node\").\n",
    "\n",
    "`addprocs(n)` starts additional processors on your local machine, as separate OS-level processes. Processors other than 1 are sometimes called \"workers\"."
   ]
  },
  {
   "cell_type": "code",
   "execution_count": 4,
   "metadata": {},
   "outputs": [
    {
     "data": {
      "text/plain": [
       "1"
      ]
     },
     "execution_count": 4,
     "metadata": {},
     "output_type": "execute_result"
    }
   ],
   "source": [
    "myid()"
   ]
  },
  {
   "cell_type": "code",
   "execution_count": 5,
   "metadata": {},
   "outputs": [
    {
     "data": {
      "text/plain": [
       "2-element Array{Int64,1}:\n",
       " 2\n",
       " 3"
      ]
     },
     "execution_count": 5,
     "metadata": {},
     "output_type": "execute_result"
    }
   ],
   "source": [
    "addprocs(2)"
   ]
  },
  {
   "cell_type": "code",
   "execution_count": 6,
   "metadata": {},
   "outputs": [
    {
     "data": {
      "text/plain": [
       "3"
      ]
     },
     "execution_count": 6,
     "metadata": {},
     "output_type": "execute_result"
    }
   ],
   "source": [
    "nprocs()"
   ]
  },
  {
   "cell_type": "code",
   "execution_count": 7,
   "metadata": {},
   "outputs": [
    {
     "data": {
      "text/plain": [
       "2"
      ]
     },
     "execution_count": 7,
     "metadata": {},
     "output_type": "execute_result"
    }
   ],
   "source": [
    "nworkers()"
   ]
  },
  {
   "cell_type": "code",
   "execution_count": 8,
   "metadata": {},
   "outputs": [
    {
     "data": {
      "text/plain": [
       "2-element Array{Int64,1}:\n",
       " 2\n",
       " 3"
      ]
     },
     "execution_count": 8,
     "metadata": {},
     "output_type": "execute_result"
    }
   ],
   "source": [
    "workers()"
   ]
  },
  {
   "cell_type": "code",
   "execution_count": 9,
   "metadata": {},
   "outputs": [
    {
     "data": {
      "text/plain": [
       "Task (done) @0x00007f45caa55270"
      ]
     },
     "execution_count": 9,
     "metadata": {},
     "output_type": "execute_result"
    }
   ],
   "source": [
    "rmprocs(2:3)"
   ]
  },
  {
   "cell_type": "code",
   "execution_count": 10,
   "metadata": {},
   "outputs": [
    {
     "data": {
      "text/plain": [
       "1"
      ]
     },
     "execution_count": 10,
     "metadata": {},
     "output_type": "execute_result"
    }
   ],
   "source": [
    "nprocs()"
   ]
  },
  {
   "cell_type": "code",
   "execution_count": 11,
   "metadata": {},
   "outputs": [
    {
     "data": {
      "text/plain": [
       "2-element Array{Int64,1}:\n",
       " 4\n",
       " 5"
      ]
     },
     "execution_count": 11,
     "metadata": {},
     "output_type": "execute_result"
    }
   ],
   "source": [
    "addprocs(2)"
   ]
  },
  {
   "cell_type": "markdown",
   "metadata": {},
   "source": [
    "## Tasks"
   ]
  },
  {
   "cell_type": "markdown",
   "metadata": {},
   "source": [
    "Processors and threads represent compute resources. *Tasks* represent units of work performed by those resources.\n",
    "\n",
    "A `Task` gives you a handle to a computation to be performed. It has a create-start-run-finish lifecycle:\n",
    "\n",
    "* Create: `Task(thunk)` or `@task expr`. The latter is equivalent to `Task(()->expr)`.\n",
    "* Start: `schedule(task)`. `@async` and `@schedule` do create+start in one step.\n",
    "* Run: `current_task()` is always running. A task cooperatively pauses itself using `wait` or `yield`.\n",
    "* Finish: the task's `thunk` must exit via return or exception. You can `wait(task)`.\n",
    "\n",
    "Technically, `Task` is a *concurrency* primitve (as opposed to a *parallelism* primitive)."
   ]
  },
  {
   "cell_type": "code",
   "execution_count": 12,
   "metadata": {},
   "outputs": [
    {
     "data": {
      "text/plain": [
       "Task (runnable) @0x00007f45caa6f9d0"
      ]
     },
     "execution_count": 12,
     "metadata": {},
     "output_type": "execute_result"
    }
   ],
   "source": [
    "work = @task sum(rand(1000))"
   ]
  },
  {
   "cell_type": "code",
   "execution_count": 13,
   "metadata": {},
   "outputs": [
    {
     "data": {
      "text/plain": [
       "Task (done) @0x00007f45caa6f9d0"
      ]
     },
     "execution_count": 13,
     "metadata": {},
     "output_type": "execute_result"
    }
   ],
   "source": [
    "schedule(work)"
   ]
  },
  {
   "cell_type": "code",
   "execution_count": 14,
   "metadata": {},
   "outputs": [
    {
     "data": {
      "text/plain": [
       "498.29853463014587"
      ]
     },
     "execution_count": 14,
     "metadata": {},
     "output_type": "execute_result"
    }
   ],
   "source": [
    "fetch(work)"
   ]
  },
  {
   "cell_type": "markdown",
   "metadata": {},
   "source": [
    "- `wait`: wait for something to finish\n",
    "- `fetch`: wait for finish and get value (might move data)"
   ]
  },
  {
   "cell_type": "code",
   "execution_count": 19,
   "metadata": {},
   "outputs": [
    {
     "name": "stdout",
     "output_type": "stream",
     "text": [
      "  0.000121 seconds (22 allocations: 2.048 KiB)\n"
     ]
    },
    {
     "data": {
      "text/plain": [
       "Task (done) @0x00007f45ca5197b0"
      ]
     },
     "execution_count": 19,
     "metadata": {},
     "output_type": "execute_result"
    }
   ],
   "source": [
    "@time work = @async sum(rand(100000000))"
   ]
  },
  {
   "cell_type": "code",
   "execution_count": 20,
   "metadata": {},
   "outputs": [
    {
     "data": {
      "text/plain": [
       "4.9996473433314025e7"
      ]
     },
     "execution_count": 20,
     "metadata": {},
     "output_type": "execute_result"
    }
   ],
   "source": [
    "fetch(work)"
   ]
  },
  {
   "cell_type": "code",
   "execution_count": 18,
   "metadata": {},
   "outputs": [
    {
     "name": "stdout",
     "output_type": "stream",
     "text": [
      "  0.609093 seconds (7 allocations: 762.940 MiB, 11.47% gc time)\n"
     ]
    },
    {
     "data": {
      "text/plain": [
       "5.000304858138728e7"
      ]
     },
     "execution_count": 18,
     "metadata": {},
     "output_type": "execute_result"
    }
   ],
   "source": [
    "@time sum(rand(100000000))"
   ]
  },
  {
   "cell_type": "code",
   "execution_count": 21,
   "metadata": {},
   "outputs": [
    {
     "name": "stdout",
     "output_type": "stream",
     "text": [
      "A1 @ 2018-10-26T13:12:06.656\n",
      "B1 @ 2018-10-26T13:12:06.752\n",
      "C1 @ 2018-10-26T13:12:06.752\n",
      "D1 @ 2018-10-26T13:12:06.752\n",
      "E1 @ 2018-10-26T13:12:06.752\n",
      "F1 @ 2018-10-26T13:12:06.752\n",
      "E2 @ 2018-10-26T13:12:07.239\n",
      "B2 @ 2018-10-26T13:12:07.401\n",
      "D2 @ 2018-10-26T13:12:07.417\n",
      "E3 @ 2018-10-26T13:12:07.515\n",
      "C2 @ 2018-10-26T13:12:07.545\n",
      "F2 @ 2018-10-26T13:12:07.547\n",
      "F3 @ 2018-10-26T13:12:07.566\n",
      "D3 @ 2018-10-26T13:12:07.569\n",
      "F4 @ 2018-10-26T13:12:07.613\n",
      "A2 @ 2018-10-26T13:12:07.706\n",
      "B3 @ 2018-10-26T13:12:07.805\n",
      "C3 @ 2018-10-26T13:12:08.006\n",
      "B4 @ 2018-10-26T13:12:08.079\n",
      "D4 @ 2018-10-26T13:12:08.084\n",
      "E4 @ 2018-10-26T13:12:08.28\n",
      "A3 @ 2018-10-26T13:12:08.308\n",
      "F5 @ 2018-10-26T13:12:08.438\n",
      "D5 @ 2018-10-26T13:12:08.503\n",
      "C4 @ 2018-10-26T13:12:08.646\n",
      "B5 @ 2018-10-26T13:12:08.766\n",
      "B6 @ 2018-10-26T13:12:08.936\n",
      "A4 @ 2018-10-26T13:12:08.977\n",
      "E5 @ 2018-10-26T13:12:08.985\n",
      "F6 @ 2018-10-26T13:12:09.016\n",
      "D6 @ 2018-10-26T13:12:09.104\n",
      "A5 @ 2018-10-26T13:12:09.418\n",
      "C5 @ 2018-10-26T13:12:09.419\n",
      "B7 @ 2018-10-26T13:12:09.529\n",
      "E6 @ 2018-10-26T13:12:09.585\n",
      "D7 @ 2018-10-26T13:12:09.606\n",
      "F7 @ 2018-10-26T13:12:09.669\n",
      "C6 @ 2018-10-26T13:12:09.672\n",
      "E7 @ 2018-10-26T13:12:09.911\n",
      "D8 @ 2018-10-26T13:12:10.028\n",
      "A6 @ 2018-10-26T13:12:10.058\n",
      "B8 @ 2018-10-26T13:12:10.204\n",
      "F8 @ 2018-10-26T13:12:10.384\n",
      "B9 @ 2018-10-26T13:12:10.462\n",
      "C7 @ 2018-10-26T13:12:10.53\n",
      "A7 @ 2018-10-26T13:12:10.602\n",
      "E8 @ 2018-10-26T13:12:10.73\n",
      "B10 @ 2018-10-26T13:12:10.801\n",
      "A8 @ 2018-10-26T13:12:10.805\n",
      "A9 @ 2018-10-26T13:12:10.85\n",
      "D9 @ 2018-10-26T13:12:10.861\n",
      "F9 @ 2018-10-26T13:12:10.972\n",
      "C8 @ 2018-10-26T13:12:11.133\n",
      "D10 @ 2018-10-26T13:12:11.297\n",
      "F10 @ 2018-10-26T13:12:11.306\n",
      "A10 @ 2018-10-26T13:12:11.34\n",
      "E9 @ 2018-10-26T13:12:11.405\n",
      "C9 @ 2018-10-26T13:12:11.54\n",
      "C10 @ 2018-10-26T13:12:12.184\n",
      "E10 @ 2018-10-26T13:12:12.217\n"
     ]
    }
   ],
   "source": [
    "using Dates\n",
    "@sync for t = 'A':'F'\n",
    "    @async for k = 1:10\n",
    "        println(\"$t$k @ $(now())\")\n",
    "        sleep(rand())\n",
    "    end\n",
    "end"
   ]
  },
  {
   "cell_type": "markdown",
   "metadata": {},
   "source": [
    "## Communication: Conditions and Channels"
   ]
  },
  {
   "cell_type": "markdown",
   "metadata": {},
   "source": [
    "Most of the time, Tasks are too low-level to use directly.\n",
    "\n",
    "* A `Condition` represents an edge-triggered event that Tasks can `wait` for and `notify`.\n",
    "* I/O operations use Conditions, wait, and notify internally.\n",
    "* Parallel primitives start and manage Tasks internally."
   ]
  },
  {
   "cell_type": "code",
   "execution_count": 22,
   "metadata": {},
   "outputs": [
    {
     "data": {
      "text/plain": [
       "Condition(Any[])"
      ]
     },
     "execution_count": 22,
     "metadata": {},
     "output_type": "execute_result"
    }
   ],
   "source": [
    "event = Condition()"
   ]
  },
  {
   "cell_type": "code",
   "execution_count": 23,
   "metadata": {},
   "outputs": [
    {
     "name": "stdout",
     "output_type": "stream",
     "text": [
      "I'm waiting for the event to happen.\n"
     ]
    },
    {
     "data": {
      "text/plain": [
       "Task (runnable) @0x00007f45ca519f90"
      ]
     },
     "execution_count": 23,
     "metadata": {},
     "output_type": "execute_result"
    }
   ],
   "source": [
    "work = @async begin\n",
    "    println(\"I'm waiting for the event to happen.\")\n",
    "    wait(event)\n",
    "    println(\"Ok, it happened.\")\n",
    "end"
   ]
  },
  {
   "cell_type": "code",
   "execution_count": 24,
   "metadata": {},
   "outputs": [
    {
     "name": "stdout",
     "output_type": "stream",
     "text": [
      "Ok, it happened.\n"
     ]
    },
    {
     "data": {
      "text/plain": [
       "1"
      ]
     },
     "execution_count": 24,
     "metadata": {},
     "output_type": "execute_result"
    }
   ],
   "source": [
    "notify(event)"
   ]
  },
  {
   "cell_type": "markdown",
   "metadata": {},
   "source": [
    "A `Channel` is similar, but adds the ability to send data."
   ]
  },
  {
   "cell_type": "code",
   "execution_count": 25,
   "metadata": {},
   "outputs": [
    {
     "data": {
      "text/plain": [
       "Channel{Any}(sz_max:4,sz_curr:0)"
      ]
     },
     "execution_count": 25,
     "metadata": {},
     "output_type": "execute_result"
    }
   ],
   "source": [
    "c = Channel(4)  # 4 is the queue size"
   ]
  },
  {
   "cell_type": "code",
   "execution_count": 26,
   "metadata": {},
   "outputs": [
    {
     "data": {
      "text/plain": [
       "Task (runnable) @0x00007f45cb450010"
      ]
     },
     "execution_count": 26,
     "metadata": {},
     "output_type": "execute_result"
    }
   ],
   "source": [
    "printer = @async begin\n",
    "    while true\n",
    "        data = take!(c)\n",
    "        println(\"from background: \", data)\n",
    "    end\n",
    "end"
   ]
  },
  {
   "cell_type": "code",
   "execution_count": 27,
   "metadata": {},
   "outputs": [
    {
     "name": "stdout",
     "output_type": "stream",
     "text": [
      "from background: [0.894978 0.904605; 0.807699 0.893968]\n"
     ]
    }
   ],
   "source": [
    "put!(c, rand(2,2));"
   ]
  },
  {
   "cell_type": "code",
   "execution_count": 28,
   "metadata": {},
   "outputs": [
    {
     "name": "stdout",
     "output_type": "stream",
     "text": [
      "from background: 1\n"
     ]
    }
   ],
   "source": [
    "put!(c, 1);"
   ]
  },
  {
   "cell_type": "code",
   "execution_count": 29,
   "metadata": {},
   "outputs": [
    {
     "name": "stdout",
     "output_type": "stream",
     "text": [
      "from background: hello\n"
     ]
    }
   ],
   "source": [
    "put!(c, \"hello\");"
   ]
  },
  {
   "cell_type": "markdown",
   "metadata": {},
   "source": [
    "A channel needs to be `close`d eventually."
   ]
  },
  {
   "cell_type": "markdown",
   "metadata": {},
   "source": [
    "## Putting it together: remote execution"
   ]
  },
  {
   "cell_type": "markdown",
   "metadata": {},
   "source": [
    "`addprocs` sets up Tasks on all processors ready to run code for you.\n",
    "\n",
    "A single remote function call can be done with `remotecall`, which returns a `Future`:"
   ]
  },
  {
   "cell_type": "code",
   "execution_count": 30,
   "metadata": {},
   "outputs": [
    {
     "data": {
      "text/plain": [
       "3-element Array{Int64,1}:\n",
       " 3\n",
       " 5\n",
       " 7"
      ]
     },
     "execution_count": 30,
     "metadata": {},
     "output_type": "execute_result"
    }
   ],
   "source": [
    "map([1,2,3]) do x\n",
    "    y = 2x\n",
    "    return y+1\n",
    "end"
   ]
  },
  {
   "cell_type": "code",
   "execution_count": null,
   "metadata": {},
   "outputs": [],
   "source": []
  },
  {
   "cell_type": "code",
   "execution_count": 32,
   "metadata": {},
   "outputs": [
    {
     "data": {
      "text/plain": [
       "Future(4, 1, 6, nothing)"
      ]
     },
     "execution_count": 32,
     "metadata": {},
     "output_type": "execute_result"
    }
   ],
   "source": [
    "futuremat = remotecall(rand, 4, 3, 3)"
   ]
  },
  {
   "cell_type": "code",
   "execution_count": 33,
   "metadata": {},
   "outputs": [
    {
     "data": {
      "text/plain": [
       "3×3 Array{Float64,2}:\n",
       " 0.934434  0.0265968  0.409198\n",
       " 0.121118  0.529621   0.119145\n",
       " 0.965964  0.705946   0.388846"
      ]
     },
     "execution_count": 33,
     "metadata": {},
     "output_type": "execute_result"
    }
   ],
   "source": [
    "fetch(futuremat)"
   ]
  },
  {
   "cell_type": "code",
   "execution_count": 34,
   "metadata": {},
   "outputs": [
    {
     "data": {
      "text/plain": [
       "true"
      ]
     },
     "execution_count": 34,
     "metadata": {},
     "output_type": "execute_result"
    }
   ],
   "source": [
    "isready(futuremat)"
   ]
  },
  {
   "cell_type": "code",
   "execution_count": 35,
   "metadata": {},
   "outputs": [
    {
     "name": "stdout",
     "output_type": "stream",
     "text": [
      "got it, callback goes here\n"
     ]
    },
    {
     "data": {
      "text/plain": [
       "Task (done) @0x00007f45caa547f0"
      ]
     },
     "execution_count": 35,
     "metadata": {},
     "output_type": "execute_result"
    }
   ],
   "source": [
    "@async begin\n",
    "    wait(futuremat)\n",
    "    println(\"got it, callback goes here\")\n",
    "    # ......\n",
    "end"
   ]
  },
  {
   "cell_type": "markdown",
   "metadata": {},
   "source": [
    "`fetch` should be avoided, because it moves data. However, it's efficient when used on the process that owns the data.\n",
    "\n",
    "`@spawnat` rewrites to `remotecall`, similar to `@async` for `schedule` etc."
   ]
  },
  {
   "cell_type": "code",
   "execution_count": 36,
   "metadata": {},
   "outputs": [
    {
     "data": {
      "text/plain": [
       "Future(4, 1, 8, nothing)"
      ]
     },
     "execution_count": 36,
     "metadata": {},
     "output_type": "execute_result"
    }
   ],
   "source": [
    "futuremat_plus_1 = @spawnat 4 1 .+ fetch(futuremat)"
   ]
  },
  {
   "cell_type": "code",
   "execution_count": 37,
   "metadata": {},
   "outputs": [
    {
     "data": {
      "text/plain": [
       "3×3 Array{Float64,2}:\n",
       " 1.93443  1.0266   1.4092 \n",
       " 1.12112  1.52962  1.11915\n",
       " 1.96596  1.70595  1.38885"
      ]
     },
     "execution_count": 37,
     "metadata": {},
     "output_type": "execute_result"
    }
   ],
   "source": [
    "fetch(futuremat_plus_1)"
   ]
  },
  {
   "cell_type": "markdown",
   "metadata": {},
   "source": [
    "`RemoteChannel` works similarly to `Channel`, but can be used by any process."
   ]
  },
  {
   "cell_type": "code",
   "execution_count": 38,
   "metadata": {},
   "outputs": [
    {
     "data": {
      "text/plain": [
       "RemoteChannel{Channel{Any}}(1, 1, 10)"
      ]
     },
     "execution_count": 38,
     "metadata": {},
     "output_type": "execute_result"
    }
   ],
   "source": [
    "rc = RemoteChannel()"
   ]
  },
  {
   "cell_type": "code",
   "execution_count": 39,
   "metadata": {},
   "outputs": [
    {
     "data": {
      "text/plain": [
       "Future(4, 1, 11, nothing)"
      ]
     },
     "execution_count": 39,
     "metadata": {},
     "output_type": "execute_result"
    },
    {
     "name": "stdout",
     "output_type": "stream",
     "text": [
      "      From worker 4:\trc = RemoteChannel{Channel{Any}}(1, 1, 10)\n"
     ]
    }
   ],
   "source": [
    "@spawnat 4 begin\n",
    "    @show rc\n",
    "    while true\n",
    "        val = take!(rc)\n",
    "        println(val)\n",
    "    end\n",
    "end"
   ]
  },
  {
   "cell_type": "code",
   "execution_count": 40,
   "metadata": {},
   "outputs": [
    {
     "data": {
      "text/plain": [
       "RemoteChannel{Channel{Any}}(1, 1, 10)"
      ]
     },
     "execution_count": 40,
     "metadata": {},
     "output_type": "execute_result"
    },
    {
     "name": "stdout",
     "output_type": "stream",
     "text": [
      "      From worker 4:\ttest\n"
     ]
    }
   ],
   "source": [
    "put!(rc, \"test\")"
   ]
  },
  {
   "cell_type": "code",
   "execution_count": 41,
   "metadata": {},
   "outputs": [
    {
     "data": {
      "text/plain": [
       "RemoteChannel{Channel{Any}}(1, 1, 10)"
      ]
     },
     "execution_count": 41,
     "metadata": {},
     "output_type": "execute_result"
    },
    {
     "name": "stdout",
     "output_type": "stream",
     "text": [
      "      From worker 4:\t[0.684862 0.0216064; 0.28462 0.0379759]\n"
     ]
    }
   ],
   "source": [
    "put!(rc, rand(2,2))"
   ]
  },
  {
   "cell_type": "code",
   "execution_count": 42,
   "metadata": {},
   "outputs": [],
   "source": [
    "close(rc)"
   ]
  },
  {
   "cell_type": "code",
   "execution_count": 43,
   "metadata": {},
   "outputs": [
    {
     "ename": "InvalidStateException",
     "evalue": "InvalidStateException(\"Channel is closed.\", :closed)",
     "output_type": "error",
     "traceback": [
      "InvalidStateException(\"Channel is closed.\", :closed)",
      "",
      "Stacktrace:",
      " [1] check_channel_state at ./channels.jl:120 [inlined]",
      " [2] put!(::Channel{Any}, ::Int64) at ./channels.jl:250",
      " [3] put!(::Distributed.RemoteValue, ::Int64) at /home/jeff/src/julia/usr/share/julia/stdlib/v1.0/Distributed/src/remotecall.jl:562",
      " [4] put_ref at /home/jeff/src/julia/usr/share/julia/stdlib/v1.0/Distributed/src/remotecall.jl:563 [inlined]",
      " [5] call_on_owner at /home/jeff/src/julia/usr/share/julia/stdlib/v1.0/Distributed/src/remotecall.jl:477 [inlined]",
      " [6] put!(::RemoteChannel{Channel{Any}}, ::Int64) at /home/jeff/src/julia/usr/share/julia/stdlib/v1.0/Distributed/src/remotecall.jl:572",
      " [7] top-level scope at In[43]:1"
     ]
    }
   ],
   "source": [
    "put!(rc, 1)"
   ]
  },
  {
   "cell_type": "markdown",
   "metadata": {},
   "source": [
    "## Spawn and sync"
   ]
  },
  {
   "cell_type": "markdown",
   "metadata": {},
   "source": [
    "* `@spawn` is like `@spawnat` but picks a processor for you\n",
    "* `@sync` waits for all lexically-enclosed `@spawn`, `@spawnat`, and `@async`"
   ]
  },
  {
   "cell_type": "markdown",
   "metadata": {
    "collapsed": true
   },
   "source": [
    "#### Example\n",
    "\n",
    "Recipe for parallel-loading many files from a shared file system:\n",
    "```jl\n",
    "dataset = [(@spawn load(file)) for file in files]\n",
    "results = [(@spawnat x.where f(fetch(x))) for x in dataset]\n",
    "```"
   ]
  },
  {
   "cell_type": "code",
   "execution_count": 44,
   "metadata": {},
   "outputs": [
    {
     "data": {
      "text/plain": [
       "4"
      ]
     },
     "execution_count": 44,
     "metadata": {},
     "output_type": "execute_result"
    }
   ],
   "source": [
    "futuremat_plus_1.where"
   ]
  },
  {
   "cell_type": "code",
   "execution_count": 45,
   "metadata": {},
   "outputs": [
    {
     "name": "stdout",
     "output_type": "stream",
     "text": [
      "1\n",
      "      From worker 4:\t4\n",
      "      From worker 5:\t5\n"
     ]
    }
   ],
   "source": [
    "@everywhere println(myid())"
   ]
  },
  {
   "cell_type": "markdown",
   "metadata": {},
   "source": [
    "## Loading code"
   ]
  },
  {
   "cell_type": "markdown",
   "metadata": {},
   "source": [
    "Use this recipe:\n",
    "\n",
    "1. `using Thing1, Thing2` for packages used only on process 1\n",
    "2. `addprocs()`\n",
    "3. `using Thing3` for packages needed everywhere\n",
    "4. Any time: `include(...)` is always local-only; `@everywhere include(...)` for global"
   ]
  },
  {
   "cell_type": "markdown",
   "metadata": {},
   "source": [
    "**Note:** if you need to send an object of type T to another processor, the package defining T must be loaded there."
   ]
  },
  {
   "cell_type": "markdown",
   "metadata": {},
   "source": [
    "## Demo: \"crowdsourced\" pi estimation"
   ]
  },
  {
   "cell_type": "markdown",
   "metadata": {},
   "source": [
    "Server code:\n",
    "\n",
    "```jl\n",
    "using Sockets, Serialization\n",
    "\n",
    "function estimate_pi(in_circle, N)\n",
    "    4in_circle / N\n",
    "end\n",
    "\n",
    "function run_server(n=10^8)\n",
    "    results = Channel(1)\n",
    "    @async begin\n",
    "        srvr = listen(IPv4(0), 8000)\n",
    "        while true\n",
    "            sock = accept(srvr)\n",
    "            serialize(sock, n)\n",
    "            @async begin\n",
    "                put!(results, deserialize(sock))\n",
    "            end\n",
    "        end\n",
    "    end\n",
    "\n",
    "    running_tally = (0, 0)\n",
    "    @async while true\n",
    "        c, trials = take!(results)\n",
    "        C, total_trials = C+c, total_trials+trials\n",
    "        println(\"Total samples: \", total_trials)\n",
    "        println(\"Current estimate: \", estimate_pi(C, total_trials))\n",
    "    end\n",
    "end\n",
    "\n",
    "run_server()\n",
    "wait()\n",
    "```"
   ]
  },
  {
   "cell_type": "code",
   "execution_count": 46,
   "metadata": {},
   "outputs": [
    {
     "data": {
      "text/plain": [
       "trials (generic function with 2 methods)"
      ]
     },
     "execution_count": 46,
     "metadata": {},
     "output_type": "execute_result"
    }
   ],
   "source": [
    "# Client code\n",
    "using Sockets, Serialization\n",
    "\n",
    "function trials(numsteps=1000)  # default value of the parameter\n",
    "    pos = 0 \n",
    "    for j in 1:numsteps\n",
    "        pos += Int(rand()^2 + rand()^2 < 1)\n",
    "    end\n",
    "    return pos\n",
    "end"
   ]
  },
  {
   "cell_type": "code",
   "execution_count": 53,
   "metadata": {},
   "outputs": [],
   "source": [
    "for i = 1:10\n",
    "@async begin\n",
    "    c = connect(\"anubis.juliacomputing.io\", 8000)\n",
    "    n = deserialize(c)    # <--- Block wait for a request\n",
    "    serialize(c, (trials(n), n))\n",
    "    close(c)\n",
    "end\n",
    "end"
   ]
  },
  {
   "cell_type": "code",
   "execution_count": null,
   "metadata": {},
   "outputs": [],
   "source": []
  }
 ],
 "metadata": {
  "anaconda-cloud": {},
  "kernelspec": {
   "display_name": "Julia 1.1.0-DEV",
   "language": "julia",
   "name": "julia-1.1"
  },
  "language_info": {
   "file_extension": ".jl",
   "mimetype": "application/julia",
   "name": "julia",
   "version": "1.0.2"
  }
 },
 "nbformat": 4,
 "nbformat_minor": 2
}
