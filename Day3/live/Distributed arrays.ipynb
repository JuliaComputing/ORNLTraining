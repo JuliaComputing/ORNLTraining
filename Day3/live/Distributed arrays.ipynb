{
 "cells": [
  {
   "cell_type": "markdown",
   "metadata": {},
   "source": [
    "\n",
    "\n",
    "# Distributed arrays"
   ]
  },
  {
   "cell_type": "markdown",
   "metadata": {},
   "source": [
    "Parallel computing is a mess: too many types of parallelism:\n",
    "- MPI\n",
    "- CUDA\n",
    "- OpenMP\n",
    "- Threads"
   ]
  },
  {
   "cell_type": "markdown",
   "metadata": {},
   "source": [
    "Idea: `DistributedArrays` *will* be (currently not quite there yet) the best, and easiest, way to do parallel computing. \n",
    "\n",
    "It's an *easy* form of parallelism, when it works."
   ]
  },
  {
   "cell_type": "markdown",
   "metadata": {},
   "source": [
    "An array that lives on several processors -- each processor has a part of the array (a \"local part\"). The array is **partitioned** on the different processors.\n",
    "\n",
    "Note that the idea of referring to a vector as just one object, `v`, was a big deal in Matlab / Python etc.\n",
    "\n",
    "Now `v` will refer to an array that is a more complicated object.\n",
    "\n",
    "A `DistributedArray` will just **look like** (to us) a standard Julia array. The complicated stuff inside is hidden by an **abstraction**."
   ]
  },
  {
   "cell_type": "code",
   "execution_count": 1,
   "metadata": {},
   "outputs": [
    {
     "name": "stdout",
     "output_type": "stream",
     "text": [
      "\u001b[32m\u001b[1m  Updating\u001b[22m\u001b[39m registry at `~/.julia/registries/General`\n",
      "\u001b[32m\u001b[1m  Updating\u001b[22m\u001b[39m git-repo `https://github.com/JuliaRegistries/General.git`\n",
      "\u001b[2K\u001b[?25h[1mFetching:\u001b[22m\u001b[39m [========================================>]  100.0 %.0 %\u001b[32m\u001b[1m Resolving\u001b[22m\u001b[39m package versions...\n",
      "\u001b[32m\u001b[1m  Updating\u001b[22m\u001b[39m `~/.julia/environments/v1.0/Project.toml`\n",
      "\u001b[90m [no changes]\u001b[39m\n",
      "\u001b[32m\u001b[1m  Updating\u001b[22m\u001b[39m `~/.julia/environments/v1.0/Manifest.toml`\n",
      "\u001b[90m [no changes]\u001b[39m\n"
     ]
    }
   ],
   "source": [
    "using Pkg; Pkg.add(\"DistributedArrays\")"
   ]
  },
  {
   "cell_type": "code",
   "execution_count": 2,
   "metadata": {},
   "outputs": [
    {
     "data": {
      "text/plain": [
       "2-element Array{Int64,1}:\n",
       " 2\n",
       " 3"
      ]
     },
     "execution_count": 2,
     "metadata": {},
     "output_type": "execute_result"
    }
   ],
   "source": [
    "using Distributed\n",
    "# Add processes:\n",
    "addprocs(2)"
   ]
  },
  {
   "cell_type": "code",
   "execution_count": 3,
   "metadata": {},
   "outputs": [],
   "source": [
    "using DistributedArrays"
   ]
  },
  {
   "cell_type": "code",
   "execution_count": 4,
   "metadata": {},
   "outputs": [],
   "source": [
    "# Use package for \"distributed arrays\"\n",
    "@everywhere using DistributedArrays"
   ]
  },
  {
   "cell_type": "markdown",
   "metadata": {},
   "source": [
    "## Parallelize it (where \"it\" is embarrassingly parallel)"
   ]
  },
  {
   "cell_type": "code",
   "execution_count": 5,
   "metadata": {},
   "outputs": [
    {
     "data": {
      "text/plain": [
       "3-element Array{Int64,1}:\n",
       " 1\n",
       " 2\n",
       " 3"
      ]
     },
     "execution_count": 5,
     "metadata": {},
     "output_type": "execute_result"
    }
   ],
   "source": [
    "procs()"
   ]
  },
  {
   "cell_type": "code",
   "execution_count": 6,
   "metadata": {},
   "outputs": [
    {
     "data": {
      "text/plain": [
       "2-element Array{Int64,1}:\n",
       " 2\n",
       " 3"
      ]
     },
     "execution_count": 6,
     "metadata": {},
     "output_type": "execute_result"
    }
   ],
   "source": [
    "workers()"
   ]
  },
  {
   "cell_type": "code",
   "execution_count": 7,
   "metadata": {},
   "outputs": [
    {
     "data": {
      "text/plain": [
       "1000-element Array{Int64,1}:\n",
       "    1\n",
       "    2\n",
       "    3\n",
       "    4\n",
       "    5\n",
       "    6\n",
       "    7\n",
       "    8\n",
       "    9\n",
       "   10\n",
       "   11\n",
       "   12\n",
       "   13\n",
       "    ⋮\n",
       "  989\n",
       "  990\n",
       "  991\n",
       "  992\n",
       "  993\n",
       "  994\n",
       "  995\n",
       "  996\n",
       "  997\n",
       "  998\n",
       "  999\n",
       " 1000"
      ]
     },
     "execution_count": 7,
     "metadata": {},
     "output_type": "execute_result"
    }
   ],
   "source": [
    "a = [1:1000;]"
   ]
  },
  {
   "cell_type": "code",
   "execution_count": 8,
   "metadata": {},
   "outputs": [
    {
     "data": {
      "text/plain": [
       "1000-element DArray{Int64,1,Array{Int64,1}}:\n",
       "    1\n",
       "    2\n",
       "    3\n",
       "    4\n",
       "    5\n",
       "    6\n",
       "    7\n",
       "    8\n",
       "    9\n",
       "   10\n",
       "   11\n",
       "   12\n",
       "   13\n",
       "    ⋮\n",
       "  989\n",
       "  990\n",
       "  991\n",
       "  992\n",
       "  993\n",
       "  994\n",
       "  995\n",
       "  996\n",
       "  997\n",
       "  998\n",
       "  999\n",
       " 1000"
      ]
     },
     "execution_count": 8,
     "metadata": {},
     "output_type": "execute_result"
    }
   ],
   "source": [
    "# Distribute the data:\n",
    "\n",
    "D = distribute(a)"
   ]
  },
  {
   "cell_type": "code",
   "execution_count": 9,
   "metadata": {},
   "outputs": [
    {
     "data": {
      "text/plain": [
       "DArray{Int64,1,Array{Int64,1}}"
      ]
     },
     "execution_count": 9,
     "metadata": {},
     "output_type": "execute_result"
    }
   ],
   "source": [
    "T = typeof(D)"
   ]
  },
  {
   "cell_type": "code",
   "execution_count": 10,
   "metadata": {},
   "outputs": [
    {
     "data": {
      "text/plain": [
       "AbstractArray{Int64,1}"
      ]
     },
     "execution_count": 10,
     "metadata": {},
     "output_type": "execute_result"
    }
   ],
   "source": [
    "supertype(T)"
   ]
  },
  {
   "cell_type": "markdown",
   "metadata": {},
   "source": [
    "To get at the information inside the object:\n",
    "\n",
    "    `D.<TAB>`"
   ]
  },
  {
   "cell_type": "code",
   "execution_count": 11,
   "metadata": {},
   "outputs": [
    {
     "data": {
      "text/plain": [
       "(:id, :dims, :pids, :indices, :cuts, :localpart, :release)"
      ]
     },
     "execution_count": 11,
     "metadata": {},
     "output_type": "execute_result"
    }
   ],
   "source": [
    "fieldnames(typeof(D))"
   ]
  },
  {
   "cell_type": "markdown",
   "metadata": {},
   "source": [
    "Which piece of the `DArray` is stored on each worker:"
   ]
  },
  {
   "cell_type": "code",
   "execution_count": 12,
   "metadata": {},
   "outputs": [
    {
     "data": {
      "text/plain": [
       "2-element Array{Tuple{UnitRange{Int64}},1}:\n",
       " (1:500,)   \n",
       " (501:1000,)"
      ]
     },
     "execution_count": 12,
     "metadata": {},
     "output_type": "execute_result"
    }
   ],
   "source": [
    "D.indices"
   ]
  },
  {
   "cell_type": "markdown",
   "metadata": {},
   "source": [
    "We want to write the *same* code and have it \"just work\":"
   ]
  },
  {
   "cell_type": "code",
   "execution_count": 13,
   "metadata": {},
   "outputs": [
    {
     "data": {
      "text/plain": [
       "1000-element DArray{Int64,1,Array{Int64,1}}:\n",
       "       1\n",
       "       4\n",
       "       9\n",
       "      16\n",
       "      25\n",
       "      36\n",
       "      49\n",
       "      64\n",
       "      81\n",
       "     100\n",
       "     121\n",
       "     144\n",
       "     169\n",
       "       ⋮\n",
       "  978121\n",
       "  980100\n",
       "  982081\n",
       "  984064\n",
       "  986049\n",
       "  988036\n",
       "  990025\n",
       "  992016\n",
       "  994009\n",
       "  996004\n",
       "  998001\n",
       " 1000000"
      ]
     },
     "execution_count": 13,
     "metadata": {},
     "output_type": "execute_result"
    }
   ],
   "source": [
    "dD = map(t -> t^2, D)  # dD is the distributed answer"
   ]
  },
  {
   "cell_type": "code",
   "execution_count": 14,
   "metadata": {},
   "outputs": [
    {
     "data": {
      "text/plain": [
       "true"
      ]
     },
     "execution_count": 14,
     "metadata": {},
     "output_type": "execute_result"
    }
   ],
   "source": [
    "# apply map to distributed vector (looks identical to non-distributed case)\n",
    "\n",
    "dD == map(t->t^2, a)  # undistributes the array back onto the master node"
   ]
  },
  {
   "cell_type": "code",
   "execution_count": 15,
   "metadata": {},
   "outputs": [
    {
     "data": {
      "text/plain": [
       "500-element Array{Int64,1}:\n",
       "  251001\n",
       "  252004\n",
       "  253009\n",
       "  254016\n",
       "  255025\n",
       "  256036\n",
       "  257049\n",
       "  258064\n",
       "  259081\n",
       "  260100\n",
       "  261121\n",
       "  262144\n",
       "  263169\n",
       "       ⋮\n",
       "  978121\n",
       "  980100\n",
       "  982081\n",
       "  984064\n",
       "  986049\n",
       "  988036\n",
       "  990025\n",
       "  992016\n",
       "  994009\n",
       "  996004\n",
       "  998001\n",
       " 1000000"
      ]
     },
     "execution_count": 15,
     "metadata": {},
     "output_type": "execute_result"
    }
   ],
   "source": [
    "@fetchfrom 3 localpart(dD)  # the result that worker 2 calculated"
   ]
  },
  {
   "cell_type": "code",
   "execution_count": 16,
   "metadata": {},
   "outputs": [],
   "source": [
    "@everywhere using Dates"
   ]
  },
  {
   "cell_type": "code",
   "execution_count": 17,
   "metadata": {},
   "outputs": [
    {
     "data": {
      "text/plain": [
       "1000-element DArray{String,1,Array{String,1}}:\n",
       " \"January\"  \n",
       " \"February\" \n",
       " \"March\"    \n",
       " \"April\"    \n",
       " \"May\"      \n",
       " \"June\"     \n",
       " \"July\"     \n",
       " \"August\"   \n",
       " \"September\"\n",
       " \"October\"  \n",
       " \"November\" \n",
       " \"December\" \n",
       " \"January\"  \n",
       " ⋮          \n",
       " \"May\"      \n",
       " \"June\"     \n",
       " \"July\"     \n",
       " \"August\"   \n",
       " \"September\"\n",
       " \"October\"  \n",
       " \"November\" \n",
       " \"December\" \n",
       " \"January\"  \n",
       " \"February\" \n",
       " \"March\"    \n",
       " \"April\"    "
      ]
     },
     "execution_count": 17,
     "metadata": {},
     "output_type": "execute_result"
    }
   ],
   "source": [
    "# Distributed vectors not restricted to numerical types\n",
    "\n",
    "map(t -> Dates.monthname((t - 1) % 12 + 1), D)"
   ]
  },
  {
   "cell_type": "code",
   "execution_count": null,
   "metadata": {},
   "outputs": [],
   "source": [
    "# A slightly more complicated example of map and reduce\n",
    "\n",
    "monthString = map(t -> Dates.monthname((t - 1) % 12 + 1) |> s -> s*\" is my favorite month.\\n\", D) |>\n",
    "    t -> reduce(*, Array(t))\n",
    "println(monthString)"
   ]
  },
  {
   "cell_type": "code",
   "execution_count": 19,
   "metadata": {},
   "outputs": [
    {
     "data": {
      "text/plain": [
       "32-element DArray{Array{Float64,2},1,Array{Array{Float64,2},1}}:\n",
       " [0.540243 -1.09863 … -0.0320705 -2.13346; 1.47592 -2.45283 … -1.79427 -1.35625; … ; 1.46436 0.562266 … -1.61478 0.754182; -0.00183824 0.657098 … -0.128423 -0.630894]     \n",
       " [-0.748836 0.724214 … 2.6096 -0.513093; 2.24875 2.36366 … 0.420865 1.21235; … ; -0.875299 0.144333 … 1.59832 1.62788; 0.446644 -1.54994 … -0.880385 0.00976228]           \n",
       " [0.465207 -0.00523897 … 2.05525 -0.640681; 1.0202 0.193896 … 0.625545 0.0710984; … ; -0.640639 0.932369 … 0.544009 -0.670359; 0.00330771 0.373471 … 0.267226 -0.0792813]  \n",
       " [0.629801 1.06126 … 0.520062 -0.0844751; 1.11461 0.0411959 … -1.70078 0.0721042; … ; 1.16154 0.161893 … 0.683445 -2.00771; -0.0486126 0.292486 … 0.513096 -1.05025]       \n",
       " [2.0821 0.401563 … -0.678405 0.0764716; 0.481985 0.029227 … -1.05093 -0.831277; … ; 2.04734 -1.5946 … 1.43547 -1.52479; -0.690757 0.485431 … -0.081544 -0.491193]         \n",
       " [-0.543271 -0.711215 … 0.306203 1.02335; -0.0745167 0.97604 … 0.771504 -0.890187; … ; 0.0968922 -1.26946 … 0.786531 -2.18103; 1.67903 -0.0232654 … 1.74225 0.411776]      \n",
       " [0.784749 -0.526641 … 0.142125 -0.419293; -0.400998 -0.303038 … 0.426957 -1.02379; … ; 0.745078 -0.518861 … -0.747713 -1.15109; 1.18485 0.00969984 … 0.259447 2.55644]    \n",
       " [-1.15947 1.19514 … -0.753417 -0.647603; -1.06592 0.380397 … -0.124589 -1.95548; … ; 1.20904 1.05991 … 0.0898669 0.370118; -1.11164 0.472062 … 0.192472 -0.377144]        \n",
       " [-0.870568 -0.0901268 … -0.699267 0.199123; -0.242941 0.338566 … -1.63135 -1.20114; … ; -2.20339 1.21013 … -0.0439489 -2.33913; -0.873203 0.156809 … 1.28932 1.67736]     \n",
       " [-1.31083 -0.182087 … 0.45752 -0.583695; 0.498324 -0.340795 … -1.1424 2.1812; … ; -1.28485 1.4034 … -2.15531 -0.355033; -2.14545 -1.38779 … -0.22195 0.368784]            \n",
       " [-0.887401 0.977889 … -1.40487 -0.166918; -0.91495 0.981176 … 0.917639 -0.884513; … ; -0.326204 0.505361 … 0.290673 0.0793958; 0.328625 -1.23134 … 0.704767 -0.427818]    \n",
       " [0.916901 -1.0462 … 0.238939 0.480328; 1.18528 0.944464 … -0.964334 -0.958799; … ; 0.340127 -0.137201 … -0.686346 -1.04087; -0.997439 0.729656 … 0.0154836 0.239515]      \n",
       " [0.687306 -0.0266677 … -0.34975 -1.4447; 0.637914 0.647019 … -0.81374 -0.595839; … ; -1.57113 0.832319 … -0.216923 1.64206; -0.733208 -0.1657 … 0.0607705 -1.11199]       \n",
       " ⋮                                                                                                                                                                         \n",
       " [-0.683097 -0.0156652 … 0.288645 0.246203; -1.67635 -0.434762 … -0.486712 -1.04543; … ; 0.0712662 0.605826 … 1.15693 1.71497; -0.211219 -1.76215 … -0.120774 -0.762424]   \n",
       " [-0.234024 0.329717 … 0.00861328 -0.499457; 0.0498111 0.991536 … 2.03158 -1.18297; … ; -0.158118 -0.112274 … 0.233524 0.910154; -0.0314307 -0.585176 … -0.188121 0.247252]\n",
       " [0.227481 0.511538 … -1.09157 -0.780707; 0.37541 -1.14679 … 0.0851158 0.945335; … ; -0.152819 -1.01919 … 0.664039 1.33235; 0.855785 0.453842 … 0.363704 -0.973601]        \n",
       " [-0.0457694 0.809341 … -0.764888 0.974907; -1.26279 -0.081555 … 0.127403 -0.188177; … ; 0.139867 0.513686 … -1.25172 -1.81885; 1.62979 -0.787585 … 0.578694 1.50264]      \n",
       " [-1.11694 -0.554852 … -0.0906941 0.637518; -1.81358 0.210472 … 1.67635 -1.28422; … ; -0.371734 -0.145558 … -0.668279 0.0617802; -1.13608 0.539954 … -0.526643 -0.956563]  \n",
       " [-0.71413 -0.794439 … 0.845019 0.404446; -1.31363 -0.510884 … 1.40906 -1.13705; … ; -1.53896 -0.891045 … 0.233332 -2.15811; 0.684977 0.0179771 … 0.397662 -0.0241164]     \n",
       " [0.507934 -0.920722 … -0.841441 0.723005; -0.86716 0.252224 … -1.61436 0.196482; … ; 1.17387 -0.82805 … -0.0679036 0.788321; -0.56403 1.81324 … -1.88616 0.468757]        \n",
       " [0.839731 -1.85794 … 0.36712 0.392085; 2.18601 1.14036 … 0.0161272 0.0199011; … ; 0.605194 0.374243 … 0.572904 -1.55714; 0.185089 0.535745 … 0.0974988 -1.22407]          \n",
       " [0.168068 -0.0603839 … 0.424249 -0.00633151; 1.49993 0.726014 … -0.54729 0.453088; … ; 0.0261509 2.34942 … -1.11074 0.0845023; 2.01392 -1.34815 … 1.69708 0.0537389]      \n",
       " [1.7924 -0.154035 … 0.398916 -0.697678; 0.321716 0.42711 … -0.351679 -1.41343; … ; 0.931152 -0.457254 … -0.330395 2.25703; -0.940416 0.814587 … 0.643255 -0.0558724]      \n",
       " [-1.64781 0.39263 … 1.03287 -1.67894; 0.222656 1.61863 … 0.865162 -0.713927; … ; 1.02707 -0.609716 … 0.277463 2.38835; -0.184325 -1.66298 … -0.218151 0.982256]           \n",
       " [-0.996528 0.731438 … 2.66799 -1.16437; -1.77105 -1.59186 … -0.426789 -1.80419; … ; -0.360156 0.0836531 … -0.327326 0.471764; -0.28564 0.700437 … 0.943971 0.310321]      "
      ]
     },
     "execution_count": 19,
     "metadata": {},
     "output_type": "execute_result"
    }
   ],
   "source": [
    "# Distributed array comprehension\n",
    "\n",
    "D55 = @DArray [randn(500,500) for i = 1:32]"
   ]
  },
  {
   "cell_type": "code",
   "execution_count": 20,
   "metadata": {},
   "outputs": [],
   "source": [
    "using LinearAlgebra"
   ]
  },
  {
   "cell_type": "code",
   "execution_count": 29,
   "metadata": {},
   "outputs": [
    {
     "name": "stdout",
     "output_type": "stream",
     "text": [
      "  0.963862 seconds (7.53 k allocations: 415.067 KiB)\n"
     ]
    }
   ],
   "source": [
    "# Compute singular values of the distributed vector of matrices: \n",
    "\n",
    "@time Dsvd = map(svdvals, D55);"
   ]
  },
  {
   "cell_type": "code",
   "execution_count": 23,
   "metadata": {},
   "outputs": [],
   "source": [
    "BLAS.set_num_threads(1)"
   ]
  },
  {
   "cell_type": "code",
   "execution_count": 24,
   "metadata": {},
   "outputs": [],
   "source": [
    "d5 = [randn(500,500) for i = 1:32];"
   ]
  },
  {
   "cell_type": "code",
   "execution_count": 30,
   "metadata": {},
   "outputs": [
    {
     "name": "stdout",
     "output_type": "stream",
     "text": [
      "  1.631661 seconds (326 allocations: 70.335 MiB)\n"
     ]
    }
   ],
   "source": [
    "@time map(svdvals, d5);"
   ]
  },
  {
   "cell_type": "code",
   "execution_count": null,
   "metadata": {},
   "outputs": [],
   "source": []
  }
 ],
 "metadata": {
  "anaconda-cloud": {},
  "kernelspec": {
   "display_name": "Julia 1.1.0-DEV",
   "language": "julia",
   "name": "julia-1.1"
  },
  "language_info": {
   "file_extension": ".jl",
   "mimetype": "application/julia",
   "name": "julia",
   "version": "1.0.2"
  },
  "toc": {
   "nav_menu": {
    "height": "30px",
    "width": "252px"
   },
   "navigate_menu": true,
   "number_sections": true,
   "sideBar": true,
   "threshold": "2",
   "toc_cell": false,
   "toc_section_display": "block",
   "toc_window_display": false
  }
 },
 "nbformat": 4,
 "nbformat_minor": 1
}
