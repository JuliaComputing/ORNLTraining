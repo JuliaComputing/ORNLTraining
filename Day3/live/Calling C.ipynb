{
 "cells": [
  {
   "cell_type": "markdown",
   "metadata": {},
   "source": [
    "## Calling libc\n",
    "\n",
    "Or anything else that's linked into your process memory."
   ]
  },
  {
   "cell_type": "code",
   "execution_count": 1,
   "metadata": {},
   "outputs": [
    {
     "name": "stdout",
     "output_type": "stream",
     "text": [
      "Hello\n"
     ]
    },
    {
     "data": {
      "text/plain": [
       "6"
      ]
     },
     "execution_count": 1,
     "metadata": {},
     "output_type": "execute_result"
    }
   ],
   "source": [
    "ccall(:puts, Cint, (Cstring,), \"Hello\")"
   ]
  },
  {
   "cell_type": "code",
   "execution_count": 2,
   "metadata": {},
   "outputs": [
    {
     "name": "stdout",
     "output_type": "stream",
     "text": [
      "  3.000139 seconds\n"
     ]
    },
    {
     "data": {
      "text/plain": [
       "0x00000000"
      ]
     },
     "execution_count": 2,
     "metadata": {},
     "output_type": "execute_result"
    }
   ],
   "source": [
    "@time ccall(:sleep, Cuint, (Cuint,), 3)"
   ]
  },
  {
   "cell_type": "markdown",
   "metadata": {},
   "source": [
    "## Calling shared libraries"
   ]
  },
  {
   "cell_type": "markdown",
   "metadata": {},
   "source": [
    "Let's compile a little C program as a shared library:"
   ]
  },
  {
   "cell_type": "code",
   "execution_count": 3,
   "metadata": {},
   "outputs": [
    {
     "name": "stdout",
     "output_type": "stream",
     "text": [
      "// Linux: gcc -shared -o libhello.so hello.c\n",
      "// macOS: gcc -shared -o libhello.dylib hello.c\n",
      "// Windows: compiler? what compiler?\n",
      "\n",
      "#include <stdio.h>\n",
      "\n",
      "void hello(char *name) {\n",
      "    printf(\"Hello, %s!\\n\", name);\n",
      "}\n",
      "\n",
      "double sqr(double x) {\n",
      "    return x*x;\n",
      "}\n"
     ]
    }
   ],
   "source": [
    ";cat hello.c"
   ]
  },
  {
   "cell_type": "code",
   "execution_count": 4,
   "metadata": {},
   "outputs": [],
   "source": [
    ";gcc -shared -fPIC -o libhello.so hello.c"
   ]
  },
  {
   "cell_type": "code",
   "execution_count": 5,
   "metadata": {},
   "outputs": [
    {
     "name": "stdout",
     "output_type": "stream",
     "text": [
      "Hello, ORNL!\n"
     ]
    }
   ],
   "source": [
    "ccall((:hello, \"./libhello.so\"), Cvoid, (Cstring,), \"ORNL\")"
   ]
  },
  {
   "cell_type": "code",
   "execution_count": 6,
   "metadata": {},
   "outputs": [
    {
     "name": "stdout",
     "output_type": "stream",
     "text": [
      "Hello, Greg!\n"
     ]
    }
   ],
   "source": [
    "ccall((:hello, \"./libhello.so\"), Cvoid, (Cstring,), \"Greg\")"
   ]
  },
  {
   "cell_type": "code",
   "execution_count": 7,
   "metadata": {},
   "outputs": [
    {
     "data": {
      "text/plain": [
       "1.7976931348623157e308"
      ]
     },
     "execution_count": 7,
     "metadata": {},
     "output_type": "execute_result"
    }
   ],
   "source": [
    "floatmax()"
   ]
  },
  {
   "cell_type": "code",
   "execution_count": 14,
   "metadata": {},
   "outputs": [
    {
     "data": {
      "text/plain": [
       "4.0"
      ]
     },
     "execution_count": 14,
     "metadata": {},
     "output_type": "execute_result"
    }
   ],
   "source": [
    "ccall((:sqr, \"./libhello.so\"), Cdouble, (Cdouble,), 2.0)"
   ]
  },
  {
   "cell_type": "markdown",
   "metadata": {},
   "source": [
    "## Callbacks: calling Julia from C"
   ]
  },
  {
   "cell_type": "code",
   "execution_count": 15,
   "metadata": {},
   "outputs": [
    {
     "data": {
      "text/plain": [
       "callback (generic function with 1 method)"
      ]
     },
     "execution_count": 15,
     "metadata": {},
     "output_type": "execute_result"
    }
   ],
   "source": [
    "T = Float64\n",
    "\n",
    "# C-friendly callback function\n",
    "function callback(p_a::Ptr{T}, p_b::Ptr{T})::Cint\n",
    "    a = unsafe_load(p_a)\n",
    "    b = unsafe_load(p_b)\n",
    "    a < b ? -1 : b < a ? 1 : 0\n",
    "end"
   ]
  },
  {
   "cell_type": "code",
   "execution_count": 16,
   "metadata": {},
   "outputs": [
    {
     "data": {
      "text/plain": [
       "2-element Array{Float64,1}:\n",
       " 1.2\n",
       " 3.4"
      ]
     },
     "execution_count": 16,
     "metadata": {},
     "output_type": "execute_result"
    }
   ],
   "source": [
    "p = [1.2, 3.4]"
   ]
  },
  {
   "cell_type": "code",
   "execution_count": 17,
   "metadata": {},
   "outputs": [
    {
     "data": {
      "text/plain": [
       "1"
      ]
     },
     "execution_count": 17,
     "metadata": {},
     "output_type": "execute_result"
    }
   ],
   "source": [
    "p_a = pointer(p, 1)\n",
    "p_b = pointer(p, 2)\n",
    "callback(p_b, p_a)"
   ]
  },
  {
   "cell_type": "code",
   "execution_count": null,
   "metadata": {},
   "outputs": [],
   "source": [
    "GC.@preserve a b c begin\n",
    "\n",
    "end\n"
   ]
  },
  {
   "cell_type": "code",
   "execution_count": 18,
   "metadata": {},
   "outputs": [
    {
     "data": {
      "text/plain": [
       "Ptr{Nothing} @0x00007fc668e16b60"
      ]
     },
     "execution_count": 18,
     "metadata": {},
     "output_type": "execute_result"
    }
   ],
   "source": [
    "# get C-callable function pointer\n",
    "p_callback = @cfunction(callback, Cint, (Ptr{T}, Ptr{T}))"
   ]
  },
  {
   "cell_type": "code",
   "execution_count": 19,
   "metadata": {},
   "outputs": [
    {
     "data": {
      "text/plain": [
       "10-element Array{Float64,1}:\n",
       " -0.25223521226712214\n",
       "  0.5283980051823385 \n",
       "  0.617945306851973  \n",
       " -0.32320845351905403\n",
       "  0.49911870449233414\n",
       " -0.5822082084777798 \n",
       "  0.12836060626513401\n",
       " -0.24160031841186516\n",
       "  0.5712914028627493 \n",
       " -1.3265522378215313 "
      ]
     },
     "execution_count": 19,
     "metadata": {},
     "output_type": "execute_result"
    }
   ],
   "source": [
    "A = randn(10)"
   ]
  },
  {
   "cell_type": "code",
   "execution_count": 20,
   "metadata": {},
   "outputs": [],
   "source": [
    "# call C's qsort function\n",
    "ccall(:qsort, Cvoid,\n",
    "    (Ptr{T}, Csize_t, Csize_t, Ptr{Cvoid}),\n",
    "    A, length(A), sizeof(T), p_callback)"
   ]
  },
  {
   "cell_type": "code",
   "execution_count": 21,
   "metadata": {},
   "outputs": [
    {
     "data": {
      "text/plain": [
       "10-element Array{Float64,1}:\n",
       " -1.3265522378215313 \n",
       " -0.5822082084777798 \n",
       " -0.32320845351905403\n",
       " -0.25223521226712214\n",
       " -0.24160031841186516\n",
       "  0.12836060626513401\n",
       "  0.49911870449233414\n",
       "  0.5283980051823385 \n",
       "  0.5712914028627493 \n",
       "  0.617945306851973  "
      ]
     },
     "execution_count": 21,
     "metadata": {},
     "output_type": "execute_result"
    }
   ],
   "source": [
    "A"
   ]
  },
  {
   "cell_type": "code",
   "execution_count": 22,
   "metadata": {},
   "outputs": [
    {
     "data": {
      "text/plain": [
       "qsort! (generic function with 2 methods)"
      ]
     },
     "execution_count": 22,
     "metadata": {},
     "output_type": "execute_result"
    }
   ],
   "source": [
    "function qsort!((<)::Function, A::Vector{T}) where T\n",
    "\n",
    "    # C-friendly callback function\n",
    "    function callback(p_a::Ptr{T}, p_b::Ptr{T})::Cint\n",
    "        a = unsafe_load(p_a)\n",
    "        b = unsafe_load(p_b)\n",
    "        a < b ? -1 : b < a ? 1 : 0\n",
    "    end\n",
    "\n",
    "    # get C-callable function pointer\n",
    "    p_callback = @cfunction($callback, Cint, (Ptr{T}, Ptr{T}))\n",
    "\n",
    "    # call C's qsort function\n",
    "    ccall(:qsort, Cvoid,\n",
    "        (Ptr{T}, Csize_t, Csize_t, Ptr{Cvoid}),\n",
    "        A, length(A), sizeof(T), p_callback)\n",
    "    \n",
    "    return A\n",
    "end\n",
    "\n",
    "# default comparison by `isless` function\n",
    "qsort!(A::Vector) = qsort!(isless, A)"
   ]
  },
  {
   "cell_type": "code",
   "execution_count": 23,
   "metadata": {},
   "outputs": [
    {
     "data": {
      "text/plain": [
       "10-element Array{Float64,1}:\n",
       " -0.3004077766954796 \n",
       "  0.4000188338534922 \n",
       "  0.02030449583778625\n",
       "  0.5849497180762366 \n",
       " -1.81397292452982   \n",
       " -1.0761369195107533 \n",
       " -0.0504877330046909 \n",
       " -0.8167934875972962 \n",
       "  1.7551050989528332 \n",
       "  0.06947041068293412"
      ]
     },
     "execution_count": 23,
     "metadata": {},
     "output_type": "execute_result"
    }
   ],
   "source": [
    "A = randn(10)"
   ]
  },
  {
   "cell_type": "code",
   "execution_count": 24,
   "metadata": {},
   "outputs": [
    {
     "data": {
      "text/plain": [
       "10-element Array{Float64,1}:\n",
       " -1.81397292452982   \n",
       " -1.0761369195107533 \n",
       " -0.8167934875972962 \n",
       " -0.3004077766954796 \n",
       " -0.0504877330046909 \n",
       "  0.02030449583778625\n",
       "  0.06947041068293412\n",
       "  0.4000188338534922 \n",
       "  0.5849497180762366 \n",
       "  1.7551050989528332 "
      ]
     },
     "execution_count": 24,
     "metadata": {},
     "output_type": "execute_result"
    }
   ],
   "source": [
    "qsort!(A)"
   ]
  },
  {
   "cell_type": "code",
   "execution_count": 26,
   "metadata": {},
   "outputs": [
    {
     "data": {
      "text/plain": [
       "10-element Array{Float64,1}:\n",
       " -1.81397292452982   \n",
       "  1.7551050989528332 \n",
       " -1.0761369195107533 \n",
       " -0.8167934875972962 \n",
       "  0.5849497180762366 \n",
       "  0.4000188338534922 \n",
       " -0.3004077766954796 \n",
       "  0.06947041068293412\n",
       " -0.0504877330046909 \n",
       "  0.02030449583778625"
      ]
     },
     "execution_count": 26,
     "metadata": {},
     "output_type": "execute_result"
    }
   ],
   "source": [
    "qsort!((x,y)->abs(y) < abs(x), A)"
   ]
  },
  {
   "cell_type": "code",
   "execution_count": 27,
   "metadata": {},
   "outputs": [
    {
     "data": {
      "text/plain": [
       "absgt (generic function with 1 method)"
      ]
     },
     "execution_count": 27,
     "metadata": {},
     "output_type": "execute_result"
    }
   ],
   "source": [
    "absgt(x, y) = abs(y) < abs(x)"
   ]
  },
  {
   "cell_type": "code",
   "execution_count": 28,
   "metadata": {},
   "outputs": [
    {
     "data": {
      "text/plain": [
       "10-element Array{Float64,1}:\n",
       " -1.81397292452982   \n",
       "  1.7551050989528332 \n",
       " -1.0761369195107533 \n",
       " -0.8167934875972962 \n",
       "  0.5849497180762366 \n",
       "  0.4000188338534922 \n",
       " -0.3004077766954796 \n",
       "  0.06947041068293412\n",
       " -0.0504877330046909 \n",
       "  0.02030449583778625"
      ]
     },
     "execution_count": 28,
     "metadata": {},
     "output_type": "execute_result"
    }
   ],
   "source": [
    "qsort!(absgt, A)"
   ]
  },
  {
   "cell_type": "code",
   "execution_count": 29,
   "metadata": {},
   "outputs": [
    {
     "data": {
      "text/plain": [
       "20-element Array{Int64,1}:\n",
       "   6\n",
       "   8\n",
       "  -8\n",
       "  -4\n",
       "  -7\n",
       "  -7\n",
       "   5\n",
       "  -3\n",
       "  -6\n",
       "  -6\n",
       "   9\n",
       "   8\n",
       "  -5\n",
       "   3\n",
       "  -3\n",
       "  -2\n",
       "  -5\n",
       "  -3\n",
       "  -3\n",
       " -10"
      ]
     },
     "execution_count": 29,
     "metadata": {},
     "output_type": "execute_result"
    }
   ],
   "source": [
    "B = rand(-10:10, 20)"
   ]
  },
  {
   "cell_type": "code",
   "execution_count": 30,
   "metadata": {},
   "outputs": [
    {
     "data": {
      "text/plain": [
       "20-element Array{Int64,1}:\n",
       " -10\n",
       "  -8\n",
       "  -7\n",
       "  -7\n",
       "  -6\n",
       "  -6\n",
       "  -5\n",
       "  -5\n",
       "  -4\n",
       "  -3\n",
       "  -3\n",
       "  -3\n",
       "  -3\n",
       "  -2\n",
       "   3\n",
       "   5\n",
       "   6\n",
       "   8\n",
       "   8\n",
       "   9"
      ]
     },
     "execution_count": 30,
     "metadata": {},
     "output_type": "execute_result"
    }
   ],
   "source": [
    "qsort!(B)"
   ]
  },
  {
   "cell_type": "code",
   "execution_count": 31,
   "metadata": {},
   "outputs": [
    {
     "data": {
      "text/plain": [
       "20-element Array{Int64,1}:\n",
       " -10\n",
       "   9\n",
       "  -8\n",
       "   8\n",
       "   8\n",
       "  -7\n",
       "  -7\n",
       "  -6\n",
       "  -6\n",
       "   6\n",
       "  -5\n",
       "  -5\n",
       "   5\n",
       "  -4\n",
       "  -3\n",
       "  -3\n",
       "  -3\n",
       "  -3\n",
       "   3\n",
       "  -2"
      ]
     },
     "execution_count": 31,
     "metadata": {},
     "output_type": "execute_result"
    }
   ],
   "source": [
    "qsort!((x, y)->abs(y) < abs(x), B)"
   ]
  },
  {
   "cell_type": "code",
   "execution_count": 32,
   "metadata": {},
   "outputs": [
    {
     "data": {
      "text/plain": [
       "20-element Array{Int64,1}:\n",
       " -10\n",
       "   9\n",
       "  -8\n",
       "   8\n",
       "   8\n",
       "  -7\n",
       "  -7\n",
       "  -6\n",
       "  -6\n",
       "   6\n",
       "  -5\n",
       "  -5\n",
       "   5\n",
       "  -4\n",
       "  -3\n",
       "  -3\n",
       "  -3\n",
       "  -3\n",
       "   3\n",
       "  -2"
      ]
     },
     "execution_count": 32,
     "metadata": {},
     "output_type": "execute_result"
    }
   ],
   "source": [
    "qsort!(absgt, B)"
   ]
  },
  {
   "cell_type": "code",
   "execution_count": 41,
   "metadata": {},
   "outputs": [],
   "source": [
    "b = rand(10_000_000);"
   ]
  },
  {
   "cell_type": "code",
   "execution_count": 42,
   "metadata": {},
   "outputs": [],
   "source": [
    "b2 = copy(b);"
   ]
  },
  {
   "cell_type": "code",
   "execution_count": 43,
   "metadata": {},
   "outputs": [
    {
     "name": "stdout",
     "output_type": "stream",
     "text": [
      "  0.933793 seconds (71 allocations: 3.344 KiB)\n"
     ]
    }
   ],
   "source": [
    "@time sort!(b);"
   ]
  },
  {
   "cell_type": "code",
   "execution_count": 44,
   "metadata": {},
   "outputs": [
    {
     "name": "stdout",
     "output_type": "stream",
     "text": [
      "  3.742682 seconds (4 allocations: 160 bytes)\n"
     ]
    }
   ],
   "source": [
    "@time qsort!(b2);"
   ]
  },
  {
   "cell_type": "code",
   "execution_count": null,
   "metadata": {},
   "outputs": [],
   "source": []
  },
  {
   "cell_type": "markdown",
   "metadata": {},
   "source": [
    "## Embedding Julia in C/Fortran\n",
    "\n",
    "See https://docs.julialang.org/en/latest/manual/embedding/"
   ]
  },
  {
   "cell_type": "code",
   "execution_count": null,
   "metadata": {},
   "outputs": [],
   "source": []
  }
 ],
 "metadata": {
  "kernelspec": {
   "display_name": "Julia 1.1.0-DEV",
   "language": "julia",
   "name": "julia-1.1"
  },
  "language_info": {
   "file_extension": ".jl",
   "mimetype": "application/julia",
   "name": "julia",
   "version": "1.0.2"
  }
 },
 "nbformat": 4,
 "nbformat_minor": 2
}
