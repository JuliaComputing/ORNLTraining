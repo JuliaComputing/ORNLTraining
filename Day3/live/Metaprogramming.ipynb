{
 "cells": [
  {
   "cell_type": "markdown",
   "metadata": {},
   "source": [
    "# Meta-ness"
   ]
  },
  {
   "cell_type": "markdown",
   "metadata": {},
   "source": [
    "Julia allows us to talk in a \"meta\" way (\"one level up\"), about Julia code,  that is to \"treat code as data\" and manipulate it as just another object in Julia. (This is very similar to Lisp.)"
   ]
  },
  {
   "cell_type": "markdown",
   "metadata": {},
   "source": [
    "One of the most basic objects in this approach are unevaluated *symbols*:"
   ]
  },
  {
   "cell_type": "code",
   "execution_count": 1,
   "metadata": {},
   "outputs": [
    {
     "ename": "UndefVarError",
     "evalue": "UndefVarError: a not defined",
     "output_type": "error",
     "traceback": [
      "UndefVarError: a not defined",
      "",
      "Stacktrace:",
      " [1] top-level scope at In[1]:1"
     ]
    }
   ],
   "source": [
    "a"
   ]
  },
  {
   "cell_type": "code",
   "execution_count": 2,
   "metadata": {},
   "outputs": [
    {
     "data": {
      "text/plain": [
       ":a"
      ]
     },
     "execution_count": 2,
     "metadata": {},
     "output_type": "execute_result"
    }
   ],
   "source": [
    ":a  # \"the symbol a\""
   ]
  },
  {
   "cell_type": "code",
   "execution_count": 3,
   "metadata": {},
   "outputs": [
    {
     "data": {
      "text/plain": [
       "Symbol"
      ]
     },
     "execution_count": 3,
     "metadata": {},
     "output_type": "execute_result"
    }
   ],
   "source": [
    "typeof(:a)"
   ]
  },
  {
   "cell_type": "markdown",
   "metadata": {},
   "source": [
    "`:a` refers to the symbol `a`. We can evaluate it with the `eval` function:"
   ]
  },
  {
   "cell_type": "code",
   "execution_count": 4,
   "metadata": {},
   "outputs": [
    {
     "ename": "UndefVarError",
     "evalue": "UndefVarError: a not defined",
     "output_type": "error",
     "traceback": [
      "UndefVarError: a not defined",
      "",
      "Stacktrace:",
      " [1] top-level scope",
      " [2] eval at ./boot.jl:319 [inlined]",
      " [3] eval(::Symbol) at ./client.jl:389",
      " [4] top-level scope at In[4]:1"
     ]
    }
   ],
   "source": [
    "eval(:a)"
   ]
  },
  {
   "cell_type": "markdown",
   "metadata": {},
   "source": [
    "`a` must be defined for this to work:"
   ]
  },
  {
   "cell_type": "code",
   "execution_count": 5,
   "metadata": {},
   "outputs": [
    {
     "data": {
      "text/plain": [
       "3"
      ]
     },
     "execution_count": 5,
     "metadata": {},
     "output_type": "execute_result"
    }
   ],
   "source": [
    "a = 3"
   ]
  },
  {
   "cell_type": "code",
   "execution_count": 6,
   "metadata": {},
   "outputs": [
    {
     "data": {
      "text/plain": [
       "3"
      ]
     },
     "execution_count": 6,
     "metadata": {},
     "output_type": "execute_result"
    }
   ],
   "source": [
    "eval(:a)"
   ]
  },
  {
   "cell_type": "markdown",
   "metadata": {},
   "source": [
    "The `eval` function takes an expression and evaluates it"
   ]
  },
  {
   "cell_type": "markdown",
   "metadata": {},
   "source": [
    "Every name for a thing is a symbol:"
   ]
  },
  {
   "cell_type": "code",
   "execution_count": 7,
   "metadata": {},
   "outputs": [
    {
     "data": {
      "text/plain": [
       "(:+, :sin)"
      ]
     },
     "execution_count": 7,
     "metadata": {},
     "output_type": "execute_result"
    }
   ],
   "source": [
    ":+, :sin"
   ]
  },
  {
   "cell_type": "code",
   "execution_count": 8,
   "metadata": {},
   "outputs": [
    {
     "data": {
      "text/plain": [
       "Symbol"
      ]
     },
     "execution_count": 8,
     "metadata": {},
     "output_type": "execute_result"
    }
   ],
   "source": [
    "typeof(:+)"
   ]
  },
  {
   "cell_type": "markdown",
   "metadata": {},
   "source": [
    "Symbols may be combined into *expressions*, which are the basic objects that represent pieces of Julia code:"
   ]
  },
  {
   "cell_type": "code",
   "execution_count": 14,
   "metadata": {},
   "outputs": [
    {
     "data": {
      "text/plain": [
       ":(a + b)"
      ]
     },
     "execution_count": 14,
     "metadata": {},
     "output_type": "execute_result"
    }
   ],
   "source": [
    "ex = :(a + b)  # the expression 'a + b'"
   ]
  },
  {
   "cell_type": "code",
   "execution_count": 15,
   "metadata": {},
   "outputs": [
    {
     "data": {
      "text/plain": [
       "Expr"
      ]
     },
     "execution_count": 15,
     "metadata": {},
     "output_type": "execute_result"
    }
   ],
   "source": [
    "typeof(ex)"
   ]
  },
  {
   "cell_type": "code",
   "execution_count": 16,
   "metadata": {},
   "outputs": [
    {
     "data": {
      "text/plain": [
       "10"
      ]
     },
     "execution_count": 16,
     "metadata": {},
     "output_type": "execute_result"
    }
   ],
   "source": [
    "b = 7\n",
    "eval(ex)"
   ]
  },
  {
   "cell_type": "markdown",
   "metadata": {},
   "source": [
    "An expression is just a Julia object, so we can introspect (find out information about it):"
   ]
  },
  {
   "cell_type": "code",
   "execution_count": 17,
   "metadata": {},
   "outputs": [
    {
     "name": "stdout",
     "output_type": "stream",
     "text": [
      "Expr\n",
      "  head: Symbol call\n",
      "  args: Array{Any}((3,))\n",
      "    1: Symbol +\n",
      "    2: Symbol a\n",
      "    3: Symbol b\n"
     ]
    }
   ],
   "source": [
    "dump(ex)"
   ]
  },
  {
   "cell_type": "code",
   "execution_count": 18,
   "metadata": {},
   "outputs": [
    {
     "name": "stdout",
     "output_type": "stream",
     "text": [
      "Expr\n",
      "  head: Symbol =\n",
      "  args: Array{Any}((2,))\n",
      "    1: Symbol x\n",
      "    2: Int64 3\n"
     ]
    }
   ],
   "source": [
    "dump(:(x = 3))"
   ]
  },
  {
   "cell_type": "code",
   "execution_count": 19,
   "metadata": {},
   "outputs": [
    {
     "name": "stdout",
     "output_type": "stream",
     "text": [
      "Expr\n",
      "  head: Symbol =\n",
      "  args: Array{Any}((2,))\n",
      "    1: Symbol x\n",
      "    2: Int64 3\n"
     ]
    }
   ],
   "source": [
    "Meta.@dump x = 3"
   ]
  },
  {
   "cell_type": "code",
   "execution_count": null,
   "metadata": {},
   "outputs": [],
   "source": [
    "# ex.<TAB>"
   ]
  },
  {
   "cell_type": "code",
   "execution_count": 20,
   "metadata": {},
   "outputs": [
    {
     "data": {
      "text/plain": [
       ":call"
      ]
     },
     "execution_count": 20,
     "metadata": {},
     "output_type": "execute_result"
    }
   ],
   "source": [
    "ex.head"
   ]
  },
  {
   "cell_type": "code",
   "execution_count": 21,
   "metadata": {},
   "outputs": [
    {
     "data": {
      "text/plain": [
       "3-element Array{Any,1}:\n",
       " :+\n",
       " :a\n",
       " :b"
      ]
     },
     "execution_count": 21,
     "metadata": {},
     "output_type": "execute_result"
    }
   ],
   "source": [
    "ex.args"
   ]
  },
  {
   "cell_type": "markdown",
   "metadata": {},
   "source": [
    "More complicated expressions are represented as \"abstract syntax trees\" (ASTs), consisting of expressions nested inside expressions:"
   ]
  },
  {
   "cell_type": "code",
   "execution_count": 24,
   "metadata": {},
   "outputs": [
    {
     "data": {
      "text/plain": [
       ":(sin(3a + 2 * b ^ 2))"
      ]
     },
     "execution_count": 24,
     "metadata": {},
     "output_type": "execute_result"
    }
   ],
   "source": [
    "ex = :( sin(3a + 2b^2) )b"
   ]
  },
  {
   "cell_type": "code",
   "execution_count": 25,
   "metadata": {},
   "outputs": [
    {
     "name": "stdout",
     "output_type": "stream",
     "text": [
      "Expr\n",
      "  head: Symbol call\n",
      "  args: Array{Any}((2,))\n",
      "    1: Symbol sin\n",
      "    2: Expr\n",
      "      head: Symbol call\n",
      "      args: Array{Any}((3,))\n",
      "        1: Symbol +\n",
      "        2: Expr\n",
      "          head: Symbol call\n",
      "          args: Array{Any}((3,))\n",
      "            1: Symbol *\n",
      "            2: Int64 3\n",
      "            3: Symbol a\n",
      "        3: Expr\n",
      "          head: Symbol call\n",
      "          args: Array{Any}((3,))\n",
      "            1: Symbol *\n",
      "            2: Int64 2\n",
      "            3: Expr\n",
      "              head: Symbol call\n",
      "              args: Array{Any}((3,))\n",
      "                1: Symbol ^\n",
      "                2: Symbol b\n",
      "                3: Int64 2\n"
     ]
    }
   ],
   "source": [
    "dump(ex)"
   ]
  },
  {
   "cell_type": "code",
   "execution_count": 26,
   "metadata": {},
   "outputs": [
    {
     "name": "stdout",
     "output_type": "stream",
     "text": [
      "(:call, :sin, (:call, :+, (:call, :*, 3, :a), (:call, :*, 2, (:call, :^, :b, 2))))"
     ]
    }
   ],
   "source": [
    "Meta.show_sexpr(ex)"
   ]
  },
  {
   "cell_type": "markdown",
   "metadata": {},
   "source": [
    "```\n",
    "(sin (+ (* 3 a) (* 2 (^ b 2))))\n",
    "```"
   ]
  },
  {
   "cell_type": "code",
   "execution_count": 27,
   "metadata": {},
   "outputs": [
    {
     "data": {
      "text/plain": [
       "2-element Array{Any,1}:\n",
       " :sin             \n",
       " :(3a + 2 * b ^ 2)"
      ]
     },
     "execution_count": 27,
     "metadata": {},
     "output_type": "execute_result"
    }
   ],
   "source": [
    "ex.args"
   ]
  },
  {
   "cell_type": "code",
   "execution_count": 28,
   "metadata": {},
   "outputs": [
    {
     "data": {
      "text/plain": [
       "Expr"
      ]
     },
     "execution_count": 28,
     "metadata": {},
     "output_type": "execute_result"
    }
   ],
   "source": [
    "typeof(ex.args[2])"
   ]
  },
  {
   "cell_type": "code",
   "execution_count": 29,
   "metadata": {},
   "outputs": [
    {
     "data": {
      "text/plain": [
       "3-element Array{Any,1}:\n",
       " :+          \n",
       " :(3a)       \n",
       " :(2 * b ^ 2)"
      ]
     },
     "execution_count": 29,
     "metadata": {},
     "output_type": "execute_result"
    }
   ],
   "source": [
    "ex.args[2].args"
   ]
  },
  {
   "cell_type": "code",
   "execution_count": 30,
   "metadata": {},
   "outputs": [
    {
     "data": {
      "text/plain": [
       ":cos"
      ]
     },
     "execution_count": 30,
     "metadata": {},
     "output_type": "execute_result"
    }
   ],
   "source": [
    "ex.args[1] = :cos"
   ]
  },
  {
   "cell_type": "code",
   "execution_count": 31,
   "metadata": {},
   "outputs": [
    {
     "data": {
      "text/plain": [
       ":(cos(3a + 2 * b ^ 2))"
      ]
     },
     "execution_count": 31,
     "metadata": {},
     "output_type": "execute_result"
    }
   ],
   "source": [
    "ex"
   ]
  },
  {
   "cell_type": "code",
   "execution_count": 32,
   "metadata": {},
   "outputs": [
    {
     "data": {
      "text/plain": [
       "quote\n",
       "    #= In[32]:2 =#\n",
       "    println(\"Hello\")\n",
       "end"
      ]
     },
     "execution_count": 32,
     "metadata": {},
     "output_type": "execute_result"
    }
   ],
   "source": [
    "blk = quote\n",
    "    println(\"Hello\")\n",
    "end"
   ]
  },
  {
   "cell_type": "code",
   "execution_count": 33,
   "metadata": {},
   "outputs": [
    {
     "name": "stdout",
     "output_type": "stream",
     "text": [
      "Expr\n",
      "  head: Symbol block\n",
      "  args: Array{Any}((2,))\n",
      "    1: LineNumberNode\n",
      "      line: Int64 2\n",
      "      file: Symbol In[32]\n",
      "    2: Expr\n",
      "      head: Symbol call\n",
      "      args: Array{Any}((2,))\n",
      "        1: Symbol println\n",
      "        2: String \"Hello\"\n"
     ]
    }
   ],
   "source": [
    "dump(blk)"
   ]
  },
  {
   "cell_type": "code",
   "execution_count": 34,
   "metadata": {},
   "outputs": [
    {
     "name": "stdout",
     "output_type": "stream",
     "text": [
      "Hello\n"
     ]
    }
   ],
   "source": [
    "eval(blk)"
   ]
  },
  {
   "cell_type": "code",
   "execution_count": 35,
   "metadata": {},
   "outputs": [
    {
     "data": {
      "text/plain": [
       "3-element Array{Any,1}:\n",
       " :(#= In[32]:2 =#)  \n",
       " :(println(\"Hello\"))\n",
       " :(println(\"AFTER\"))"
      ]
     },
     "execution_count": 35,
     "metadata": {},
     "output_type": "execute_result"
    }
   ],
   "source": [
    "push!(blk.args, :(println(\"AFTER\")))"
   ]
  },
  {
   "cell_type": "code",
   "execution_count": 36,
   "metadata": {},
   "outputs": [
    {
     "data": {
      "text/plain": [
       "quote\n",
       "    #= In[32]:2 =#\n",
       "    println(\"Hello\")\n",
       "    println(\"AFTER\")\n",
       "end"
      ]
     },
     "execution_count": 36,
     "metadata": {},
     "output_type": "execute_result"
    }
   ],
   "source": [
    "blk"
   ]
  },
  {
   "cell_type": "code",
   "execution_count": 37,
   "metadata": {},
   "outputs": [
    {
     "name": "stdout",
     "output_type": "stream",
     "text": [
      "Hello\n",
      "AFTER\n"
     ]
    }
   ],
   "source": [
    "eval(blk)"
   ]
  },
  {
   "cell_type": "code",
   "execution_count": 38,
   "metadata": {},
   "outputs": [
    {
     "data": {
      "text/plain": [
       "4-element Array{Any,1}:\n",
       " :(println(\"BEFORE\"))\n",
       " :(#= In[32]:2 =#)   \n",
       " :(println(\"Hello\")) \n",
       " :(println(\"AFTER\")) "
      ]
     },
     "execution_count": 38,
     "metadata": {},
     "output_type": "execute_result"
    }
   ],
   "source": [
    "pushfirst!(blk.args, :(println(\"BEFORE\")))"
   ]
  },
  {
   "cell_type": "code",
   "execution_count": 39,
   "metadata": {},
   "outputs": [
    {
     "name": "stdout",
     "output_type": "stream",
     "text": [
      "BEFORE\n",
      "Hello\n",
      "AFTER\n"
     ]
    }
   ],
   "source": [
    "eval(blk)"
   ]
  },
  {
   "cell_type": "markdown",
   "metadata": {},
   "source": [
    "Expressions can be arbitrary Julia code that when evaluated will have side effects. For longer blocks of code, `quote...end` may be used instead of `:( ... )`"
   ]
  },
  {
   "cell_type": "code",
   "execution_count": 40,
   "metadata": {},
   "outputs": [
    {
     "data": {
      "text/plain": [
       "quote\n",
       "    #= In[40]:2 =#\n",
       "    y = 3\n",
       "    #= In[40]:3 =#\n",
       "    z = sin(y + 1)\n",
       "end"
      ]
     },
     "execution_count": 40,
     "metadata": {},
     "output_type": "execute_result"
    }
   ],
   "source": [
    "ex2 = quote\n",
    "    y = 3\n",
    "    z = sin(y+1)\n",
    "end"
   ]
  },
  {
   "cell_type": "code",
   "execution_count": 41,
   "metadata": {},
   "outputs": [
    {
     "data": {
      "text/plain": [
       "-0.7568024953079282"
      ]
     },
     "execution_count": 41,
     "metadata": {},
     "output_type": "execute_result"
    }
   ],
   "source": [
    "eval(ex2)"
   ]
  },
  {
   "cell_type": "code",
   "execution_count": 42,
   "metadata": {},
   "outputs": [
    {
     "data": {
      "text/plain": [
       "(3, -0.7568024953079282)"
      ]
     },
     "execution_count": 42,
     "metadata": {},
     "output_type": "execute_result"
    }
   ],
   "source": [
    "y, z"
   ]
  },
  {
   "cell_type": "markdown",
   "metadata": {},
   "source": [
    "The full form of the abstract syntax tree in a style similar to a Lisp s-expression can be obtained using functions from the `Meta` module in `Base`:"
   ]
  },
  {
   "cell_type": "code",
   "execution_count": 43,
   "metadata": {},
   "outputs": [
    {
     "name": "stdout",
     "output_type": "stream",
     "text": [
      "(:block,\n",
      "  :(#= In[40]:2 =#),\n",
      "  (:(=), :y, 3),\n",
      "  :(#= In[40]:3 =#),\n",
      "  (:(=), :z, (:call, :sin, (:call, :+, :y, 1)))\n",
      ")"
     ]
    }
   ],
   "source": [
    "Meta.show_sexpr(ex2)"
   ]
  },
  {
   "cell_type": "markdown",
   "metadata": {},
   "source": [
    "Another way of seeing the structure is with `dump`:"
   ]
  },
  {
   "cell_type": "markdown",
   "metadata": {},
   "source": [
    "# Macros"
   ]
  },
  {
   "cell_type": "markdown",
   "metadata": {},
   "source": [
    "With the ability to think of code in terms of a data structure in the Julia language, we can now *manipulate* those data structures, allowing us to *create Julia code on the fly from within Julia*. This is known as *metaprogramming*: programming a program.\n",
    "\n",
    "The name *macro* is given to a kind of \"super-function\" that takes a piece of code as an argument, and returns an altered piece of code. A macro is thus a very different kind of object than a standard function. [Although it can be thought of as a function in the mathematical sense of the word.]"
   ]
  },
  {
   "cell_type": "markdown",
   "metadata": {},
   "source": [
    "The [Julia manual](http://julia.readthedocs.org/en/latest/manual/metaprogramming/) puts it like this: \n",
    "\n",
    "> macros map a tuple of argument *expressions* to a returned\n",
    "> *expression*"
   ]
  },
  {
   "cell_type": "code",
   "execution_count": null,
   "metadata": {},
   "outputs": [],
   "source": [
    "# @mac a b c ===>  code to execute"
   ]
  },
  {
   "cell_type": "markdown",
   "metadata": {},
   "source": [
    "Although metaprogramming is possible in many languages, often by splicing strings together, Julia makes it considerably more natural, although not exactly easy – there seems to be something inherently tricky about the metaness of it.\n",
    "\n",
    "Metaprogramming is useful in a variety of settings. The following are a few example use cases:\n",
    "- to eliminate boilerplate (repetitive) code\n",
    "- to automatically generate complex code that would be painful by hand\n",
    "- to unroll loops for efficiency\n",
    "- to inline code for efficiency\n"
   ]
  },
  {
   "cell_type": "markdown",
   "metadata": {},
   "source": [
    "\n",
    "Macros are invoked using the `@` sign, e.g."
   ]
  },
  {
   "cell_type": "code",
   "execution_count": 45,
   "metadata": {},
   "outputs": [
    {
     "name": "stdout",
     "output_type": "stream",
     "text": [
      "  0.000004 seconds (5 allocations: 176 bytes)\n"
     ]
    },
    {
     "data": {
      "text/plain": [
       "-0.5440211108893698"
      ]
     },
     "execution_count": 45,
     "metadata": {},
     "output_type": "execute_result"
    }
   ],
   "source": [
    "@time sin(10)"
   ]
  },
  {
   "cell_type": "markdown",
   "metadata": {},
   "source": [
    "A trivial example of defining a macro is the following, which runs whatever code it is passed two times. The `$` sign is used to interpolate the value of the expression (similar to its usage for string interpolation):"
   ]
  },
  {
   "cell_type": "code",
   "execution_count": 47,
   "metadata": {},
   "outputs": [
    {
     "data": {
      "text/plain": [
       "@twice (macro with 1 method)"
      ]
     },
     "execution_count": 47,
     "metadata": {},
     "output_type": "execute_result"
    }
   ],
   "source": [
    "macro twice(ex)\n",
    "    quote\n",
    "        $(esc(ex))\n",
    "        $(esc(ex))\n",
    "    end\n",
    "end"
   ]
  },
  {
   "cell_type": "code",
   "execution_count": 48,
   "metadata": {},
   "outputs": [
    {
     "name": "stdout",
     "output_type": "stream",
     "text": [
      "1\n",
      "2\n"
     ]
    }
   ],
   "source": [
    "x = 0\n",
    "@twice println(x += 1)"
   ]
  },
  {
   "cell_type": "code",
   "execution_count": 50,
   "metadata": {},
   "outputs": [
    {
     "name": "stdout",
     "output_type": "stream",
     "text": [
      "5\n",
      "6\n"
     ]
    }
   ],
   "source": [
    "@twice println(x += 1)"
   ]
  },
  {
   "cell_type": "markdown",
   "metadata": {},
   "source": [
    "We can see what effect the macro actually has using `Meta.@macroexpand`:"
   ]
  },
  {
   "cell_type": "code",
   "execution_count": 54,
   "metadata": {},
   "outputs": [
    {
     "data": {
      "text/plain": [
       "quote\n",
       "    #= In[47]:3 =#\n",
       "    println(x += 1)\n",
       "    #= In[47]:4 =#\n",
       "    println(x += 1)\n",
       "end"
      ]
     },
     "execution_count": 54,
     "metadata": {},
     "output_type": "execute_result"
    }
   ],
   "source": [
    "Meta.@macroexpand @twice println(x += 1)"
   ]
  },
  {
   "cell_type": "code",
   "execution_count": 55,
   "metadata": {},
   "outputs": [
    {
     "data": {
      "text/plain": [
       "quote\n",
       "    #= util.jl:154 =#\n",
       "    local #6#stats = (Base.gc_num)()\n",
       "    #= util.jl:155 =#\n",
       "    local #8#elapsedtime = (Base.time_ns)()\n",
       "    #= util.jl:156 =#\n",
       "    local #7#val = sin(10)\n",
       "    #= util.jl:157 =#\n",
       "    #8#elapsedtime = (Base.time_ns)() - #8#elapsedtime\n",
       "    #= util.jl:158 =#\n",
       "    local #9#diff = (Base.GC_Diff)((Base.gc_num)(), #6#stats)\n",
       "    #= util.jl:159 =#\n",
       "    (Base.time_print)(#8#elapsedtime, (#9#diff).allocd, (#9#diff).total_time, (Base.gc_alloc_count)(#9#diff))\n",
       "    #= util.jl:161 =#\n",
       "    (Base.println)()\n",
       "    #= util.jl:162 =#\n",
       "    #7#val\n",
       "end"
      ]
     },
     "execution_count": 55,
     "metadata": {},
     "output_type": "execute_result"
    }
   ],
   "source": [
    "Meta.@macroexpand @time sin(10)"
   ]
  },
  {
   "cell_type": "code",
   "execution_count": 56,
   "metadata": {},
   "outputs": [
    {
     "data": {
      "text/plain": [
       "@mytime (macro with 1 method)"
      ]
     },
     "execution_count": 56,
     "metadata": {},
     "output_type": "execute_result"
    }
   ],
   "source": [
    "macro mytime(ex)\n",
    "    quote\n",
    "        t0 = time()\n",
    "        val = $ex\n",
    "        t1 = time()\n",
    "        println(\"$(t1-t0) seconds elapsed\")\n",
    "        val\n",
    "    end\n",
    "end"
   ]
  },
  {
   "cell_type": "code",
   "execution_count": 58,
   "metadata": {},
   "outputs": [
    {
     "name": "stdout",
     "output_type": "stream",
     "text": [
      "1.0056240558624268 seconds elapsed\n"
     ]
    },
    {
     "data": {
      "text/plain": [
       "\"done\""
      ]
     },
     "execution_count": 58,
     "metadata": {},
     "output_type": "execute_result"
    }
   ],
   "source": [
    "@mytime (sleep(1); \"done\")"
   ]
  },
  {
   "cell_type": "code",
   "execution_count": 59,
   "metadata": {},
   "outputs": [
    {
     "data": {
      "text/plain": [
       "quote\n",
       "    #= In[56]:3 =#\n",
       "    #16#t0 = (Main.time)()\n",
       "    #= In[56]:4 =#\n",
       "    #17#val = begin\n",
       "            (Main.sleep)(1)\n",
       "            #= In[59]:1 =#\n",
       "            \"done\"\n",
       "        end\n",
       "    #= In[56]:5 =#\n",
       "    #18#t1 = (Main.time)()\n",
       "    #= In[56]:6 =#\n",
       "    (Main.println)(\"$(#18#t1 - #16#t0) seconds elapsed\")\n",
       "    #= In[56]:7 =#\n",
       "    #17#val\n",
       "end"
      ]
     },
     "execution_count": 59,
     "metadata": {},
     "output_type": "execute_result"
    }
   ],
   "source": [
    "Meta.@macroexpand @mytime (sleep(1); \"done\")"
   ]
  },
  {
   "cell_type": "code",
   "execution_count": 61,
   "metadata": {},
   "outputs": [
    {
     "ename": "UndefVarError",
     "evalue": "UndefVarError: #16#t0 not defined",
     "output_type": "error",
     "traceback": [
      "UndefVarError: #16#t0 not defined",
      "",
      "Stacktrace:",
      " [1] top-level scope",
      " [2] eval at ./boot.jl:319 [inlined]",
      " [3] eval(::Symbol) at ./client.jl:389",
      " [4] top-level scope at In[61]:1"
     ]
    }
   ],
   "source": [
    "eval(Symbol(\"#16#t0\"))"
   ]
  },
  {
   "cell_type": "markdown",
   "metadata": {
    "collapsed": true
   },
   "source": [
    "## Macro Hygiene (and lack thereof)"
   ]
  },
  {
   "cell_type": "code",
   "execution_count": 62,
   "metadata": {},
   "outputs": [
    {
     "ename": "UndefVarError",
     "evalue": "UndefVarError: #21#t1 not defined",
     "output_type": "error",
     "traceback": [
      "UndefVarError: #21#t1 not defined",
      "",
      "Stacktrace:",
      " [1] top-level scope at In[56]:4",
      " [2] top-level scope at In[62]:2"
     ]
    }
   ],
   "source": [
    "t1 = \"the first terminator movie\"\n",
    "@mytime t1 *= \" is the best\""
   ]
  },
  {
   "cell_type": "code",
   "execution_count": 63,
   "metadata": {},
   "outputs": [
    {
     "data": {
      "text/plain": [
       "quote\n",
       "    #= In[56]:3 =#\n",
       "    #22#t0 = (Main.time)()\n",
       "    #= In[56]:4 =#\n",
       "    #23#val = (#24#t1 *= \" is the best\")\n",
       "    #= In[56]:5 =#\n",
       "    #24#t1 = (Main.time)()\n",
       "    #= In[56]:6 =#\n",
       "    (Main.println)(\"$(#24#t1 - #22#t0) seconds elapsed\")\n",
       "    #= In[56]:7 =#\n",
       "    #23#val\n",
       "end"
      ]
     },
     "execution_count": 63,
     "metadata": {},
     "output_type": "execute_result"
    }
   ],
   "source": [
    "Meta.@macroexpand @mytime t1 *= \" is the best\""
   ]
  },
  {
   "cell_type": "markdown",
   "metadata": {},
   "source": [
    "Oops! We don't want the macro to rewrite our `t1` to `#42#t1`. To prevent this, we can call the `esc` function on it in our macro:"
   ]
  },
  {
   "cell_type": "code",
   "execution_count": 64,
   "metadata": {},
   "outputs": [
    {
     "data": {
      "text/plain": [
       "@mytime (macro with 1 method)"
      ]
     },
     "execution_count": 64,
     "metadata": {},
     "output_type": "execute_result"
    }
   ],
   "source": [
    "macro mytime(ex)\n",
    "    quote\n",
    "        t0 = time()\n",
    "        val = $(esc(ex))\n",
    "        t1 = time()\n",
    "        println(\"$(t1-t0) seconds elapsed\")\n",
    "        val\n",
    "    end\n",
    "end"
   ]
  },
  {
   "cell_type": "code",
   "execution_count": 65,
   "metadata": {},
   "outputs": [
    {
     "name": "stdout",
     "output_type": "stream",
     "text": [
      "5.0067901611328125e-6 seconds elapsed\n"
     ]
    },
    {
     "data": {
      "text/plain": [
       "\"the first terminator movie is the best\""
      ]
     },
     "execution_count": 65,
     "metadata": {},
     "output_type": "execute_result"
    }
   ],
   "source": [
    "t1 = \"the first terminator movie\"\n",
    "@mytime t1 *= \" is the best\""
   ]
  },
  {
   "cell_type": "code",
   "execution_count": 66,
   "metadata": {},
   "outputs": [
    {
     "data": {
      "text/plain": [
       "quote\n",
       "    #= In[64]:3 =#\n",
       "    #28#t0 = (Main.time)()\n",
       "    #= In[64]:4 =#\n",
       "    #29#val = (t1 *= \" is the best\")\n",
       "    #= In[64]:5 =#\n",
       "    #30#t1 = (Main.time)()\n",
       "    #= In[64]:6 =#\n",
       "    (Main.println)(\"$(#30#t1 - #28#t0) seconds elapsed\")\n",
       "    #= In[64]:7 =#\n",
       "    #29#val\n",
       "end"
      ]
     },
     "execution_count": 66,
     "metadata": {},
     "output_type": "execute_result"
    }
   ],
   "source": [
    "Meta.@macroexpand @mytime t1 *= \" is the best\""
   ]
  },
  {
   "cell_type": "code",
   "execution_count": 67,
   "metadata": {},
   "outputs": [
    {
     "data": {
      "text/plain": [
       "@set_a (macro with 1 method)"
      ]
     },
     "execution_count": 67,
     "metadata": {},
     "output_type": "execute_result"
    }
   ],
   "source": [
    "macro set_a(val)\n",
    "    :($(esc(:a)) = $(esc(val)))\n",
    "end"
   ]
  },
  {
   "cell_type": "code",
   "execution_count": 68,
   "metadata": {},
   "outputs": [
    {
     "data": {
      "text/plain": [
       ":(a = 1.5)"
      ]
     },
     "execution_count": 68,
     "metadata": {},
     "output_type": "execute_result"
    }
   ],
   "source": [
    "Meta.@macroexpand @set_a 1.5"
   ]
  },
  {
   "cell_type": "code",
   "execution_count": 69,
   "metadata": {},
   "outputs": [
    {
     "data": {
      "text/plain": [
       "1.5"
      ]
     },
     "execution_count": 69,
     "metadata": {},
     "output_type": "execute_result"
    }
   ],
   "source": [
    "@set_a 1.5"
   ]
  },
  {
   "cell_type": "code",
   "execution_count": 70,
   "metadata": {},
   "outputs": [
    {
     "data": {
      "text/plain": [
       "1.5"
      ]
     },
     "execution_count": 70,
     "metadata": {},
     "output_type": "execute_result"
    }
   ],
   "source": [
    "a"
   ]
  },
  {
   "cell_type": "markdown",
   "metadata": {},
   "source": [
    "----\n",
    "**Exercise**: Define a macro `@until` that does an `until` loop.\n",
    "\n",
    "----"
   ]
  },
  {
   "cell_type": "code",
   "execution_count": 77,
   "metadata": {},
   "outputs": [
    {
     "data": {
      "text/plain": [
       "@until (macro with 1 method)"
      ]
     },
     "execution_count": 77,
     "metadata": {},
     "output_type": "execute_result"
    }
   ],
   "source": [
    "# implement `@until` here\n",
    "macro until(cond, body)\n",
    "    quote\n",
    "        while true\n",
    "            $(esc(body))\n",
    "            $(esc(cond)) && break\n",
    "        end\n",
    "    end\n",
    "end"
   ]
  },
  {
   "cell_type": "code",
   "execution_count": 79,
   "metadata": {},
   "outputs": [
    {
     "name": "stdout",
     "output_type": "stream",
     "text": [
      "0\n",
      "1\n",
      "2\n",
      "3\n",
      "4\n"
     ]
    }
   ],
   "source": [
    "let i = 0\n",
    "    @until i ≥ 5 begin\n",
    "        println(i)\n",
    "        i += 1\n",
    "    end\n",
    "end"
   ]
  },
  {
   "cell_type": "markdown",
   "metadata": {},
   "source": [
    "## Macros for numerical performance: Horner's method"
   ]
  },
  {
   "cell_type": "markdown",
   "metadata": {},
   "source": [
    "There are many interesting examples of macros in `Base`. One that is accessible is Horner's method for evaluating a polynomial:\n",
    "\n",
    "$$p(x) = a_n x^n + a_{n-1} x^{n-1} + \\cdots + a_1 x^1 + a_0$$\n",
    "\n",
    "may be evaluated efficiently as\n",
    "\n",
    "$$p(x) = a_0 + x(a_1 + \\cdots x(a_{n-2} + \\cdots + x(a_{n-1} + x a_n) \\cdots ) ) $$\n",
    "with only $n$ multiplications.\n",
    "\n",
    "The obvious way to do this is with a `for` loop. But if we know the polynomial *at compile time*, this loop may be unrolled using metaprogramming. This is implemented in the `Math` module in `math.jl` in `Base`, so the name of the macro which is not exported is `@Base.Math.horner`, so in the current namespace, `horner` should be undefined:"
   ]
  },
  {
   "cell_type": "code",
   "execution_count": 80,
   "metadata": {},
   "outputs": [
    {
     "data": {
      "text/plain": [
       "@horner (macro with 1 method)"
      ]
     },
     "execution_count": 80,
     "metadata": {},
     "output_type": "execute_result"
    }
   ],
   "source": [
    "# copied from base/math.jl\n",
    "macro horner(x, p...)\n",
    "    ex = esc(p[end])\n",
    "    for i = length(p)-1:-1:1\n",
    "        ex = :( $(esc(p[i])) + t * $ex )\n",
    "    end\n",
    "    Expr(:block, :(t = $(esc(x))), ex)\n",
    "end"
   ]
  },
  {
   "cell_type": "markdown",
   "metadata": {},
   "source": [
    "This is called as follows: to evaluate the polynomial $p(x) = 2 + 3x + 4x^2$ at $x=3$, we do"
   ]
  },
  {
   "cell_type": "code",
   "execution_count": 81,
   "metadata": {},
   "outputs": [
    {
     "data": {
      "text/plain": [
       "182"
      ]
     },
     "execution_count": 81,
     "metadata": {},
     "output_type": "execute_result"
    }
   ],
   "source": [
    "x = 3\n",
    "@horner(x, 2, 3, 4, 5)"
   ]
  },
  {
   "cell_type": "code",
   "execution_count": 84,
   "metadata": {},
   "outputs": [
    {
     "data": {
      "text/plain": [
       "p1 (generic function with 1 method)"
      ]
     },
     "execution_count": 84,
     "metadata": {},
     "output_type": "execute_result"
    }
   ],
   "source": [
    "p1(x) = 2 + 3x + 4x^2 + 5x^3"
   ]
  },
  {
   "cell_type": "code",
   "execution_count": 85,
   "metadata": {},
   "outputs": [
    {
     "data": {
      "text/plain": [
       "182"
      ]
     },
     "execution_count": 85,
     "metadata": {},
     "output_type": "execute_result"
    }
   ],
   "source": [
    "p1(3)"
   ]
  },
  {
   "cell_type": "markdown",
   "metadata": {},
   "source": [
    "To see what the macro does to this call, we again use `macroexpand`:"
   ]
  },
  {
   "cell_type": "code",
   "execution_count": 86,
   "metadata": {},
   "outputs": [
    {
     "data": {
      "text/plain": [
       "quote\n",
       "    #33#t = x\n",
       "    2 + #33#t * (3 + #33#t * (4 + #33#t * (5 + #33#t * (6 + #33#t * (7 + #33#t * (8 + #33#t * (9 + #33#t * 10)))))))\n",
       "end"
      ]
     },
     "execution_count": 86,
     "metadata": {},
     "output_type": "execute_result"
    }
   ],
   "source": [
    "Meta.@macroexpand @horner(x, 2, 3, 4, 5, 6, 7, 8, 9, 10)"
   ]
  },
  {
   "cell_type": "code",
   "execution_count": 87,
   "metadata": {},
   "outputs": [
    {
     "data": {
      "text/plain": [
       "quote\n",
       "    #34#t = x\n",
       "    (Base.Math.muladd)(#34#t, (Base.Math.muladd)(#34#t, (Base.Math.muladd)(#34#t, 5, 4), 3), 2)\n",
       "end"
      ]
     },
     "execution_count": 87,
     "metadata": {},
     "output_type": "execute_result"
    }
   ],
   "source": [
    "Meta.@macroexpand @Base.Math.horner(x, 2, 3, 4, 5)"
   ]
  },
  {
   "cell_type": "code",
   "execution_count": 88,
   "metadata": {},
   "outputs": [
    {
     "name": "stdout",
     "output_type": "stream",
     "text": [
      "search: \u001b[0m\u001b[1mm\u001b[22m\u001b[0m\u001b[1mu\u001b[22m\u001b[0m\u001b[1ml\u001b[22m\u001b[0m\u001b[1ma\u001b[22m\u001b[0m\u001b[1md\u001b[22m\u001b[0m\u001b[1md\u001b[22m\n",
      "\n"
     ]
    },
    {
     "data": {
      "text/markdown": [
       "```\n",
       "muladd(x, y, z)\n",
       "```\n",
       "\n",
       "Combined multiply-add: computes `x*y+z`, but allowing the add and multiply to be merged with each other or with surrounding operations for performance. For example, this may be implemented as an [`fma`](@ref) if the hardware supports it efficiently. The result can be different on different machines and can also be different on the same machine due to constant propagation or other optimizations. See [`fma`](@ref).\n",
       "\n",
       "# Examples\n",
       "\n",
       "```jldoctest\n",
       "julia> muladd(3, 2, 1)\n",
       "7\n",
       "\n",
       "julia> 3 * 2 + 1\n",
       "7\n",
       "```\n"
      ],
      "text/plain": [
       "\u001b[36m  muladd(x, y, z)\u001b[39m\n",
       "\n",
       "  Combined multiply-add: computes \u001b[36mx*y+z\u001b[39m, but allowing the add and multiply to\n",
       "  be merged with each other or with surrounding operations for performance.\n",
       "  For example, this may be implemented as an \u001b[36mfma\u001b[39m if the hardware supports it\n",
       "  efficiently. The result can be different on different machines and can also\n",
       "  be different on the same machine due to constant propagation or other\n",
       "  optimizations. See \u001b[36mfma\u001b[39m.\n",
       "\n",
       "\u001b[1m  Examples\u001b[22m\n",
       "\u001b[1m  ≡≡≡≡≡≡≡≡≡≡\u001b[22m\n",
       "\n",
       "\u001b[36m  julia> muladd(3, 2, 1)\u001b[39m\n",
       "\u001b[36m  7\u001b[39m\n",
       "\u001b[36m  \u001b[39m\n",
       "\u001b[36m  julia> 3 * 2 + 1\u001b[39m\n",
       "\u001b[36m  7\u001b[39m"
      ]
     },
     "execution_count": 88,
     "metadata": {},
     "output_type": "execute_result"
    }
   ],
   "source": [
    "?muladd"
   ]
  },
  {
   "cell_type": "code",
   "execution_count": 89,
   "metadata": {},
   "outputs": [
    {
     "name": "stdout",
     "output_type": "stream",
     "text": [
      "search: \u001b[0m\u001b[1mf\u001b[22m\u001b[0m\u001b[1mm\u001b[22m\u001b[0m\u001b[1ma\u001b[22m \u001b[0m\u001b[1mf\u001b[22mind\u001b[0m\u001b[1mm\u001b[22m\u001b[0m\u001b[1ma\u001b[22mx \u001b[0m\u001b[1mf\u001b[22mind\u001b[0m\u001b[1mm\u001b[22m\u001b[0m\u001b[1ma\u001b[22mx! @\u001b[0m\u001b[1mf\u001b[22mast\u001b[0m\u001b[1mm\u001b[22m\u001b[0m\u001b[1ma\u001b[22mth \u001b[0m\u001b[1mf\u001b[22mloat\u001b[0m\u001b[1mm\u001b[22m\u001b[0m\u001b[1ma\u001b[22mx\n",
      "\n"
     ]
    },
    {
     "data": {
      "text/markdown": [
       "```\n",
       "fma(x, y, z)\n",
       "```\n",
       "\n",
       "Computes `x*y+z` without rounding the intermediate result `x*y`. On some systems this is significantly more expensive than `x*y+z`. `fma` is used to improve accuracy in certain algorithms. See [`muladd`](@ref).\n"
      ],
      "text/plain": [
       "\u001b[36m  fma(x, y, z)\u001b[39m\n",
       "\n",
       "  Computes \u001b[36mx*y+z\u001b[39m without rounding the intermediate result \u001b[36mx*y\u001b[39m. On some systems\n",
       "  this is significantly more expensive than \u001b[36mx*y+z\u001b[39m. \u001b[36mfma\u001b[39m is used to improve\n",
       "  accuracy in certain algorithms. See \u001b[36mmuladd\u001b[39m."
      ]
     },
     "execution_count": 89,
     "metadata": {},
     "output_type": "execute_result"
    }
   ],
   "source": [
    "?fma"
   ]
  },
  {
   "cell_type": "code",
   "execution_count": 90,
   "metadata": {},
   "outputs": [
    {
     "data": {
      "text/plain": [
       "f (generic function with 1 method)"
      ]
     },
     "execution_count": 90,
     "metadata": {},
     "output_type": "execute_result"
    }
   ],
   "source": [
    "f(x) = Base.Math.@horner(x, 1.2, 2.3, 3.4, 4.5)"
   ]
  },
  {
   "cell_type": "code",
   "execution_count": 91,
   "metadata": {},
   "outputs": [
    {
     "name": "stdout",
     "output_type": "stream",
     "text": [
      "\n",
      "; Function f\n",
      "; Location: In[90]:1\n",
      "define double @julia_f_227132420(double) {\n",
      "top:\n",
      "; Function muladd; {\n",
      "; Location: float.jl:404\n",
      "  %1 = fmul contract double %0, 4.500000e+00\n",
      "  %2 = fadd contract double %1, 3.400000e+00\n",
      "  %3 = fmul contract double %2, %0\n",
      "  %4 = fadd contract double %3, 2.300000e+00\n",
      "  %5 = fmul contract double %4, %0\n",
      "  %6 = fadd contract double %5, 1.200000e+00\n",
      ";}\n",
      "  ret double %6\n",
      "}\n"
     ]
    }
   ],
   "source": [
    "@code_llvm f(0.1)"
   ]
  },
  {
   "cell_type": "code",
   "execution_count": 92,
   "metadata": {},
   "outputs": [
    {
     "name": "stdout",
     "output_type": "stream",
     "text": [
      "\t.section\t__TEXT,__text,regular,pure_instructions\n",
      "; Function f {\n",
      "; Location: In[90]:1\n",
      "\tmovabsq\t$5026123944, %rax       ## imm = 0x12B9490A8\n",
      "; Function muladd; {\n",
      "; Location: float.jl:404\n",
      "\tvmovsd\t(%rax), %xmm1           ## xmm1 = mem[0],zero\n",
      "\tmovabsq\t$5026123952, %rax       ## imm = 0x12B9490B0\n",
      "\tvfmadd213sd\t(%rax), %xmm0, %xmm1\n",
      "\tmovabsq\t$5026123960, %rax       ## imm = 0x12B9490B8\n",
      "\tvfmadd213sd\t(%rax), %xmm0, %xmm1\n",
      "\tmovabsq\t$5026123968, %rax       ## imm = 0x12B9490C0\n",
      "\tvfmadd213sd\t(%rax), %xmm1, %xmm0\n",
      ";}\n",
      "\tretq\n",
      "\tnopl\t(%rax)\n",
      ";}\n"
     ]
    }
   ],
   "source": [
    "@code_native f(0.1)"
   ]
  },
  {
   "cell_type": "code",
   "execution_count": null,
   "metadata": {},
   "outputs": [],
   "source": []
  }
 ],
 "metadata": {
  "anaconda-cloud": {},
  "kernelspec": {
   "display_name": "Julia 1.1.0-DEV",
   "language": "julia",
   "name": "julia-1.1"
  },
  "language_info": {
   "file_extension": ".jl",
   "mimetype": "application/julia",
   "name": "julia",
   "version": "1.1.0"
  }
 },
 "nbformat": 4,
 "nbformat_minor": 1
}
