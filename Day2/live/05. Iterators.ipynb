{
 "cells": [
  {
   "cell_type": "markdown",
   "metadata": {},
   "source": [
    "# Iterators"
   ]
  },
  {
   "cell_type": "markdown",
   "metadata": {},
   "source": [
    "`for` loops \"lower\" to `while` loops plus calls to the `iterate` function:\n",
    "\n",
    "```jl\n",
    "for i in iter   # or  \"for i = iter\" or \"for i ∈ iter\"\n",
    "    # body\n",
    "end\n",
    "```\n",
    "\n",
    "internally works the same as:"
   ]
  },
  {
   "cell_type": "markdown",
   "metadata": {},
   "source": [
    "```jl\n",
    "next = iterate(iter)\n",
    "while next !== nothing\n",
    "    (i, state) = next\n",
    "    # body\n",
    "    next = iterate(iter, state)\n",
    "end\n",
    "```\n",
    "\n",
    "The same applies to comprehensions and generators."
   ]
  },
  {
   "cell_type": "markdown",
   "metadata": {},
   "source": [
    "Note `nothing` is a singleton value (the only value of its type `Nothing`) used by convention when there is no value to return (a bit like `void` in C). For example "
   ]
  },
  {
   "cell_type": "code",
   "execution_count": 2,
   "metadata": {},
   "outputs": [
    {
     "name": "stdout",
     "output_type": "stream",
     "text": [
      "hello"
     ]
    }
   ],
   "source": [
    "print(\"hello\")"
   ]
  },
  {
   "cell_type": "code",
   "execution_count": 3,
   "metadata": {},
   "outputs": [],
   "source": [
    "A = ['a','b','c'];"
   ]
  },
  {
   "cell_type": "code",
   "execution_count": 4,
   "metadata": {},
   "outputs": [
    {
     "data": {
      "text/plain": [
       "('a', 2)"
      ]
     },
     "execution_count": 4,
     "metadata": {},
     "output_type": "execute_result"
    }
   ],
   "source": [
    "iterate(A)"
   ]
  },
  {
   "cell_type": "code",
   "execution_count": 5,
   "metadata": {},
   "outputs": [
    {
     "data": {
      "text/plain": [
       "('b', 3)"
      ]
     },
     "execution_count": 5,
     "metadata": {},
     "output_type": "execute_result"
    }
   ],
   "source": [
    "iterate(A, 2)"
   ]
  },
  {
   "cell_type": "code",
   "execution_count": 6,
   "metadata": {},
   "outputs": [
    {
     "data": {
      "text/plain": [
       "('c', 4)"
      ]
     },
     "execution_count": 6,
     "metadata": {},
     "output_type": "execute_result"
    }
   ],
   "source": [
    "iterate(A, 3)"
   ]
  },
  {
   "cell_type": "code",
   "execution_count": 8,
   "metadata": {},
   "outputs": [],
   "source": [
    "iterate(A, 4)"
   ]
  },
  {
   "cell_type": "markdown",
   "metadata": {},
   "source": [
    "Iteration is also used by \"destructuring\" assignment:"
   ]
  },
  {
   "cell_type": "code",
   "execution_count": 9,
   "metadata": {},
   "outputs": [
    {
     "data": {
      "text/plain": [
       "3-element Array{Char,1}:\n",
       " 'a'\n",
       " 'b'\n",
       " 'c'"
      ]
     },
     "execution_count": 9,
     "metadata": {},
     "output_type": "execute_result"
    }
   ],
   "source": [
    "x, y = A"
   ]
  },
  {
   "cell_type": "code",
   "execution_count": 10,
   "metadata": {},
   "outputs": [
    {
     "data": {
      "text/plain": [
       "'a': ASCII/Unicode U+0061 (category Ll: Letter, lowercase)"
      ]
     },
     "execution_count": 10,
     "metadata": {},
     "output_type": "execute_result"
    }
   ],
   "source": [
    "x"
   ]
  },
  {
   "cell_type": "code",
   "execution_count": 11,
   "metadata": {},
   "outputs": [
    {
     "data": {
      "text/plain": [
       "'b': ASCII/Unicode U+0062 (category Ll: Letter, lowercase)"
      ]
     },
     "execution_count": 11,
     "metadata": {},
     "output_type": "execute_result"
    }
   ],
   "source": [
    "y"
   ]
  },
  {
   "cell_type": "markdown",
   "metadata": {},
   "source": [
    "Yet another user of this \"iteration protocol\" is so-called argument \"splatting\":"
   ]
  },
  {
   "cell_type": "code",
   "execution_count": null,
   "metadata": {},
   "outputs": [],
   "source": [
    "string(A)"
   ]
  },
  {
   "cell_type": "code",
   "execution_count": 13,
   "metadata": {},
   "outputs": [
    {
     "data": {
      "text/plain": [
       "\"abc\""
      ]
     },
     "execution_count": 13,
     "metadata": {},
     "output_type": "execute_result"
    }
   ],
   "source": [
    "string('a','b','c')"
   ]
  },
  {
   "cell_type": "code",
   "execution_count": 12,
   "metadata": {},
   "outputs": [
    {
     "data": {
      "text/plain": [
       "\"abc\""
      ]
     },
     "execution_count": 12,
     "metadata": {},
     "output_type": "execute_result"
    }
   ],
   "source": [
    "string(A...)"
   ]
  },
  {
   "cell_type": "markdown",
   "metadata": {},
   "source": [
    "## Iteration utilities"
   ]
  },
  {
   "cell_type": "markdown",
   "metadata": {},
   "source": [
    "`collect` gives you all elements of an iterator as an array.\n",
    "Comprehensions are actually equivalent to calling `collect` on a generator."
   ]
  },
  {
   "cell_type": "code",
   "execution_count": 14,
   "metadata": {},
   "outputs": [
    {
     "data": {
      "text/plain": [
       "3-element Array{Pair{Int64,Char},1}:\n",
       " 1 => 'a'\n",
       " 2 => 'b'\n",
       " 3 => 'c'"
      ]
     },
     "execution_count": 14,
     "metadata": {},
     "output_type": "execute_result"
    }
   ],
   "source": [
    "collect(pairs(A))"
   ]
  },
  {
   "cell_type": "code",
   "execution_count": 15,
   "metadata": {},
   "outputs": [
    {
     "data": {
      "text/plain": [
       "(1 => 'a', 1)"
      ]
     },
     "execution_count": 15,
     "metadata": {},
     "output_type": "execute_result"
    }
   ],
   "source": [
    "iterate(pairs(A))"
   ]
  },
  {
   "cell_type": "code",
   "execution_count": 18,
   "metadata": {},
   "outputs": [
    {
     "ename": "DimensionMismatch",
     "evalue": "DimensionMismatch(\"dimensions must match\")",
     "output_type": "error",
     "traceback": [
      "DimensionMismatch(\"dimensions must match\")",
      "",
      "Stacktrace:",
      " [1] promote_shape at ./indices.jl:154 [inlined]",
      " [2] axes(::Base.Iterators.Zip{UnitRange{Int64},Base.Iterators.Zip2{Array{Char,1},Base.Iterators.Pairs{Int64,Char,LinearIndices{1,Tuple{Base.OneTo{Int64}}},Array{Char,1}}}}) at ./iterators.jl:371",
      " [3] _similar_for at ./array.jl:533 [inlined]",
      " [4] _collect at ./array.jl:563 [inlined]",
      " [5] collect(::Base.Iterators.Zip{UnitRange{Int64},Base.Iterators.Zip2{Array{Char,1},Base.Iterators.Pairs{Int64,Char,LinearIndices{1,Tuple{Base.OneTo{Int64}}},Array{Char,1}}}}) at ./array.jl:557",
      " [6] top-level scope at In[18]:1"
     ]
    }
   ],
   "source": [
    "collect(zip(100:110,A,pairs(A)))"
   ]
  },
  {
   "cell_type": "code",
   "execution_count": null,
   "metadata": {},
   "outputs": [],
   "source": [
    "for (z, c, pair) in zip(100:102, A, pairs(A))\n",
    "    "
   ]
  },
  {
   "cell_type": "code",
   "execution_count": 19,
   "metadata": {},
   "outputs": [
    {
     "data": {
      "text/plain": [
       "3×3 Array{Tuple{Char,Int64},2}:\n",
       " ('a', 10)  ('a', 11)  ('a', 12)\n",
       " ('b', 10)  ('b', 11)  ('b', 12)\n",
       " ('c', 10)  ('c', 11)  ('c', 12)"
      ]
     },
     "execution_count": 19,
     "metadata": {},
     "output_type": "execute_result"
    }
   ],
   "source": [
    "collect(Iterators.product(A,10:12))"
   ]
  },
  {
   "cell_type": "markdown",
   "metadata": {},
   "source": [
    "Some other favorites to experiment with. These are in the built-in `Iterators` module:\n",
    "- `enumerate`\n",
    "- `rest`\n",
    "- `take`\n",
    "- `drop`\n",
    "- `product`\n",
    "- `flatten`\n",
    "- `partition`"
   ]
  },
  {
   "cell_type": "markdown",
   "metadata": {},
   "source": [
    "Some iterators are infinite!\n",
    "- `countfrom`\n",
    "- `repeated`\n",
    "- `cycle`"
   ]
  },
  {
   "cell_type": "code",
   "execution_count": 20,
   "metadata": {},
   "outputs": [
    {
     "data": {
      "text/plain": [
       "Base.Iterators.Zip2{Base.Iterators.Cycle{UnitRange{Int64}},Base.Iterators.Flatten{Array{Array{Int64,1},1}}}(Base.Iterators.Cycle{UnitRange{Int64}}(0:1), Base.Iterators.Flatten{Array{Array{Int64,1},1}}(Array{Int64,1}[[2, 3], [4, 5]]))"
      ]
     },
     "execution_count": 20,
     "metadata": {},
     "output_type": "execute_result"
    }
   ],
   "source": [
    "I = zip(Iterators.cycle(0:1), Iterators.flatten([[2,3],[4,5]]))"
   ]
  },
  {
   "cell_type": "code",
   "execution_count": 21,
   "metadata": {},
   "outputs": [
    {
     "data": {
      "text/plain": [
       "4-element Array{Tuple{Int64,Int64},1}:\n",
       " (0, 2)\n",
       " (1, 3)\n",
       " (0, 4)\n",
       " (1, 5)"
      ]
     },
     "execution_count": 21,
     "metadata": {},
     "output_type": "execute_result"
    }
   ],
   "source": [
    "collect(I)"
   ]
  },
  {
   "cell_type": "code",
   "execution_count": 24,
   "metadata": {},
   "outputs": [
    {
     "data": {
      "text/plain": [
       "12-element Array{Tuple{Tuple{Int64,Int64},Char},1}:\n",
       " ((0, 2), 'a')\n",
       " ((1, 3), 'a')\n",
       " ((0, 4), 'a')\n",
       " ((1, 5), 'a')\n",
       " ((0, 2), 'b')\n",
       " ((1, 3), 'b')\n",
       " ((0, 4), 'b')\n",
       " ((1, 5), 'b')\n",
       " ((0, 2), 'c')\n",
       " ((1, 3), 'c')\n",
       " ((0, 4), 'c')\n",
       " ((1, 5), 'c')"
      ]
     },
     "execution_count": 24,
     "metadata": {},
     "output_type": "execute_result"
    }
   ],
   "source": [
    "collect(Iterators.product(I,A))"
   ]
  },
  {
   "cell_type": "code",
   "execution_count": 25,
   "metadata": {},
   "outputs": [
    {
     "data": {
      "text/plain": [
       "\"(0, 2)(1, 3)(0, 4)(1, 5)\""
      ]
     },
     "execution_count": 25,
     "metadata": {},
     "output_type": "execute_result"
    }
   ],
   "source": [
    "string(I...)"
   ]
  },
  {
   "cell_type": "markdown",
   "metadata": {},
   "source": [
    "## Defining iterators"
   ]
  },
  {
   "cell_type": "code",
   "execution_count": 26,
   "metadata": {},
   "outputs": [],
   "source": [
    "struct SimpleRange\n",
    "    lo::Int\n",
    "    hi::Int\n",
    "end"
   ]
  },
  {
   "cell_type": "code",
   "execution_count": 27,
   "metadata": {},
   "outputs": [],
   "source": [
    "Base.iterate(r::SimpleRange, state = r.lo) =\n",
    "    state > r.hi ? nothing : (state, state+1)"
   ]
  },
  {
   "cell_type": "code",
   "execution_count": 28,
   "metadata": {},
   "outputs": [],
   "source": [
    "Base.length(r::SimpleRange) = r.hi-r.lo+1"
   ]
  },
  {
   "cell_type": "code",
   "execution_count": 30,
   "metadata": {},
   "outputs": [
    {
     "data": {
      "text/plain": [
       "7-element Array{Tuple{String,Any},1}:\n",
       " (\"hi\", 2) \n",
       " (\"bye\", 3)\n",
       " (\"hi\", 4) \n",
       " (\"bye\", 5)\n",
       " (\"hi\", 6) \n",
       " (\"bye\", 7)\n",
       " (\"hi\", 8) "
      ]
     },
     "execution_count": 30,
     "metadata": {},
     "output_type": "execute_result"
    }
   ],
   "source": [
    "collect(zip(Iterators.cycle([\"hi\",\"bye\"]),SimpleRange(2,8)))"
   ]
  },
  {
   "cell_type": "code",
   "execution_count": 31,
   "metadata": {},
   "outputs": [
    {
     "data": {
      "text/plain": [
       "SimpleRange(2, 8)"
      ]
     },
     "execution_count": 31,
     "metadata": {},
     "output_type": "execute_result"
    }
   ],
   "source": [
    "x, y = SimpleRange(2,8)"
   ]
  },
  {
   "cell_type": "code",
   "execution_count": 32,
   "metadata": {},
   "outputs": [
    {
     "data": {
      "text/plain": [
       "2"
      ]
     },
     "execution_count": 32,
     "metadata": {},
     "output_type": "execute_result"
    }
   ],
   "source": [
    "x"
   ]
  },
  {
   "cell_type": "code",
   "execution_count": 33,
   "metadata": {},
   "outputs": [
    {
     "data": {
      "text/plain": [
       "3"
      ]
     },
     "execution_count": 33,
     "metadata": {},
     "output_type": "execute_result"
    }
   ],
   "source": [
    "y"
   ]
  },
  {
   "cell_type": "code",
   "execution_count": 34,
   "metadata": {},
   "outputs": [
    {
     "data": {
      "text/plain": [
       "\"2345678\""
      ]
     },
     "execution_count": 34,
     "metadata": {},
     "output_type": "execute_result"
    }
   ],
   "source": [
    "string(SimpleRange(2,8)...)"
   ]
  },
  {
   "cell_type": "markdown",
   "metadata": {},
   "source": [
    "## Iterator traits"
   ]
  },
  {
   "cell_type": "markdown",
   "metadata": {},
   "source": [
    "For many algorithms, it's useful to know certain properties of an iterator up front.\n",
    "\n",
    "The most useful is whether an iterator has a fixed, known length."
   ]
  },
  {
   "cell_type": "code",
   "execution_count": 36,
   "metadata": {},
   "outputs": [
    {
     "data": {
      "text/plain": [
       "Base.HasShape{1}()"
      ]
     },
     "execution_count": 36,
     "metadata": {},
     "output_type": "execute_result"
    }
   ],
   "source": [
    "Base.IteratorSize([1])"
   ]
  },
  {
   "cell_type": "code",
   "execution_count": 35,
   "metadata": {},
   "outputs": [
    {
     "data": {
      "text/plain": [
       "Base.IsInfinite()"
      ]
     },
     "execution_count": 35,
     "metadata": {},
     "output_type": "execute_result"
    }
   ],
   "source": [
    "Base.IteratorSize(Iterators.repeated(1))"
   ]
  },
  {
   "cell_type": "code",
   "execution_count": 37,
   "metadata": {},
   "outputs": [
    {
     "data": {
      "text/plain": [
       "Base.SizeUnknown()"
      ]
     },
     "execution_count": 37,
     "metadata": {},
     "output_type": "execute_result"
    }
   ],
   "source": [
    "Base.IteratorSize(eachline(open(\"/dev/null\")))"
   ]
  },
  {
   "cell_type": "markdown",
   "metadata": {},
   "source": [
    "## Exercise\n",
    "\n",
    "Define an iterator giving the first N fibonacci numbers."
   ]
  },
  {
   "cell_type": "code",
   "execution_count": null,
   "metadata": {},
   "outputs": [],
   "source": [
    "f = Fibs(10)\n",
    "collect(f) == [1,1,2,3,5,8,13,21,34,55]"
   ]
  },
  {
   "cell_type": "code",
   "execution_count": 38,
   "metadata": {},
   "outputs": [],
   "source": [
    "struct Fibonacci\n",
    "    n::Int\n",
    "end"
   ]
  },
  {
   "cell_type": "code",
   "execution_count": 45,
   "metadata": {},
   "outputs": [],
   "source": [
    "function Base.iterate(f::Fibonacci, (prev,curr,count) = (0,0,0))\n",
    "#    prev, curr, count = state\n",
    "    if count >= f.n\n",
    "        return nothing\n",
    "    elseif count < 1\n",
    "        return (1, (0, 1, 1))\n",
    "    else\n",
    "        return (prev + curr,\n",
    "                (curr, prev+curr, count+1))\n",
    "    end\n",
    "end"
   ]
  },
  {
   "cell_type": "code",
   "execution_count": 46,
   "metadata": {},
   "outputs": [
    {
     "name": "stdout",
     "output_type": "stream",
     "text": [
      "1\n",
      "1\n",
      "2\n",
      "3\n",
      "5\n",
      "8\n",
      "13\n",
      "21\n",
      "34\n",
      "55\n"
     ]
    }
   ],
   "source": [
    "for n in Fibonacci(10)\n",
    "    println(n)\n",
    "end"
   ]
  },
  {
   "cell_type": "code",
   "execution_count": 50,
   "metadata": {},
   "outputs": [
    {
     "name": "stdout",
     "output_type": "stream",
     "text": [
      "1\n",
      "1\n",
      "2\n",
      "3\n",
      "5\n",
      "8\n",
      "13\n",
      "21\n",
      "34\n",
      "55\n"
     ]
    }
   ],
   "source": [
    "a, b, n = 1, 1, 1\n",
    "while true\n",
    "    global a, b\n",
    "    println(a)\n",
    "    a, b = b, a+b\n",
    "end"
   ]
  },
  {
   "cell_type": "code",
   "execution_count": 51,
   "metadata": {},
   "outputs": [],
   "source": [
    "struct Fib\n",
    "    a::Int\n",
    "    b::Int\n",
    "end\n",
    "\n",
    "Base.IteratorSize(::Type{Fib}) = Base.IsInfinite()\n",
    "\n",
    "Base.iterate(f::Fib, (a, b) = (f.a, f.b)) = a, (b, a+b)"
   ]
  },
  {
   "cell_type": "code",
   "execution_count": 56,
   "metadata": {},
   "outputs": [
    {
     "data": {
      "text/plain": [
       "25-element Array{Any,1}:\n",
       "      3\n",
       "      4\n",
       "      7\n",
       "     11\n",
       "     18\n",
       "     29\n",
       "     47\n",
       "     76\n",
       "    123\n",
       "    199\n",
       "    322\n",
       "    521\n",
       "    843\n",
       "   1364\n",
       "   2207\n",
       "   3571\n",
       "   5778\n",
       "   9349\n",
       "  15127\n",
       "  24476\n",
       "  39603\n",
       "  64079\n",
       " 103682\n",
       " 167761\n",
       " 271443"
      ]
     },
     "execution_count": 56,
     "metadata": {},
     "output_type": "execute_result"
    }
   ],
   "source": [
    "Iterators.take(Fib(3, 4), 25) |> collect"
   ]
  },
  {
   "cell_type": "code",
   "execution_count": null,
   "metadata": {},
   "outputs": [],
   "source": []
  },
  {
   "cell_type": "markdown",
   "metadata": {},
   "source": [
    "## Index iterators"
   ]
  },
  {
   "cell_type": "code",
   "execution_count": 57,
   "metadata": {},
   "outputs": [
    {
     "data": {
      "text/plain": [
       "3×5 Array{Float64,2}:\n",
       " 0.355632  0.985793  0.489379  0.624686  0.712901\n",
       " 0.413506  0.324862  0.822389  0.271306  0.764273\n",
       " 0.428701  0.239999  0.332635  0.72918   0.533587"
      ]
     },
     "execution_count": 57,
     "metadata": {},
     "output_type": "execute_result"
    }
   ],
   "source": [
    "A = rand(3,5)"
   ]
  },
  {
   "cell_type": "code",
   "execution_count": 58,
   "metadata": {},
   "outputs": [
    {
     "data": {
      "text/plain": [
       "Base.OneTo(15)"
      ]
     },
     "execution_count": 58,
     "metadata": {},
     "output_type": "execute_result"
    }
   ],
   "source": [
    "eachindex(A)"
   ]
  },
  {
   "cell_type": "code",
   "execution_count": 59,
   "metadata": {},
   "outputs": [
    {
     "data": {
      "text/plain": [
       "0.7642729376382325"
      ]
     },
     "execution_count": 59,
     "metadata": {},
     "output_type": "execute_result"
    }
   ],
   "source": [
    "A[14]"
   ]
  },
  {
   "cell_type": "code",
   "execution_count": 60,
   "metadata": {},
   "outputs": [
    {
     "data": {
      "text/plain": [
       "3×5 CartesianIndices{2,Tuple{Base.OneTo{Int64},Base.OneTo{Int64}}}:\n",
       " CartesianIndex(1, 1)  CartesianIndex(1, 2)  …  CartesianIndex(1, 5)\n",
       " CartesianIndex(2, 1)  CartesianIndex(2, 2)     CartesianIndex(2, 5)\n",
       " CartesianIndex(3, 1)  CartesianIndex(3, 2)     CartesianIndex(3, 5)"
      ]
     },
     "execution_count": 60,
     "metadata": {},
     "output_type": "execute_result"
    }
   ],
   "source": [
    "keys(A)"
   ]
  },
  {
   "cell_type": "code",
   "execution_count": 61,
   "metadata": {},
   "outputs": [
    {
     "data": {
      "text/plain": [
       "2×3 view(::Array{Float64,2}, [1, 3], [1, 2, 5]) with eltype Float64:\n",
       " 0.355632  0.985793  0.712901\n",
       " 0.428701  0.239999  0.533587"
      ]
     },
     "execution_count": 61,
     "metadata": {},
     "output_type": "execute_result"
    }
   ],
   "source": [
    "Av = view(A, [1,3], [1,2,5])"
   ]
  },
  {
   "cell_type": "code",
   "execution_count": 62,
   "metadata": {},
   "outputs": [
    {
     "data": {
      "text/plain": [
       "2×3 Array{Float64,2}:\n",
       " 0.355632  0.985793  0.712901\n",
       " 0.428701  0.239999  0.533587"
      ]
     },
     "execution_count": 62,
     "metadata": {},
     "output_type": "execute_result"
    }
   ],
   "source": [
    "A[[1,3],[1,2,5]]"
   ]
  },
  {
   "cell_type": "code",
   "execution_count": 63,
   "metadata": {},
   "outputs": [
    {
     "data": {
      "text/plain": [
       "2×3 CartesianIndices{2,Tuple{Base.OneTo{Int64},Base.OneTo{Int64}}}:\n",
       " CartesianIndex(1, 1)  CartesianIndex(1, 2)  CartesianIndex(1, 3)\n",
       " CartesianIndex(2, 1)  CartesianIndex(2, 2)  CartesianIndex(2, 3)"
      ]
     },
     "execution_count": 63,
     "metadata": {},
     "output_type": "execute_result"
    }
   ],
   "source": [
    "eachindex(Av)"
   ]
  },
  {
   "cell_type": "code",
   "execution_count": 64,
   "metadata": {},
   "outputs": [
    {
     "data": {
      "text/plain": [
       "CartesianIndex(1, 1)"
      ]
     },
     "execution_count": 64,
     "metadata": {},
     "output_type": "execute_result"
    }
   ],
   "source": [
    "i = first(eachindex(Av))"
   ]
  },
  {
   "cell_type": "code",
   "execution_count": 65,
   "metadata": {},
   "outputs": [
    {
     "data": {
      "text/plain": [
       "0.3556318479553726"
      ]
     },
     "execution_count": 65,
     "metadata": {},
     "output_type": "execute_result"
    }
   ],
   "source": [
    "Av[i]"
   ]
  },
  {
   "cell_type": "code",
   "execution_count": null,
   "metadata": {},
   "outputs": [],
   "source": []
  },
  {
   "cell_type": "code",
   "execution_count": null,
   "metadata": {},
   "outputs": [],
   "source": []
  },
  {
   "cell_type": "markdown",
   "metadata": {},
   "source": [
    "### Example: $3\\times 3\\times \\dots \\times3$ boxcar filter (from a blog post by Tim Holy)"
   ]
  },
  {
   "cell_type": "code",
   "execution_count": 66,
   "metadata": {},
   "outputs": [
    {
     "data": {
      "text/plain": [
       "boxcar3 (generic function with 1 method)"
      ]
     },
     "execution_count": 66,
     "metadata": {},
     "output_type": "execute_result"
    }
   ],
   "source": [
    "function boxcar3(A::AbstractArray)\n",
    "    out = similar(A)\n",
    "    R = keys(A) #CartesianIndices(size(A))\n",
    "    I1, Iend = first(R), last(R)\n",
    "    for I in R\n",
    "        n, s = 0, zero(eltype(out))\n",
    "        for J in CartesianIndices(map(:, max(I1, I-I1).I, min(Iend, I+I1).I))\n",
    "            s += A[J]\n",
    "            n += 1\n",
    "        end\n",
    "        out[I] = s/n\n",
    "    end\n",
    "    out\n",
    "end"
   ]
  },
  {
   "cell_type": "code",
   "execution_count": null,
   "metadata": {},
   "outputs": [],
   "source": []
  },
  {
   "cell_type": "code",
   "execution_count": 67,
   "metadata": {},
   "outputs": [],
   "source": [
    "using Images"
   ]
  },
  {
   "cell_type": "code",
   "execution_count": 68,
   "metadata": {},
   "outputs": [],
   "source": [
    "A = rand(256,256);"
   ]
  },
  {
   "cell_type": "code",
   "execution_count": 69,
   "metadata": {},
   "outputs": [
    {
     "data": {
      "image/png": "[encoded data removed]",
      "text/plain": [
       "256×256 Array{Gray{Float64},2} with eltype Gray{Float64}:\n",
       " Gray{Float64}(0.407193)   …  Gray{Float64}(0.0316871)\n",
       " Gray{Float64}(0.0195527)     Gray{Float64}(0.070104) \n",
       " Gray{Float64}(0.0769127)     Gray{Float64}(0.959427) \n",
       " Gray{Float64}(0.415158)      Gray{Float64}(0.566882) \n",
       " Gray{Float64}(0.987569)      Gray{Float64}(0.294056) \n",
       " Gray{Float64}(0.291163)   …  Gray{Float64}(0.728394) \n",
       " Gray{Float64}(0.969455)      Gray{Float64}(0.923134) \n",
       " Gray{Float64}(0.222952)      Gray{Float64}(0.33072)  \n",
       " Gray{Float64}(0.835475)      Gray{Float64}(0.321336) \n",
       " Gray{Float64}(0.939988)      Gray{Float64}(0.964)    \n",
       " Gray{Float64}(0.591142)   …  Gray{Float64}(0.248706) \n",
       " Gray{Float64}(0.225708)      Gray{Float64}(0.396731) \n",
       " Gray{Float64}(0.326706)      Gray{Float64}(0.0591076)\n",
       " ⋮                         ⋱  ⋮                       \n",
       " Gray{Float64}(0.317973)      Gray{Float64}(0.700875) \n",
       " Gray{Float64}(0.391024)   …  Gray{Float64}(0.485453) \n",
       " Gray{Float64}(0.99751)       Gray{Float64}(0.103494) \n",
       " Gray{Float64}(0.26282)       Gray{Float64}(0.716703) \n",
       " Gray{Float64}(0.954695)      Gray{Float64}(0.404755) \n",
       " Gray{Float64}(0.493553)      Gray{Float64}(0.742288) \n",
       " Gray{Float64}(0.801749)   …  Gray{Float64}(0.853903) \n",
       " Gray{Float64}(0.803713)      Gray{Float64}(0.403903) \n",
       " Gray{Float64}(0.562248)      Gray{Float64}(0.0260586)\n",
       " Gray{Float64}(0.940573)      Gray{Float64}(0.820763) \n",
       " Gray{Float64}(0.406001)      Gray{Float64}(0.96422)  \n",
       " Gray{Float64}(0.676997)   …  Gray{Float64}(0.825194) "
      ]
     },
     "execution_count": 69,
     "metadata": {},
     "output_type": "execute_result"
    }
   ],
   "source": [
    "Gray.(A)"
   ]
  },
  {
   "cell_type": "code",
   "execution_count": 70,
   "metadata": {},
   "outputs": [
    {
     "data": {
      "image/png": "[encoded data removed]",
      "text/plain": [
       "256×256 Array{Gray{Float64},2} with eltype Gray{Float64}:\n",
       " Gray{Float64}(0.439002)  Gray{Float64}(0.543696)  …  Gray{Float64}(0.324897)\n",
       " Gray{Float64}(0.381169)  Gray{Float64}(0.481465)     Gray{Float64}(0.390752)\n",
       " Gray{Float64}(0.29911)   Gray{Float64}(0.389635)     Gray{Float64}(0.497037)\n",
       " Gray{Float64}(0.354495)  Gray{Float64}(0.450536)     Gray{Float64}(0.501906)\n",
       " Gray{Float64}(0.438843)  Gray{Float64}(0.547971)     Gray{Float64}(0.600321)\n",
       " Gray{Float64}(0.669756)  Gray{Float64}(0.708633)  …  Gray{Float64}(0.686558)\n",
       " Gray{Float64}(0.53596)   Gray{Float64}(0.609949)     Gray{Float64}(0.670738)\n",
       " Gray{Float64}(0.647651)  Gray{Float64}(0.593659)     Gray{Float64}(0.588737)\n",
       " Gray{Float64}(0.594845)  Gray{Float64}(0.548363)     Gray{Float64}(0.513807)\n",
       " Gray{Float64}(0.803856)  Gray{Float64}(0.616643)     Gray{Float64}(0.513715)\n",
       " Gray{Float64}(0.619961)  Gray{Float64}(0.533296)  …  Gray{Float64}(0.542448)\n",
       " Gray{Float64}(0.444105)  Gray{Float64}(0.448792)     Gray{Float64}(0.370582)\n",
       " Gray{Float64}(0.340159)  Gray{Float64}(0.371534)     Gray{Float64}(0.43245) \n",
       " ⋮                                                 ⋱  ⋮                      \n",
       " Gray{Float64}(0.533289)  Gray{Float64}(0.533175)     Gray{Float64}(0.411684)\n",
       " Gray{Float64}(0.630081)  Gray{Float64}(0.616689)  …  Gray{Float64}(0.324141)\n",
       " Gray{Float64}(0.652736)  Gray{Float64}(0.662813)     Gray{Float64}(0.357675)\n",
       " Gray{Float64}(0.684089)  Gray{Float64}(0.708944)     Gray{Float64}(0.371479)\n",
       " Gray{Float64}(0.562743)  Gray{Float64}(0.570905)     Gray{Float64}(0.581748)\n",
       " Gray{Float64}(0.602113)  Gray{Float64}(0.510596)     Gray{Float64}(0.582154)\n",
       " Gray{Float64}(0.533493)  Gray{Float64}(0.473949)  …  Gray{Float64}(0.637493)\n",
       " Gray{Float64}(0.593627)  Gray{Float64}(0.604986)     Gray{Float64}(0.449882)\n",
       " Gray{Float64}(0.604507)  Gray{Float64}(0.601051)     Gray{Float64}(0.54866) \n",
       " Gray{Float64}(0.589993)  Gray{Float64}(0.612441)     Gray{Float64}(0.591956)\n",
       " Gray{Float64}(0.495983)  Gray{Float64}(0.523113)     Gray{Float64}(0.738743)\n",
       " Gray{Float64}(0.436305)  Gray{Float64}(0.579422)  …  Gray{Float64}(0.724676)"
      ]
     },
     "execution_count": 70,
     "metadata": {},
     "output_type": "execute_result"
    }
   ],
   "source": [
    "Gray.(boxcar3(A))"
   ]
  },
  {
   "cell_type": "code",
   "execution_count": 73,
   "metadata": {},
   "outputs": [
    {
     "data": {
      "text/plain": [
       "sumalongdims! (generic function with 1 method)"
      ]
     },
     "execution_count": 73,
     "metadata": {},
     "output_type": "execute_result"
    }
   ],
   "source": [
    "function sumalongdims!(B, A)\n",
    "    # It's assumed that B has size 1 along any dimension that we're summing\n",
    "    fill!(B, 0)\n",
    "    Bmax = CartesianIndex(size(B))\n",
    "    for I in CartesianIndices(size(A))\n",
    "        B[min(Bmax,I)] += A[I]\n",
    "    end\n",
    "    B\n",
    "end"
   ]
  },
  {
   "cell_type": "code",
   "execution_count": 74,
   "metadata": {},
   "outputs": [
    {
     "data": {
      "text/plain": [
       "1×256 Array{Float64,2}:\n",
       " 0.0  0.0  0.0  0.0  0.0  0.0  0.0  0.0  …  0.0  0.0  0.0  0.0  0.0  0.0  0.0"
      ]
     },
     "execution_count": 74,
     "metadata": {},
     "output_type": "execute_result"
    }
   ],
   "source": [
    "B = zeros(1, 256)"
   ]
  },
  {
   "cell_type": "code",
   "execution_count": 75,
   "metadata": {},
   "outputs": [
    {
     "data": {
      "text/plain": [
       "1×256 Array{Float64,2}:\n",
       " 130.407  126.205  129.745  127.936  …  119.43  123.584  125.25  130.279"
      ]
     },
     "execution_count": 75,
     "metadata": {},
     "output_type": "execute_result"
    }
   ],
   "source": [
    "sumalongdims!(B, A)"
   ]
  },
  {
   "cell_type": "code",
   "execution_count": 76,
   "metadata": {},
   "outputs": [
    {
     "data": {
      "text/plain": [
       "1×256 Array{Float64,2}:\n",
       " 130.407  126.205  129.745  127.936  …  119.43  123.584  125.25  130.279"
      ]
     },
     "execution_count": 76,
     "metadata": {},
     "output_type": "execute_result"
    }
   ],
   "source": [
    "reduce(+,A,dims=(1,))"
   ]
  },
  {
   "cell_type": "markdown",
   "metadata": {},
   "source": [
    "`CartesianIndices` and other \"N-d\" iterators have a shape that propagates through generators."
   ]
  },
  {
   "cell_type": "code",
   "execution_count": null,
   "metadata": {},
   "outputs": [],
   "source": [
    "[1 for i in CartesianIndices((2,3))]"
   ]
  },
  {
   "cell_type": "code",
   "execution_count": 77,
   "metadata": {},
   "outputs": [
    {
     "data": {
      "text/plain": [
       "5×5 Array{Float64,2}:\n",
       " 0.407213  0.362823  0.689505  0.495885  0.906286\n",
       " 0.115172  0.803621  0.256211  0.511838  0.767333\n",
       " 0.467707  0.450859  0.409984  0.987388  0.432633\n",
       " 0.954623  0.22016   0.689191  0.267774  0.517147\n",
       " 0.780415  0.65076   0.147634  0.791455  0.781208"
      ]
     },
     "execution_count": 77,
     "metadata": {},
     "output_type": "execute_result"
    }
   ],
   "source": [
    "B = rand(5,5)"
   ]
  },
  {
   "cell_type": "code",
   "execution_count": 78,
   "metadata": {},
   "outputs": [
    {
     "data": {
      "text/plain": [
       "2×3 view(::Array{Float64,2}, CartesianIndex{2}[CartesianIndex(1, 1) CartesianIndex(1, 2) CartesianIndex(1, 3); CartesianIndex(2, 1) CartesianIndex(2, 2) CartesianIndex(2, 3)]) with eltype Float64:\n",
       " 0.407213  0.362823  0.689505\n",
       " 0.115172  0.803621  0.256211"
      ]
     },
     "execution_count": 78,
     "metadata": {},
     "output_type": "execute_result"
    }
   ],
   "source": [
    "view(B,CartesianIndices((2,3)))"
   ]
  },
  {
   "cell_type": "markdown",
   "metadata": {},
   "source": [
    "## Exercise: CartesianIndex life!\n",
    "\n",
    "- Write a function `neighborhood(A::Array, I::CartesianIndex)` that returns a view of the 3x3 neighborhood around a location\n",
    "- Write a function `liferule(A, I)` that implements the evolution rule of Conway's life cellular automaton:\n",
    "  - 2 live neighbors $\\rightarrow$ stay the same\n",
    "  - 3 live neighbors $\\rightarrow$ 1\n",
    "  - otherwise $\\rightarrow$ 0\n",
    "- Write a function `life(A)` that maps A to the next life step using these"
   ]
  },
  {
   "cell_type": "code",
   "execution_count": 86,
   "metadata": {},
   "outputs": [
    {
     "data": {
      "text/plain": [
       "neighborhood (generic function with 1 method)"
      ]
     },
     "execution_count": 86,
     "metadata": {},
     "output_type": "execute_result"
    }
   ],
   "source": [
    "function neighborhood(A::Array, I::CartesianIndex)\n",
    "    I1 = first(keys(A))\n",
    "    Iend = last(keys(A))\n",
    "    view(A,\n",
    "        CartesianIndices(map(:, max(I1, I-I1).I, min(Iend, I+I1).I))\n",
    "    )\n",
    "end"
   ]
  },
  {
   "cell_type": "code",
   "execution_count": 87,
   "metadata": {},
   "outputs": [
    {
     "data": {
      "text/plain": [
       "liferule (generic function with 1 method)"
      ]
     },
     "execution_count": 87,
     "metadata": {},
     "output_type": "execute_result"
    }
   ],
   "source": [
    "function liferule(A, I)\n",
    "    current = A[I]\n",
    "    nh = neighborhood(A,I)\n",
    "    count = sum(nh) - current\n",
    "    return count == 2 ? current :\n",
    "           count == 3 ? 1 :\n",
    "                        0\n",
    "end"
   ]
  },
  {
   "cell_type": "code",
   "execution_count": 88,
   "metadata": {},
   "outputs": [
    {
     "data": {
      "text/plain": [
       "life (generic function with 1 method)"
      ]
     },
     "execution_count": 88,
     "metadata": {},
     "output_type": "execute_result"
    }
   ],
   "source": [
    "life(A) = [liferule(A,I) for I in keys(A)]"
   ]
  },
  {
   "cell_type": "markdown",
   "metadata": {},
   "source": [
    "Some famous initial conditions:"
   ]
  },
  {
   "cell_type": "code",
   "execution_count": 79,
   "metadata": {},
   "outputs": [],
   "source": [
    "A = fill(0, 128,128);"
   ]
  },
  {
   "cell_type": "code",
   "execution_count": 114,
   "metadata": {},
   "outputs": [
    {
     "data": {
      "text/plain": [
       "3×3 Array{Int64,2}:\n",
       " 1  1  0\n",
       " 0  1  1\n",
       " 0  1  0"
      ]
     },
     "execution_count": 114,
     "metadata": {},
     "output_type": "execute_result"
    }
   ],
   "source": [
    "A[61:63,61:63] = [1 1 0\n",
    "                  0 1 1\n",
    "                  0 1 0]"
   ]
  },
  {
   "cell_type": "code",
   "execution_count": 143,
   "metadata": {},
   "outputs": [
    {
     "data": {
      "image/png": "[encoded data removed]",
      "text/plain": [
       "512×512 Array{Gray{N0f8},2} with eltype Gray{Normed{UInt8,8}}:\n",
       " Gray{N0f8}(0.0)  Gray{N0f8}(0.0)  …  Gray{N0f8}(0.0)  Gray{N0f8}(0.0)\n",
       " Gray{N0f8}(0.0)  Gray{N0f8}(0.0)     Gray{N0f8}(0.0)  Gray{N0f8}(0.0)\n",
       " Gray{N0f8}(0.0)  Gray{N0f8}(0.0)     Gray{N0f8}(0.0)  Gray{N0f8}(0.0)\n",
       " Gray{N0f8}(0.0)  Gray{N0f8}(0.0)     Gray{N0f8}(0.0)  Gray{N0f8}(0.0)\n",
       " Gray{N0f8}(0.0)  Gray{N0f8}(0.0)     Gray{N0f8}(0.0)  Gray{N0f8}(0.0)\n",
       " Gray{N0f8}(0.0)  Gray{N0f8}(0.0)  …  Gray{N0f8}(0.0)  Gray{N0f8}(0.0)\n",
       " Gray{N0f8}(0.0)  Gray{N0f8}(0.0)     Gray{N0f8}(0.0)  Gray{N0f8}(0.0)\n",
       " Gray{N0f8}(0.0)  Gray{N0f8}(0.0)     Gray{N0f8}(0.0)  Gray{N0f8}(0.0)\n",
       " Gray{N0f8}(0.0)  Gray{N0f8}(0.0)     Gray{N0f8}(0.0)  Gray{N0f8}(0.0)\n",
       " Gray{N0f8}(0.0)  Gray{N0f8}(0.0)     Gray{N0f8}(0.0)  Gray{N0f8}(0.0)\n",
       " Gray{N0f8}(0.0)  Gray{N0f8}(0.0)  …  Gray{N0f8}(0.0)  Gray{N0f8}(0.0)\n",
       " Gray{N0f8}(0.0)  Gray{N0f8}(0.0)     Gray{N0f8}(0.0)  Gray{N0f8}(0.0)\n",
       " Gray{N0f8}(0.0)  Gray{N0f8}(0.0)     Gray{N0f8}(0.0)  Gray{N0f8}(0.0)\n",
       " ⋮                                 ⋱  ⋮                               \n",
       " Gray{N0f8}(0.0)  Gray{N0f8}(0.0)  …  Gray{N0f8}(0.0)  Gray{N0f8}(0.0)\n",
       " Gray{N0f8}(0.0)  Gray{N0f8}(0.0)     Gray{N0f8}(0.0)  Gray{N0f8}(0.0)\n",
       " Gray{N0f8}(0.0)  Gray{N0f8}(0.0)     Gray{N0f8}(0.0)  Gray{N0f8}(0.0)\n",
       " Gray{N0f8}(0.0)  Gray{N0f8}(0.0)     Gray{N0f8}(0.0)  Gray{N0f8}(0.0)\n",
       " Gray{N0f8}(0.0)  Gray{N0f8}(0.0)     Gray{N0f8}(0.0)  Gray{N0f8}(0.0)\n",
       " Gray{N0f8}(0.0)  Gray{N0f8}(0.0)  …  Gray{N0f8}(0.0)  Gray{N0f8}(0.0)\n",
       " Gray{N0f8}(0.0)  Gray{N0f8}(0.0)     Gray{N0f8}(0.0)  Gray{N0f8}(0.0)\n",
       " Gray{N0f8}(0.0)  Gray{N0f8}(0.0)     Gray{N0f8}(0.0)  Gray{N0f8}(0.0)\n",
       " Gray{N0f8}(0.0)  Gray{N0f8}(0.0)     Gray{N0f8}(0.0)  Gray{N0f8}(0.0)\n",
       " Gray{N0f8}(0.0)  Gray{N0f8}(0.0)     Gray{N0f8}(0.0)  Gray{N0f8}(0.0)\n",
       " Gray{N0f8}(0.0)  Gray{N0f8}(0.0)  …  Gray{N0f8}(0.0)  Gray{N0f8}(0.0)\n",
       " Gray{N0f8}(0.0)  Gray{N0f8}(0.0)     Gray{N0f8}(0.0)  Gray{N0f8}(0.0)"
      ]
     },
     "execution_count": 143,
     "metadata": {},
     "output_type": "execute_result"
    }
   ],
   "source": [
    "A = life(A)\n",
    "# `repeat` can be used to get chunky pixels to make the output easier to see\n",
    "Gray.(repeat(A,inner=(4,4)))"
   ]
  },
  {
   "cell_type": "code",
   "execution_count": null,
   "metadata": {},
   "outputs": [],
   "source": []
  }
 ],
 "metadata": {
  "celltoolbar": "Raw Cell Format",
  "kernelspec": {
   "display_name": "Julia 1.1.0-DEV",
   "language": "julia",
   "name": "julia-1.1"
  },
  "language_info": {
   "file_extension": ".jl",
   "mimetype": "application/julia",
   "name": "julia",
   "version": "1.0.2"
  }
 },
 "nbformat": 4,
 "nbformat_minor": 2
}
