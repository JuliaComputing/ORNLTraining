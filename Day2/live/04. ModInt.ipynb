{
 "cells": [
  {
   "cell_type": "markdown",
   "metadata": {},
   "source": [
    "# ModInt: a simple modular integer type"
   ]
  },
  {
   "cell_type": "code",
   "execution_count": 2,
   "metadata": {},
   "outputs": [],
   "source": [
    "struct ModInt{n} <: Integer\n",
    "    k::Int\n",
    "\n",
    "    # Constructor definition...\n",
    "    # note the left side looks like the call it defines\n",
    "    ModInt{n}(k::Int) where {n} = new(mod(k,n))\n",
    "end"
   ]
  },
  {
   "cell_type": "code",
   "execution_count": 3,
   "metadata": {},
   "outputs": [
    {
     "data": {
      "text/plain": [
       "ModInt{13}(3)"
      ]
     },
     "execution_count": 3,
     "metadata": {},
     "output_type": "execute_result"
    }
   ],
   "source": [
    "a = ModInt{13}(1238279873492834)"
   ]
  },
  {
   "cell_type": "code",
   "execution_count": 4,
   "metadata": {},
   "outputs": [
    {
     "data": {
      "text/plain": [
       "ModInt{13}(12)"
      ]
     },
     "execution_count": 4,
     "metadata": {},
     "output_type": "execute_result"
    }
   ],
   "source": [
    "b = ModInt{13}(9872349827349827)"
   ]
  },
  {
   "cell_type": "code",
   "execution_count": 5,
   "metadata": {},
   "outputs": [
    {
     "ename": "ErrorException",
     "evalue": "promotion of types ModInt{13} and ModInt{13} failed to change any arguments",
     "output_type": "error",
     "traceback": [
      "promotion of types ModInt{13} and ModInt{13} failed to change any arguments",
      "",
      "Stacktrace:",
      " [1] error(::String, ::String, ::String) at ./error.jl:42",
      " [2] sametype_error(::Tuple{ModInt{13},ModInt{13}}) at ./promotion.jl:308",
      " [3] not_sametype(::Tuple{ModInt{13},ModInt{13}}, ::Tuple{ModInt{13},ModInt{13}}) at ./promotion.jl:302",
      " [4] +(::ModInt{13}, ::ModInt{13}) at ./int.jl:802",
      " [5] top-level scope at In[5]:1"
     ]
    }
   ],
   "source": [
    "a + b"
   ]
  },
  {
   "cell_type": "markdown",
   "metadata": {},
   "source": [
    "To extend standard functions we need to import them."
   ]
  },
  {
   "cell_type": "code",
   "execution_count": 6,
   "metadata": {},
   "outputs": [],
   "source": [
    "import Base: +"
   ]
  },
  {
   "cell_type": "code",
   "execution_count": 7,
   "metadata": {},
   "outputs": [
    {
     "data": {
      "text/plain": [
       "+ (generic function with 164 methods)"
      ]
     },
     "execution_count": 7,
     "metadata": {},
     "output_type": "execute_result"
    }
   ],
   "source": [
    "+(a::ModInt{n}, b::ModInt{n}) where {n} = ModInt{n}(a.k + b.k)"
   ]
  },
  {
   "cell_type": "code",
   "execution_count": 8,
   "metadata": {},
   "outputs": [
    {
     "data": {
      "text/plain": [
       "ModInt{13}(2)"
      ]
     },
     "execution_count": 8,
     "metadata": {},
     "output_type": "execute_result"
    }
   ],
   "source": [
    "a + b"
   ]
  },
  {
   "cell_type": "code",
   "execution_count": 9,
   "metadata": {},
   "outputs": [
    {
     "data": {
      "text/plain": [
       "- (generic function with 177 methods)"
      ]
     },
     "execution_count": 9,
     "metadata": {},
     "output_type": "execute_result"
    }
   ],
   "source": [
    "import Base: *, -\n",
    "\n",
    "*(a::ModInt{n}, b::ModInt{n}) where{n} = ModInt{n}(a.k * b.k)\n",
    "-(a::ModInt{n}, b::ModInt{n}) where {n} = ModInt{n}(a.k - b.k)\n",
    "-(a::ModInt{n}) where {n} = ModInt{n}(-a.k)"
   ]
  },
  {
   "cell_type": "code",
   "execution_count": 10,
   "metadata": {},
   "outputs": [
    {
     "data": {
      "text/plain": [
       "ModInt{13}(10)"
      ]
     },
     "execution_count": 10,
     "metadata": {},
     "output_type": "execute_result"
    }
   ],
   "source": [
    "a * b"
   ]
  },
  {
   "cell_type": "code",
   "execution_count": 11,
   "metadata": {},
   "outputs": [
    {
     "data": {
      "text/plain": [
       "ModInt{13}(4)"
      ]
     },
     "execution_count": 11,
     "metadata": {},
     "output_type": "execute_result"
    }
   ],
   "source": [
    "a - b"
   ]
  },
  {
   "cell_type": "code",
   "execution_count": 12,
   "metadata": {},
   "outputs": [
    {
     "data": {
      "text/plain": [
       "ModInt{13}(1)"
      ]
     },
     "execution_count": 12,
     "metadata": {},
     "output_type": "execute_result"
    }
   ],
   "source": [
    "-b"
   ]
  },
  {
   "cell_type": "code",
   "execution_count": 21,
   "metadata": {},
   "outputs": [],
   "source": [
    "Base.show(io::IO, a::ModInt{n}) where {n} =\n",
    "    get(io, :compact, false) ?\n",
    "        show(io, a.k) :\n",
    "        print(io, \"$(a.k) mod $n\")"
   ]
  },
  {
   "cell_type": "code",
   "execution_count": 18,
   "metadata": {},
   "outputs": [
    {
     "data": {
      "text/plain": [
       "3 mod 13"
      ]
     },
     "execution_count": 18,
     "metadata": {},
     "output_type": "execute_result"
    }
   ],
   "source": [
    "a"
   ]
  },
  {
   "cell_type": "code",
   "execution_count": 19,
   "metadata": {},
   "outputs": [
    {
     "data": {
      "text/plain": [
       "12 mod 13"
      ]
     },
     "execution_count": 19,
     "metadata": {},
     "output_type": "execute_result"
    }
   ],
   "source": [
    "b"
   ]
  },
  {
   "cell_type": "code",
   "execution_count": 22,
   "metadata": {},
   "outputs": [
    {
     "data": {
      "text/plain": [
       "5×5 Array{ModInt{13},2}:\n",
       " 12   7  2  11  7\n",
       "  4   7  0   2  3\n",
       "  9   6  8  10  1\n",
       " 12  12  3   7  9\n",
       "  9   6  9   8  8"
      ]
     },
     "execution_count": 22,
     "metadata": {},
     "output_type": "execute_result"
    }
   ],
   "source": [
    "A = map(ModInt{13}, rand(1:100, 5, 5))"
   ]
  },
  {
   "cell_type": "code",
   "execution_count": 23,
   "metadata": {},
   "outputs": [
    {
     "data": {
      "text/plain": [
       "5×5 Array{ModInt{13},2}:\n",
       " 11   1  4  9  1\n",
       "  8   1  0  4  6\n",
       "  5  12  3  7  2\n",
       " 11  11  6  1  5\n",
       "  5  12  5  3  3"
      ]
     },
     "execution_count": 23,
     "metadata": {},
     "output_type": "execute_result"
    }
   ],
   "source": [
    "A .+ A"
   ]
  },
  {
   "cell_type": "code",
   "execution_count": 26,
   "metadata": {},
   "outputs": [
    {
     "data": {
      "text/plain": [
       "5×5 Array{ModInt{13},2}:\n",
       " 3  11  3  0   1\n",
       " 3   3  1  8   6\n",
       " 7   4  2  1  12\n",
       " 8  11  4  4   1\n",
       " 5   5  0  8   4"
      ]
     },
     "execution_count": 26,
     "metadata": {},
     "output_type": "execute_result"
    }
   ],
   "source": [
    "A^100"
   ]
  },
  {
   "cell_type": "code",
   "execution_count": 27,
   "metadata": {},
   "outputs": [
    {
     "ename": "ErrorException",
     "evalue": "promotion of types Int64 and ModInt{13} failed to change any arguments",
     "output_type": "error",
     "traceback": [
      "promotion of types Int64 and ModInt{13} failed to change any arguments",
      "",
      "Stacktrace:",
      " [1] error(::String, ::String, ::String) at ./error.jl:42",
      " [2] sametype_error(::Tuple{Int64,ModInt{13}}) at ./promotion.jl:308",
      " [3] not_sametype(::Tuple{Int64,ModInt{13}}, ::Tuple{Int64,ModInt{13}}) at ./promotion.jl:302",
      " [4] *(::Int64, ::ModInt{13}) at ./int.jl:802",
      " [5] _broadcast_getindex at ./broadcast.jl:574 [inlined]",
      " [6] getindex at ./broadcast.jl:507 [inlined]",
      " [7] copy at ./broadcast.jl:782 [inlined]",
      " [8] materialize at ./broadcast.jl:748 [inlined]",
      " [9] broadcast at ./broadcast.jl:702 [inlined]",
      " [10] *(::Int64, ::Array{ModInt{13},2}) at ./arraymath.jl:52",
      " [11] top-level scope at In[27]:1"
     ]
    }
   ],
   "source": [
    "2A"
   ]
  },
  {
   "cell_type": "code",
   "execution_count": 28,
   "metadata": {},
   "outputs": [
    {
     "ename": "MethodError",
     "evalue": "MethodError: no method matching +(::Array{ModInt{13},2}, ::Int64)\nClosest candidates are:\n  +(::Any, ::Any, !Matched::Any, !Matched::Any...) at operators.jl:502\n  +(!Matched::Complex{Bool}, ::Real) at complex.jl:292\n  +(!Matched::Missing, ::Number) at missing.jl:93\n  ...",
     "output_type": "error",
     "traceback": [
      "MethodError: no method matching +(::Array{ModInt{13},2}, ::Int64)\nClosest candidates are:\n  +(::Any, ::Any, !Matched::Any, !Matched::Any...) at operators.jl:502\n  +(!Matched::Complex{Bool}, ::Real) at complex.jl:292\n  +(!Matched::Missing, ::Number) at missing.jl:93\n  ...",
      "",
      "Stacktrace:",
      " [1] top-level scope at In[28]:1"
     ]
    }
   ],
   "source": [
    "A + 1"
   ]
  },
  {
   "cell_type": "code",
   "execution_count": 29,
   "metadata": {},
   "outputs": [],
   "source": [
    "Base.promote_rule(::Type{ModInt{n}}, ::Type{Int}) where {n} = ModInt{n}"
   ]
  },
  {
   "cell_type": "code",
   "execution_count": 33,
   "metadata": {},
   "outputs": [
    {
     "data": {
      "text/plain": [
       "BigInt"
      ]
     },
     "execution_count": 33,
     "metadata": {},
     "output_type": "execute_result"
    }
   ],
   "source": [
    "promote_type(Int, ModInt{7}, BigInt)"
   ]
  },
  {
   "cell_type": "code",
   "execution_count": 35,
   "metadata": {},
   "outputs": [
    {
     "data": {
      "text/plain": [
       "Complex{Rational{BigInt}}"
      ]
     },
     "execution_count": 35,
     "metadata": {},
     "output_type": "execute_result"
    }
   ],
   "source": [
    "promote_type(Complex{Int}, Rational{BigInt})"
   ]
  },
  {
   "cell_type": "code",
   "execution_count": 36,
   "metadata": {},
   "outputs": [
    {
     "data": {
      "text/plain": [
       "1606938044258990275541962092341162602522202993782792835301381//1606938044258990275541962092341162602522202993782792835301376 + 2//1*im"
      ]
     },
     "execution_count": 36,
     "metadata": {},
     "output_type": "execute_result"
    }
   ],
   "source": [
    "(1 + 2im) + (big(5)//big(2)^200)"
   ]
  },
  {
   "cell_type": "code",
   "execution_count": 37,
   "metadata": {},
   "outputs": [
    {
     "data": {
      "text/plain": [
       "Complex{Rational{BigInt}}"
      ]
     },
     "execution_count": 37,
     "metadata": {},
     "output_type": "execute_result"
    }
   ],
   "source": [
    "typeof(ans)"
   ]
  },
  {
   "cell_type": "code",
   "execution_count": 38,
   "metadata": {},
   "outputs": [],
   "source": [
    "Base.convert(::Type{ModInt{n}}, x::Int) where {n} = ModInt{n}(x)"
   ]
  },
  {
   "cell_type": "code",
   "execution_count": 39,
   "metadata": {},
   "outputs": [
    {
     "data": {
      "text/plain": [
       "4 mod 13"
      ]
     },
     "execution_count": 39,
     "metadata": {},
     "output_type": "execute_result"
    }
   ],
   "source": [
    "a + 1"
   ]
  },
  {
   "cell_type": "code",
   "execution_count": 40,
   "metadata": {},
   "outputs": [
    {
     "data": {
      "text/plain": [
       "4 mod 13"
      ]
     },
     "execution_count": 40,
     "metadata": {},
     "output_type": "execute_result"
    }
   ],
   "source": [
    "1 + a"
   ]
  },
  {
   "cell_type": "code",
   "execution_count": 42,
   "metadata": {},
   "outputs": [
    {
     "data": {
      "text/html": [
       "+(x::<b>Number</b>, y::<b>Number</b>) in Base at <a href=\"https://github.com/JuliaLang/julia/tree/fecfbf94f83d97b1404da0e67c7003a63017550d/base/promotion.jl#L313\" target=\"_blank\">promotion.jl:313</a>"
      ],
      "text/plain": [
       "+(x::Number, y::Number) in Base at promotion.jl:313"
      ]
     },
     "execution_count": 42,
     "metadata": {},
     "output_type": "execute_result"
    }
   ],
   "source": [
    "@which 1.5 + 2"
   ]
  },
  {
   "cell_type": "code",
   "execution_count": 46,
   "metadata": {},
   "outputs": [
    {
     "data": {
      "text/plain": [
       "5×5 Array{ModInt{13},2}:\n",
       " 2   4  5   7   4\n",
       " 5   1  7   6  11\n",
       " 3  10  0   4   8\n",
       " 0  11  6  12   2\n",
       " 7   7  8  11   4"
      ]
     },
     "execution_count": 46,
     "metadata": {},
     "output_type": "execute_result"
    }
   ],
   "source": [
    "A^100000000000"
   ]
  },
  {
   "cell_type": "code",
   "execution_count": 47,
   "metadata": {},
   "outputs": [
    {
     "data": {
      "text/plain": [
       "5×5 Array{ModInt{13},2}:\n",
       " 5  8   5  12   1\n",
       " 5  5   1   2  11\n",
       " 0  7   3   1  10\n",
       " 2  8   7   7   1\n",
       " 9  9  12   2   7"
      ]
     },
     "execution_count": 47,
     "metadata": {},
     "output_type": "execute_result"
    }
   ],
   "source": [
    "2A^100 .- 1"
   ]
  },
  {
   "cell_type": "markdown",
   "metadata": {},
   "source": [
    "### Summary\n",
    "\n",
    "Here is all the code that defines the `ModInt` type:\n",
    "```jl\n",
    "struct ModInt{n} <: Integer\n",
    "    k::Int\n",
    "\n",
    "    ModInt{n}(k::Int) where {n} = new(mod(k,n))\n",
    "end\n",
    "\n",
    "import Base: +, *, -\n",
    "\n",
    "+(a::ModInt{n}, b::ModInt{n}) where {n} = ModInt{n}(a.k + b.k)\n",
    "*(a::ModInt{n}, b::ModInt{n}) where{n} = ModInt{n}(a.k * b.k)\n",
    "-(a::ModInt{n}, b::ModInt{n}) where {n} = ModInt{n}(a.k - b.k)\n",
    "-(a::ModInt{n}) where {n} = ModInt{n}(-a.k)\n",
    "\n",
    "Base.show(io::IO, a::ModInt{n}) where {n} =\n",
    "    get(io, :compact, false) ? show(io, a.k) : print(io, \"$(a.k) mod $n\")\n",
    "\n",
    "Base.promote_rule(::Type{ModInt{n}}, ::Type{Int}) where {n} = ModInt{n}\n",
    "Base.convert(::Type{ModInt{n}}, x::Int) where {n} = ModInt{n}(x)\n",
    "```"
   ]
  },
  {
   "cell_type": "markdown",
   "metadata": {},
   "source": [
    "### Exercise\n",
    "\n",
    "Add two methods that allows operations between modular integers with different modulus using the rule that they should combine in the modulus that is the `lcm` (least common multiple) of the moduli of the arguments.\n",
    "\n",
    "**Hint:** try something, see what fails, define something to make that work."
   ]
  },
  {
   "cell_type": "code",
   "execution_count": 48,
   "metadata": {},
   "outputs": [
    {
     "data": {
      "text/plain": [
       "9 mod 12"
      ]
     },
     "execution_count": 48,
     "metadata": {},
     "output_type": "execute_result"
    }
   ],
   "source": [
    "x = ModInt{12}(9)"
   ]
  },
  {
   "cell_type": "code",
   "execution_count": 49,
   "metadata": {},
   "outputs": [
    {
     "data": {
      "text/plain": [
       "13 mod 15"
      ]
     },
     "execution_count": 49,
     "metadata": {},
     "output_type": "execute_result"
    }
   ],
   "source": [
    "y = ModInt{15}(13)"
   ]
  },
  {
   "cell_type": "code",
   "execution_count": 51,
   "metadata": {},
   "outputs": [
    {
     "data": {
      "text/plain": [
       "60"
      ]
     },
     "execution_count": 51,
     "metadata": {},
     "output_type": "execute_result"
    }
   ],
   "source": [
    "lcm(12, 15)"
   ]
  },
  {
   "cell_type": "code",
   "execution_count": 66,
   "metadata": {},
   "outputs": [
    {
     "data": {
      "text/plain": [
       "* (generic function with 346 methods)"
      ]
     },
     "execution_count": 66,
     "metadata": {},
     "output_type": "execute_result"
    }
   ],
   "source": [
    "+(a::ModInt{m}, b::ModInt{n}) where {m,n} = ModInt{lcm(m,n)}(a.k + b.k)\n",
    "*(a::ModInt{m}, b::ModInt{n}) where {m,n} = ModInt{lcm(m,n)}(a.k * b.k)"
   ]
  },
  {
   "cell_type": "code",
   "execution_count": 58,
   "metadata": {},
   "outputs": [],
   "source": [
    "Base.promote_rule(::Type{ModInt{m}}, ::Type{ModInt{n}}) where {m,n} =\n",
    "    ModInt{lcm(m,n)}\n",
    "Base.convert(::Type{ModInt{n}}, x::ModInt) where {n} = ModInt{n}(x.k)"
   ]
  },
  {
   "cell_type": "code",
   "execution_count": 59,
   "metadata": {},
   "outputs": [],
   "source": [
    "@assert x + y == ModInt{60}(22)\n",
    "@assert x * y == ModInt{60}(57)"
   ]
  },
  {
   "cell_type": "code",
   "execution_count": 61,
   "metadata": {},
   "outputs": [],
   "source": [
    "@assert x - y == ModInt{60}(56)"
   ]
  },
  {
   "cell_type": "code",
   "execution_count": 69,
   "metadata": {},
   "outputs": [
    {
     "data": {
      "text/html": [
       "+<i>{m, n}</i>(a::<b>ModInt{m}</b>, b::<b>ModInt{n}</b>) in Main at In[66]:1"
      ],
      "text/plain": [
       "+(a::ModInt{m}, b::ModInt{n}) where {m, n} in Main at In[66]:1"
      ]
     },
     "execution_count": 69,
     "metadata": {},
     "output_type": "execute_result"
    }
   ],
   "source": [
    "@which x + y"
   ]
  },
  {
   "cell_type": "code",
   "execution_count": 70,
   "metadata": {},
   "outputs": [
    {
     "data": {
      "text/html": [
       "+<i>{n}</i>(a::<b>ModInt{n}</b>, b::<b>ModInt{n}</b>) in Main at In[7]:1"
      ],
      "text/plain": [
       "+(a::ModInt{n}, b::ModInt{n}) where n in Main at In[7]:1"
      ]
     },
     "execution_count": 70,
     "metadata": {},
     "output_type": "execute_result"
    }
   ],
   "source": [
    "@which x + x"
   ]
  },
  {
   "cell_type": "code",
   "execution_count": 71,
   "metadata": {},
   "outputs": [
    {
     "data": {
      "text/html": [
       "-(a::<b>Integer</b>, b::<b>Integer</b>) in Base at <a href=\"https://github.com/JuliaLang/julia/tree/fecfbf94f83d97b1404da0e67c7003a63017550d/base/int.jl#L800\" target=\"_blank\">int.jl:800</a>"
      ],
      "text/plain": [
       "-(a::Integer, b::Integer) in Base at int.jl:800"
      ]
     },
     "execution_count": 71,
     "metadata": {},
     "output_type": "execute_result"
    }
   ],
   "source": [
    "@which x - y"
   ]
  },
  {
   "cell_type": "code",
   "execution_count": 64,
   "metadata": {},
   "outputs": [
    {
     "data": {
      "text/plain": [
       "ModInt{60}"
      ]
     },
     "execution_count": 64,
     "metadata": {},
     "output_type": "execute_result"
    }
   ],
   "source": [
    "Base.promote_typeof(x, y)"
   ]
  },
  {
   "cell_type": "code",
   "execution_count": 65,
   "metadata": {},
   "outputs": [
    {
     "data": {
      "text/plain": [
       "ModInt{60}"
      ]
     },
     "execution_count": 65,
     "metadata": {},
     "output_type": "execute_result"
    }
   ],
   "source": [
    "promote_type(ModInt{12}, ModInt{15})"
   ]
  },
  {
   "cell_type": "code",
   "execution_count": null,
   "metadata": {},
   "outputs": [],
   "source": [
    "f(a::Number, b::Number) = f(promote(a, b)...)"
   ]
  },
  {
   "cell_type": "code",
   "execution_count": 73,
   "metadata": {},
   "outputs": [
    {
     "data": {
      "text/html": [
       "+(x::<b>Number</b>, y::<b>Number</b>) in Base at <a href=\"https://github.com/JuliaLang/julia/tree/fecfbf94f83d97b1404da0e67c7003a63017550d/base/promotion.jl#L313\" target=\"_blank\">promotion.jl:313</a>"
      ],
      "text/plain": [
       "+(x::Number, y::Number) in Base at promotion.jl:313"
      ]
     },
     "execution_count": 73,
     "metadata": {},
     "output_type": "execute_result"
    }
   ],
   "source": [
    "@which 1 + 2.5"
   ]
  },
  {
   "cell_type": "code",
   "execution_count": 74,
   "metadata": {},
   "outputs": [
    {
     "name": "stdout",
     "output_type": "stream",
     "text": [
      "\n",
      "; Function +\n",
      "; Location: promotion.jl:313\n",
      "define double @\"julia_+_127951684\"(i64, double) {\n",
      "top:\n",
      "; Function promote; {\n",
      "; Location: promotion.jl:284\n",
      "; Function _promote; {\n",
      "; Location: promotion.jl:261\n",
      "; Function convert; {\n",
      "; Location: number.jl:7\n",
      "; Function Type; {\n",
      "; Location: float.jl:60\n",
      "  %2 = sitofp i64 %0 to double\n",
      ";}}}}\n",
      "; Function +; {\n",
      "; Location: float.jl:395\n",
      "  %3 = fadd double %2, %1\n",
      ";}\n",
      "  ret double %3\n",
      "}\n"
     ]
    }
   ],
   "source": [
    "@code_llvm 1 + 2.5"
   ]
  },
  {
   "cell_type": "code",
   "execution_count": 75,
   "metadata": {},
   "outputs": [
    {
     "name": "stdout",
     "output_type": "stream",
     "text": [
      "\t.section\t__TEXT,__text,regular,pure_instructions\n",
      "; Function + {\n",
      "; Location: promotion.jl:313\n",
      "; Function promote; {\n",
      "; Location: promotion.jl:284\n",
      "; Function _promote; {\n",
      "; Location: promotion.jl:261\n",
      "; Function convert; {\n",
      "; Location: number.jl:7\n",
      "; Function Type; {\n",
      "; Location: promotion.jl:313\n",
      "\tvcvtsi2sdq\t%rdi, %xmm1, %xmm1\n",
      ";}}}}\n",
      "; Function +; {\n",
      "; Location: float.jl:395\n",
      "\tvaddsd\t%xmm0, %xmm1, %xmm0\n",
      ";}\n",
      "\tretq\n",
      "\tnopw\t(%rax,%rax)\n",
      ";}\n"
     ]
    }
   ],
   "source": [
    "@code_native 1 + 2.5"
   ]
  },
  {
   "cell_type": "code",
   "execution_count": null,
   "metadata": {},
   "outputs": [],
   "source": []
  }
 ],
 "metadata": {
  "kernelspec": {
   "display_name": "Julia 1.1.0-DEV",
   "language": "julia",
   "name": "julia-1.1"
  },
  "language": "Julia",
  "language_info": {
   "file_extension": ".jl",
   "mimetype": "application/julia",
   "name": "julia",
   "version": "1.1.0"
  }
 },
 "nbformat": 4,
 "nbformat_minor": 1
}
