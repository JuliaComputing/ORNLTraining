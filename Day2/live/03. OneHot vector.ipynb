{
 "cells": [
  {
   "cell_type": "markdown",
   "metadata": {},
   "source": [
    "Often used in machine learning, a \"one hot\" vector is a vector of all zeros, except for a single `1` entry.\n",
    "Representing it as a standard vector is memory-inefficient, so it cries out for a special implementation."
   ]
  },
  {
   "cell_type": "code",
   "execution_count": 1,
   "metadata": {},
   "outputs": [],
   "source": [
    "struct OneHotVector <: AbstractVector{Int}\n",
    "    idx::Int\n",
    "    len::Int\n",
    "end"
   ]
  },
  {
   "cell_type": "code",
   "execution_count": null,
   "metadata": {},
   "outputs": [],
   "source": [
    "# size(x) = ...."
   ]
  },
  {
   "cell_type": "code",
   "execution_count": 5,
   "metadata": {},
   "outputs": [],
   "source": [
    "Base.size(v::OneHotVector) = (v.len,)"
   ]
  },
  {
   "cell_type": "markdown",
   "metadata": {},
   "source": [
    "Syntax - function name correspondences\n",
    "\n",
    "- `a[i]`: `getindex`\n",
    "- `a[i]=x`: `setindex!`"
   ]
  },
  {
   "cell_type": "code",
   "execution_count": 3,
   "metadata": {},
   "outputs": [],
   "source": [
    "Base.getindex(v::OneHotVector, i::Integer) = Int(i == v.idx)"
   ]
  },
  {
   "cell_type": "code",
   "execution_count": 6,
   "metadata": {},
   "outputs": [
    {
     "ename": "ErrorException",
     "evalue": "getindex not defined for OneHotVector",
     "output_type": "error",
     "traceback": [
      "getindex not defined for OneHotVector",
      "",
      "Stacktrace:",
      " [1] error(::String, ::Type) at ./error.jl:42",
      " [2] error_if_canonical_getindex(::IndexCartesian, ::OneHotVector, ::Int64) at ./abstractarray.jl:915",
      " [3] _getindex at ./abstractarray.jl:904 [inlined]",
      " [4] getindex at ./abstractarray.jl:905 [inlined]",
      " [5] isassigned(::OneHotVector, ::Int64, ::Int64) at ./abstractarray.jl:351",
      " [6] alignment(::IOContext{Base.GenericIOBuffer{Array{UInt8,1}}}, ::OneHotVector, ::UnitRange{Int64}, ::UnitRange{Int64}, ::Int64, ::Int64, ::Int64) at ./arrayshow.jl:67",
      " [7] print_matrix(::IOContext{Base.GenericIOBuffer{Array{UInt8,1}}}, ::OneHotVector, ::String, ::String, ::String, ::String, ::String, ::String, ::Int64, ::Int64) at ./arrayshow.jl:186",
      " [8] print_matrix at ./arrayshow.jl:159 [inlined]",
      " [9] print_array at ./arrayshow.jl:308 [inlined]",
      " [10] show(::IOContext{Base.GenericIOBuffer{Array{UInt8,1}}}, ::MIME{Symbol(\"text/plain\")}, ::OneHotVector) at ./arrayshow.jl:345",
      " [11] limitstringmime(::MIME{Symbol(\"text/plain\")}, ::OneHotVector) at /home/jeff/.julia/packages/IJulia/0cLgR/src/inline.jl:36",
      " [12] display_mimestring(::MIME{Symbol(\"text/plain\")}, ::OneHotVector) at /home/jeff/.julia/packages/IJulia/0cLgR/src/execute_request.jl:73",
      " [13] display_dict(::OneHotVector) at /home/jeff/.julia/packages/IJulia/0cLgR/src/execute_request.jl:101",
      " [14] #invokelatest#1 at ./essentials.jl:697 [inlined]",
      " [15] invokelatest at ./essentials.jl:696 [inlined]",
      " [16] execute_request(::ZMQ.Socket, ::IJulia.Msg) at /home/jeff/.julia/packages/IJulia/0cLgR/src/execute_request.jl:256",
      " [17] #invokelatest#1 at ./essentials.jl:697 [inlined]",
      " [18] invokelatest at ./essentials.jl:696 [inlined]",
      " [19] eventloop(::ZMQ.Socket) at /home/jeff/.julia/packages/IJulia/0cLgR/src/eventloop.jl:8",
      " [20] (::getfield(IJulia, Symbol(\"##12#15\")))() at ./task.jl:259"
     ]
    }
   ],
   "source": [
    "OneHotVector(3, 10)"
   ]
  },
  {
   "cell_type": "code",
   "execution_count": 3,
   "metadata": {},
   "outputs": [
    {
     "data": {
      "text/plain": [
       "5×5 Array{Float64,2}:\n",
       " 0.346517  0.0953753  0.459121  0.0717425  0.298585\n",
       " 0.187351  0.404677   0.290953  0.51385    0.43915 \n",
       " 0.883236  0.89635    0.925389  0.198738   0.891799\n",
       " 0.426845  0.543552   0.402128  0.438773   0.659549\n",
       " 0.895616  0.0477009  0.731236  0.994737   0.907782"
      ]
     },
     "execution_count": 3,
     "metadata": {},
     "output_type": "execute_result"
    }
   ],
   "source": [
    "A = rand(5,5)"
   ]
  },
  {
   "cell_type": "code",
   "execution_count": 4,
   "metadata": {},
   "outputs": [
    {
     "ename": "MethodError",
     "evalue": "MethodError: no method matching size(::OneHotVector)\nClosest candidates are:\n  size(::AbstractArray{T,N}, !Matched::Any) where {T, N} at abstractarray.jl:38\n  size(!Matched::BitArray{1}) at bitarray.jl:70\n  size(!Matched::BitArray{1}, !Matched::Any) at bitarray.jl:74\n  ...",
     "output_type": "error",
     "traceback": [
      "MethodError: no method matching size(::OneHotVector)\nClosest candidates are:\n  size(::AbstractArray{T,N}, !Matched::Any) where {T, N} at abstractarray.jl:38\n  size(!Matched::BitArray{1}) at bitarray.jl:70\n  size(!Matched::BitArray{1}, !Matched::Any) at bitarray.jl:74\n  ...",
      "",
      "Stacktrace:",
      " [1] axes at ./abstractarray.jl:75 [inlined]",
      " [2] has_offset_axes(::OneHotVector) at ./abstractarray.jl:85",
      " [3] _tuple_any at ./tuple.jl:415 [inlined] (repeats 3 times)",
      " [4] _tuple_any at ./tuple.jl:412 [inlined]",
      " [5] has_offset_axes(::Array{Float64,1}, ::Array{Float64,2}, ::Vararg{Any,N} where N) at ./abstractarray.jl:86",
      " [6] generic_matvecmul!(::Array{Float64,1}, ::Char, ::Array{Float64,2}, ::OneHotVector) at /home/jeff/src/julia/usr/share/julia/stdlib/v1.0/LinearAlgebra/src/matmul.jl:495",
      " [7] mul!(::Array{Float64,1}, ::Array{Float64,2}, ::OneHotVector) at /home/jeff/src/julia/usr/share/julia/stdlib/v1.0/LinearAlgebra/src/matmul.jl:75",
      " [8] *(::Array{Float64,2}, ::OneHotVector) at /home/jeff/src/julia/usr/share/julia/stdlib/v1.0/LinearAlgebra/src/matmul.jl:50",
      " [9] top-level scope at In[4]:1"
     ]
    }
   ],
   "source": [
    "A * OneHotVector(3, 5)"
   ]
  },
  {
   "cell_type": "code",
   "execution_count": 7,
   "metadata": {},
   "outputs": [
    {
     "data": {
      "text/plain": [
       "5-element Array{Int64,1}:\n",
       " 0\n",
       " 0\n",
       " 1\n",
       " 0\n",
       " 0"
      ]
     },
     "execution_count": 7,
     "metadata": {},
     "output_type": "execute_result"
    }
   ],
   "source": [
    "Vector(OneHotVector(3,5))"
   ]
  },
  {
   "cell_type": "code",
   "execution_count": 8,
   "metadata": {},
   "outputs": [
    {
     "data": {
      "text/html": [
       "37-element Array{Method,1}:<ul><li> \\(A::<b>LinearAlgebra.Transpose{#s561,#s560} where #s560<:(LinearAlgebra.Hermitian{#s559,#s558} where #s558<:SparseArrays.SparseMatrixCSC where #s559<:Real) where #s561<:Real</b>, B::<b>Array{T,1} where T</b>) in SparseArrays at <a href=\"https://github.com/JuliaLang/julia/tree/4aea3d2b7cc829d08f2c9048c9136299d7fd2c49//usr/share/julia/stdlib/v1.0/SparseArrays/src/linalg.jl#L444\" target=\"_blank\">/home/jeff/src/julia/usr/share/julia/stdlib/v1.0/SparseArrays/src/linalg.jl:444</a><li> \\(A::<b>LinearAlgebra.Transpose{#s561,#s560} where #s560<:(LinearAlgebra.Hermitian{#s559,#s558} where #s558<:SparseArrays.SparseMatrixCSC where #s559<:Complex) where #s561<:Complex</b>, B::<b>Array{T,1} where T</b>) in SparseArrays at <a href=\"https://github.com/JuliaLang/julia/tree/4aea3d2b7cc829d08f2c9048c9136299d7fd2c49//usr/share/julia/stdlib/v1.0/SparseArrays/src/linalg.jl#L445\" target=\"_blank\">/home/jeff/src/julia/usr/share/julia/stdlib/v1.0/SparseArrays/src/linalg.jl:445</a><li> \\(A::<b>LinearAlgebra.Transpose{#s561,#s560} where #s560<:(LinearAlgebra.Symmetric{#s559,#s558} where #s558<:SparseArrays.SparseMatrixCSC where #s559<:Number) where #s561<:Number</b>, B::<b>Array{T,1} where T</b>) in SparseArrays at <a href=\"https://github.com/JuliaLang/julia/tree/4aea3d2b7cc829d08f2c9048c9136299d7fd2c49//usr/share/julia/stdlib/v1.0/SparseArrays/src/linalg.jl#L446\" target=\"_blank\">/home/jeff/src/julia/usr/share/julia/stdlib/v1.0/SparseArrays/src/linalg.jl:446</a><li> \\(L::<b>SuiteSparse.CHOLMOD.FactorComponent</b>, b::<b>Array{T,1} where T</b>) in SuiteSparse.CHOLMOD at <a href=\"https://github.com/JuliaLang/julia/tree/4aea3d2b7cc829d08f2c9048c9136299d7fd2c49//usr/share/julia/stdlib/v1.0/SuiteSparse/src/cholmod.jl#L1697\" target=\"_blank\">/home/jeff/src/julia/usr/share/julia/stdlib/v1.0/SuiteSparse/src/cholmod.jl:1697</a><li> append!(a::<b>Array{#s57,1} where #s57</b>, items::<b>AbstractArray{T,1} where T</b>) in Base at <a href=\"https://github.com/JuliaLang/julia/tree/4aea3d2b7cc829d08f2c9048c9136299d7fd2c49/base/array.jl#L895\" target=\"_blank\">array.jl:895</a><li> append!(a::<b>Array{T,1} where T</b>, iter) in Base at <a href=\"https://github.com/JuliaLang/julia/tree/4aea3d2b7cc829d08f2c9048c9136299d7fd2c49/base/array.jl#L902\" target=\"_blank\">array.jl:902</a><li> deleteat!(a::<b>Array{T,1} where T</b>, i::<b>Integer</b>) in Base at <a href=\"https://github.com/JuliaLang/julia/tree/4aea3d2b7cc829d08f2c9048c9136299d7fd2c49/base/array.jl#L1177\" target=\"_blank\">array.jl:1177</a><li> deleteat!(a::<b>Array{T,1} where T</b>, r::<b>UnitRange{#s57} where #s57<:Integer</b>) in Base at <a href=\"https://github.com/JuliaLang/julia/tree/4aea3d2b7cc829d08f2c9048c9136299d7fd2c49/base/array.jl#L1180\" target=\"_blank\">array.jl:1180</a><li> deleteat!(a::<b>Array{T,1} where T</b>, inds::<b>AbstractArray{Bool,1}</b>) in Base at <a href=\"https://github.com/JuliaLang/julia/tree/4aea3d2b7cc829d08f2c9048c9136299d7fd2c49/base/array.jl#L1250\" target=\"_blank\">array.jl:1250</a><li> deleteat!(a::<b>Array{T,1} where T</b>, inds::<b>AbstractArray{T,1} where T</b>) in Base at <a href=\"https://github.com/JuliaLang/julia/tree/4aea3d2b7cc829d08f2c9048c9136299d7fd2c49/base/array.jl#L1215\" target=\"_blank\">array.jl:1215</a><li> deleteat!(a::<b>Array{T,1} where T</b>, inds) in Base at <a href=\"https://github.com/JuliaLang/julia/tree/4aea3d2b7cc829d08f2c9048c9136299d7fd2c49/base/array.jl#L1214\" target=\"_blank\">array.jl:1214</a><li> empty!(a::<b>Array{T,1} where T</b>) in Base at <a href=\"https://github.com/JuliaLang/julia/tree/4aea3d2b7cc829d08f2c9048c9136299d7fd2c49/base/array.jl#L1388\" target=\"_blank\">array.jl:1388</a><li> evalfile(path::<b>AbstractString</b>, args::<b>Array{T,1} where T</b>) in Base at <a href=\"https://github.com/JuliaLang/julia/tree/4aea3d2b7cc829d08f2c9048c9136299d7fd2c49/base/loading.jl#L1079\" target=\"_blank\">loading.jl:1079</a><li> filter(f, a::<b>Array{T,1} where T</b>) in Base at <a href=\"https://github.com/JuliaLang/julia/tree/4aea3d2b7cc829d08f2c9048c9136299d7fd2c49/base/array.jl#L2352\" target=\"_blank\">array.jl:2352</a><li> insert!<i>{T}</i>(a::<b>Array{T,1}</b>, i::<b>Integer</b>, item) in Base at <a href=\"https://github.com/JuliaLang/julia/tree/4aea3d2b7cc829d08f2c9048c9136299d7fd2c49/base/array.jl#L1153\" target=\"_blank\">array.jl:1153</a><li> permute!<i>{Tv, Ti}</i>(A::<b>SparseArrays.SparseMatrixCSC{Tv,Ti}</b>, p::<b>AbstractArray{#s561,1} where #s561<:Integer</b>, q::<b>AbstractArray{#s560,1} where #s560<:Integer</b>, C::<b>SparseArrays.SparseMatrixCSC{Tv,Ti}</b>, workcolptr::<b>Array{Ti,1}</b>) in SparseArrays at <a href=\"https://github.com/JuliaLang/julia/tree/4aea3d2b7cc829d08f2c9048c9136299d7fd2c49//usr/share/julia/stdlib/v1.0/SparseArrays/src/sparsematrix.jl#L1130\" target=\"_blank\">/home/jeff/src/julia/usr/share/julia/stdlib/v1.0/SparseArrays/src/sparsematrix.jl:1130</a><li> pop!(a::<b>Array{T,1} where T</b>) in Base at <a href=\"https://github.com/JuliaLang/julia/tree/4aea3d2b7cc829d08f2c9048c9136299d7fd2c49/base/array.jl#L1064\" target=\"_blank\">array.jl:1064</a><li> popfirst!(a::<b>Array{T,1} where T</b>) in Base at <a href=\"https://github.com/JuliaLang/julia/tree/4aea3d2b7cc829d08f2c9048c9136299d7fd2c49/base/array.jl#L1125\" target=\"_blank\">array.jl:1125</a><li> prepend!(a::<b>Array{#s57,1} where #s57</b>, items::<b>AbstractArray{T,1} where T</b>) in Base at <a href=\"https://github.com/JuliaLang/julia/tree/4aea3d2b7cc829d08f2c9048c9136299d7fd2c49/base/array.jl#L939\" target=\"_blank\">array.jl:939</a><li> prepend!(a::<b>Array{T,1} where T</b>, iter) in Base at <a href=\"https://github.com/JuliaLang/julia/tree/4aea3d2b7cc829d08f2c9048c9136299d7fd2c49/base/array.jl#L950\" target=\"_blank\">array.jl:950</a><li> push!<i>{T}</i>(a::<b>Array{T,1}</b>, item) in Base at <a href=\"https://github.com/JuliaLang/julia/tree/4aea3d2b7cc829d08f2c9048c9136299d7fd2c49/base/array.jl#L855\" target=\"_blank\">array.jl:855</a><li> push!(a::<b>Array{T,1} where T</b>, iter...) in Base at <a href=\"https://github.com/JuliaLang/julia/tree/4aea3d2b7cc829d08f2c9048c9136299d7fd2c49/base/array.jl#L903\" target=\"_blank\">array.jl:903</a><li> pushfirst!<i>{T}</i>(a::<b>Array{T,1}</b>, item) in Base at <a href=\"https://github.com/JuliaLang/julia/tree/4aea3d2b7cc829d08f2c9048c9136299d7fd2c49/base/array.jl#L1090\" target=\"_blank\">array.jl:1090</a><li> pushfirst!(a::<b>Array{T,1} where T</b>, iter...) in Base at <a href=\"https://github.com/JuliaLang/julia/tree/4aea3d2b7cc829d08f2c9048c9136299d7fd2c49/base/array.jl#L951\" target=\"_blank\">array.jl:951</a><li> resize!(a::<b>Array{T,1} where T</b>, nl::<b>Integer</b>) in Base at <a href=\"https://github.com/JuliaLang/julia/tree/4aea3d2b7cc829d08f2c9048c9136299d7fd2c49/base/array.jl#L1004\" target=\"_blank\">array.jl:1004</a><li> reverse(A::<b>Array{T,1} where T</b>) in Base at <a href=\"https://github.com/JuliaLang/julia/tree/4aea3d2b7cc829d08f2c9048c9136299d7fd2c49/base/array.jl#L1467\" target=\"_blank\">array.jl:1467</a><li> similar<i>{T}</i>(a::<b>Array{T,1}</b>) in Base at <a href=\"https://github.com/JuliaLang/julia/tree/4aea3d2b7cc829d08f2c9048c9136299d7fd2c49/base/array.jl#L327\" target=\"_blank\">array.jl:327</a><li> similar<i>{T}</i>(a::<b>Array{T,1}</b>, S::<b>Type</b>) in Base at <a href=\"https://github.com/JuliaLang/julia/tree/4aea3d2b7cc829d08f2c9048c9136299d7fd2c49/base/array.jl#L329\" target=\"_blank\">array.jl:329</a><li> size(a::<b>Array{T,1} where T</b>) in Base at <a href=\"https://github.com/JuliaLang/julia/tree/4aea3d2b7cc829d08f2c9048c9136299d7fd2c49/base/array.jl#L155\" target=\"_blank\">array.jl:155</a><li> sizehint!(a::<b>Array{T,1} where T</b>, sz::<b>Integer</b>) in Base at <a href=\"https://github.com/JuliaLang/julia/tree/4aea3d2b7cc829d08f2c9048c9136299d7fd2c49/base/array.jl#L1024\" target=\"_blank\">array.jl:1024</a><li> splice!(a::<b>Array{T,1} where T</b>, i::<b>Integer</b>) in Base at <a href=\"https://github.com/JuliaLang/julia/tree/4aea3d2b7cc829d08f2c9048c9136299d7fd2c49/base/array.jl#L1313\" target=\"_blank\">array.jl:1313</a><li> splice!(a::<b>Array{T,1} where T</b>, i::<b>Integer</b>, ins) in Base at <a href=\"https://github.com/JuliaLang/julia/tree/4aea3d2b7cc829d08f2c9048c9136299d7fd2c49/base/array.jl#L1313\" target=\"_blank\">array.jl:1313</a><li> splice!(a::<b>Array{T,1} where T</b>, r::<b>UnitRange{#s57} where #s57<:Integer</b>) in Base at <a href=\"https://github.com/JuliaLang/julia/tree/4aea3d2b7cc829d08f2c9048c9136299d7fd2c49/base/array.jl#L1360\" target=\"_blank\">array.jl:1360</a><li> splice!(a::<b>Array{T,1} where T</b>, r::<b>UnitRange{#s56} where #s56<:Integer</b>, ins) in Base at <a href=\"https://github.com/JuliaLang/julia/tree/4aea3d2b7cc829d08f2c9048c9136299d7fd2c49/base/array.jl#L1360\" target=\"_blank\">array.jl:1360</a><li> write(ctx::<b>MbedTLS.MD</b>, buf::<b>Array{T,1} where T</b>) in MbedTLS at <a href=\"file:///home/jeff/.julia/packages/MbedTLS/CwGUN/src/md.jl\" target=\"_blank\">/home/jeff/.julia/packages/MbedTLS/CwGUN/src/md.jl:134</a><li> html(io::<b>IO</b>, content::<b>Array{T,1} where T</b>) in Markdown at <a href=\"https://github.com/JuliaLang/julia/tree/4aea3d2b7cc829d08f2c9048c9136299d7fd2c49//usr/share/julia/stdlib/v1.0/Markdown/src/render/html.jl#L54\" target=\"_blank\">/home/jeff/src/julia/usr/share/julia/stdlib/v1.0/Markdown/src/render/html.jl:54</a><li> latex(io::<b>IO</b>, content::<b>Array{T,1} where T</b>) in Markdown at <a href=\"https://github.com/JuliaLang/julia/tree/4aea3d2b7cc829d08f2c9048c9136299d7fd2c49//usr/share/julia/stdlib/v1.0/Markdown/src/render/latex.jl#L22\" target=\"_blank\">/home/jeff/src/julia/usr/share/julia/stdlib/v1.0/Markdown/src/render/latex.jl:22</a></ul>"
      ],
      "text/plain": [
       "[1] \\(A::LinearAlgebra.Transpose{#s561,#s560} where #s560<:(LinearAlgebra.Hermitian{#s559,#s558} where #s558<:SparseArrays.SparseMatrixCSC where #s559<:Real) where #s561<:Real, B::Array{T,1} where T) in SparseArrays at /home/jeff/src/julia/usr/share/julia/stdlib/v1.0/SparseArrays/src/linalg.jl:444\n",
       "[2] \\(A::LinearAlgebra.Transpose{#s561,#s560} where #s560<:(LinearAlgebra.Hermitian{#s559,#s558} where #s558<:SparseArrays.SparseMatrixCSC where #s559<:Complex) where #s561<:Complex, B::Array{T,1} where T) in SparseArrays at /home/jeff/src/julia/usr/share/julia/stdlib/v1.0/SparseArrays/src/linalg.jl:445\n",
       "[3] \\(A::LinearAlgebra.Transpose{#s561,#s560} where #s560<:(LinearAlgebra.Symmetric{#s559,#s558} where #s558<:SparseArrays.SparseMatrixCSC where #s559<:Number) where #s561<:Number, B::Array{T,1} where T) in SparseArrays at /home/jeff/src/julia/usr/share/julia/stdlib/v1.0/SparseArrays/src/linalg.jl:446\n",
       "[4] \\(L::SuiteSparse.CHOLMOD.FactorComponent, b::Array{T,1} where T) in SuiteSparse.CHOLMOD at /home/jeff/src/julia/usr/share/julia/stdlib/v1.0/SuiteSparse/src/cholmod.jl:1697\n",
       "[5] append!(a::Array{#s57,1} where #s57, items::AbstractArray{T,1} where T) in Base at array.jl:895\n",
       "[6] append!(a::Array{T,1} where T, iter) in Base at array.jl:902\n",
       "[7] deleteat!(a::Array{T,1} where T, i::Integer) in Base at array.jl:1177\n",
       "[8] deleteat!(a::Array{T,1} where T, r::UnitRange{#s57} where #s57<:Integer) in Base at array.jl:1180\n",
       "[9] deleteat!(a::Array{T,1} where T, inds::AbstractArray{Bool,1}) in Base at array.jl:1250\n",
       "[10] deleteat!(a::Array{T,1} where T, inds::AbstractArray{T,1} where T) in Base at array.jl:1215\n",
       "[11] deleteat!(a::Array{T,1} where T, inds) in Base at array.jl:1214\n",
       "[12] empty!(a::Array{T,1} where T) in Base at array.jl:1388\n",
       "[13] evalfile(path::AbstractString, args::Array{T,1} where T) in Base at loading.jl:1079\n",
       "[14] filter(f, a::Array{T,1} where T) in Base at array.jl:2352\n",
       "[15] insert!(a::Array{T,1}, i::Integer, item) where T in Base at array.jl:1153\n",
       "[16] permute!(A::SparseArrays.SparseMatrixCSC{Tv,Ti}, p::AbstractArray{#s561,1} where #s561<:Integer, q::AbstractArray{#s560,1} where #s560<:Integer, C::SparseArrays.SparseMatrixCSC{Tv,Ti}, workcolptr::Array{Ti,1}) where {Tv, Ti} in SparseArrays at /home/jeff/src/julia/usr/share/julia/stdlib/v1.0/SparseArrays/src/sparsematrix.jl:1130\n",
       "[17] pop!(a::Array{T,1} where T) in Base at array.jl:1064\n",
       "[18] popfirst!(a::Array{T,1} where T) in Base at array.jl:1125\n",
       "[19] prepend!(a::Array{#s57,1} where #s57, items::AbstractArray{T,1} where T) in Base at array.jl:939\n",
       "[20] prepend!(a::Array{T,1} where T, iter) in Base at array.jl:950\n",
       "[21] push!(a::Array{T,1}, item) where T in Base at array.jl:855\n",
       "[22] push!(a::Array{T,1} where T, iter...) in Base at array.jl:903\n",
       "[23] pushfirst!(a::Array{T,1}, item) where T in Base at array.jl:1090\n",
       "[24] pushfirst!(a::Array{T,1} where T, iter...) in Base at array.jl:951\n",
       "[25] resize!(a::Array{T,1} where T, nl::Integer) in Base at array.jl:1004\n",
       "[26] reverse(A::Array{T,1} where T) in Base at array.jl:1467\n",
       "[27] similar(a::Array{T,1}) where T in Base at array.jl:327\n",
       "[28] similar(a::Array{T,1}, S::Type) where T in Base at array.jl:329\n",
       "[29] size(a::Array{T,1} where T) in Base at array.jl:155\n",
       "[30] sizehint!(a::Array{T,1} where T, sz::Integer) in Base at array.jl:1024\n",
       "[31] splice!(a::Array{T,1} where T, i::Integer) in Base at array.jl:1313\n",
       "[32] splice!(a::Array{T,1} where T, i::Integer, ins) in Base at array.jl:1313\n",
       "[33] splice!(a::Array{T,1} where T, r::UnitRange{#s57} where #s57<:Integer) in Base at array.jl:1360\n",
       "[34] splice!(a::Array{T,1} where T, r::UnitRange{#s56} where #s56<:Integer, ins) in Base at array.jl:1360\n",
       "[35] write(ctx::MbedTLS.MD, buf::Array{T,1} where T) in MbedTLS at /home/jeff/.julia/packages/MbedTLS/CwGUN/src/md.jl:134\n",
       "[36] html(io::IO, content::Array{T,1} where T) in Markdown at /home/jeff/src/julia/usr/share/julia/stdlib/v1.0/Markdown/src/render/html.jl:54\n",
       "[37] latex(io::IO, content::Array{T,1} where T) in Markdown at /home/jeff/src/julia/usr/share/julia/stdlib/v1.0/Markdown/src/render/latex.jl:22"
      ]
     },
     "execution_count": 8,
     "metadata": {},
     "output_type": "execute_result"
    }
   ],
   "source": [
    "methodswith(Vector)"
   ]
  },
  {
   "cell_type": "code",
   "execution_count": 8,
   "metadata": {},
   "outputs": [
    {
     "data": {
      "text/plain": [
       "Dict{Int64,Int64} with 100 entries:\n",
       "  68 => 136\n",
       "  2  => 4\n",
       "  89 => 178\n",
       "  11 => 22\n",
       "  39 => 78\n",
       "  46 => 92\n",
       "  85 => 170\n",
       "  25 => 50\n",
       "  55 => 110\n",
       "  42 => 84\n",
       "  29 => 58\n",
       "  58 => 116\n",
       "  66 => 132\n",
       "  59 => 118\n",
       "  8  => 16\n",
       "  74 => 148\n",
       "  95 => 190\n",
       "  57 => 114\n",
       "  20 => 40\n",
       "  90 => 180\n",
       "  14 => 28\n",
       "  31 => 62\n",
       "  78 => 156\n",
       "  70 => 140\n",
       "  33 => 66\n",
       "  ⋮  => ⋮"
      ]
     },
     "execution_count": 8,
     "metadata": {},
     "output_type": "execute_result"
    }
   ],
   "source": [
    "Dict(i=>2i for i in 1:100)"
   ]
  },
  {
   "cell_type": "markdown",
   "metadata": {},
   "source": [
    "## Exercise\n",
    "\n",
    "Generalize it to any element type."
   ]
  },
  {
   "cell_type": "code",
   "execution_count": 1,
   "metadata": {},
   "outputs": [],
   "source": [
    "struct OneHotVector5 <: AbstractVector{Number}\n",
    "    type::Type{<:Number}\n",
    "    idx::Int\n",
    "    len::Int\n",
    "end"
   ]
  },
  {
   "cell_type": "code",
   "execution_count": 2,
   "metadata": {},
   "outputs": [],
   "source": [
    "Base.getindex(v::OneHotVector5, i::Integer) = v.type(i==v.idx)"
   ]
  },
  {
   "cell_type": "code",
   "execution_count": 3,
   "metadata": {},
   "outputs": [],
   "source": [
    "Base.size(v::OneHotVector5) = (v.len,)"
   ]
  },
  {
   "cell_type": "code",
   "execution_count": 4,
   "metadata": {},
   "outputs": [
    {
     "data": {
      "text/plain": [
       "8-element OneHotVector5:\n",
       " 0.0f0\n",
       " 0.0f0\n",
       " 0.0f0\n",
       " 0.0f0\n",
       " 1.0f0\n",
       " 0.0f0\n",
       " 0.0f0\n",
       " 0.0f0"
      ]
     },
     "execution_count": 4,
     "metadata": {},
     "output_type": "execute_result"
    }
   ],
   "source": [
    "OneHotVector5(Float32, 5, 8)"
   ]
  },
  {
   "cell_type": "code",
   "execution_count": 5,
   "metadata": {},
   "outputs": [
    {
     "ename": "MethodError",
     "evalue": "MethodError: Cannot `convert` an object of type Type{String} to an object of type Type{T} where T<:Number\nClosest candidates are:\n  convert(::Type{T}, !Matched::T) where T at essentials.jl:154",
     "output_type": "error",
     "traceback": [
      "MethodError: Cannot `convert` an object of type Type{String} to an object of type Type{T} where T<:Number\nClosest candidates are:\n  convert(::Type{T}, !Matched::T) where T at essentials.jl:154",
      "",
      "Stacktrace:",
      " [1] OneHotVector5(::Type, ::Int64, ::Int64) at ./In[1]:2",
      " [2] top-level scope at In[5]:1"
     ]
    }
   ],
   "source": [
    "OneHotVector5(String, 5, 8)"
   ]
  },
  {
   "cell_type": "code",
   "execution_count": 6,
   "metadata": {},
   "outputs": [],
   "source": [
    "struct OneHotVector{T<:Number} <: AbstractVector{T}\n",
    "    idx::Int\n",
    "    len::Int\n",
    "end"
   ]
  },
  {
   "cell_type": "code",
   "execution_count": 7,
   "metadata": {},
   "outputs": [],
   "source": [
    "Base.size(v::OneHotVector) = (v.len,)"
   ]
  },
  {
   "cell_type": "code",
   "execution_count": 8,
   "metadata": {},
   "outputs": [],
   "source": [
    "Base.getindex(v::OneHotVector{T},i::Integer) where {T<:Number} =\n",
    "    T(i==v.idx)"
   ]
  },
  {
   "cell_type": "code",
   "execution_count": 10,
   "metadata": {},
   "outputs": [
    {
     "data": {
      "text/plain": [
       "10-element OneHotVector{Int8}:\n",
       " 0\n",
       " 0\n",
       " 0\n",
       " 0\n",
       " 1\n",
       " 0\n",
       " 0\n",
       " 0\n",
       " 0\n",
       " 0"
      ]
     },
     "execution_count": 10,
     "metadata": {},
     "output_type": "execute_result"
    }
   ],
   "source": [
    "OneHotVector{Int8}(5, 10)"
   ]
  },
  {
   "cell_type": "code",
   "execution_count": 15,
   "metadata": {},
   "outputs": [
    {
     "ename": "TypeError",
     "evalue": "TypeError: in OneHotVector, in T, expected T<:Number, got Type{String}",
     "output_type": "error",
     "traceback": [
      "TypeError: in OneHotVector, in T, expected T<:Number, got Type{String}",
      "",
      "Stacktrace:",
      " [1] top-level scope at In[15]:1"
     ]
    }
   ],
   "source": [
    "OneHotVector{String}(5, 10)"
   ]
  },
  {
   "cell_type": "code",
   "execution_count": 14,
   "metadata": {},
   "outputs": [
    {
     "data": {
      "text/plain": [
       "2-element OneHotVector{Int64}:\n",
       " 1\n",
       " 0"
      ]
     },
     "execution_count": 14,
     "metadata": {},
     "output_type": "execute_result"
    }
   ],
   "source": [
    "OneHotVector(1,2)"
   ]
  },
  {
   "cell_type": "code",
   "execution_count": 13,
   "metadata": {},
   "outputs": [
    {
     "data": {
      "text/plain": [
       "OneHotVector"
      ]
     },
     "execution_count": 13,
     "metadata": {},
     "output_type": "execute_result"
    }
   ],
   "source": [
    "OneHotVector(idx,len) = OneHotVector{Int}(idx,len)"
   ]
  },
  {
   "cell_type": "code",
   "execution_count": 16,
   "metadata": {},
   "outputs": [],
   "source": [
    "OneHotVector{Float64}(idx,len) = OneHotVector{Int}(idx+1,len)"
   ]
  },
  {
   "cell_type": "code",
   "execution_count": 17,
   "metadata": {},
   "outputs": [
    {
     "data": {
      "text/plain": [
       "5-element OneHotVector{Float32}:\n",
       " 1.0\n",
       " 0.0\n",
       " 0.0\n",
       " 0.0\n",
       " 0.0"
      ]
     },
     "execution_count": 17,
     "metadata": {},
     "output_type": "execute_result"
    }
   ],
   "source": [
    "OneHotVector{Float32}(1,5)"
   ]
  },
  {
   "cell_type": "code",
   "execution_count": 19,
   "metadata": {},
   "outputs": [
    {
     "data": {
      "text/html": [
       "(::<b>Type{OneHotVector{Float64}}</b>)(idx, len) in Main at In[16]:1"
      ],
      "text/plain": [
       "(::Type{OneHotVector{Float64}})(idx, len) in Main at In[16]:1"
      ]
     },
     "execution_count": 19,
     "metadata": {},
     "output_type": "execute_result"
    }
   ],
   "source": [
    "@which OneHotVector{Float64}(1,5)"
   ]
  },
  {
   "cell_type": "code",
   "execution_count": 20,
   "metadata": {},
   "outputs": [
    {
     "data": {
      "text/html": [
       "+<i>{T<:Union{Int128, Int16, Int32, Int64, Int8, UInt128, UInt16, UInt32, UInt64, UInt8}}</i>(x::<b>T</b>, y::<b>T</b>) in Base at <a href=\"https://github.com/JuliaLang/julia/tree/4aea3d2b7cc829d08f2c9048c9136299d7fd2c49/base/int.jl#L53\" target=\"_blank\">int.jl:53</a>"
      ],
      "text/plain": [
       "+(x::T, y::T) where T<:Union{Int128, Int16, Int32, Int64, Int8, UInt128, UInt16, UInt32, UInt64, UInt8} in Base at int.jl:53"
      ]
     },
     "execution_count": 20,
     "metadata": {},
     "output_type": "execute_result"
    }
   ],
   "source": [
    "@which 1+1"
   ]
  },
  {
   "cell_type": "code",
   "execution_count": null,
   "metadata": {},
   "outputs": [],
   "source": []
  }
 ],
 "metadata": {
  "kernelspec": {
   "display_name": "Julia 1.1.0-DEV",
   "language": "julia",
   "name": "julia-1.1"
  },
  "language_info": {
   "file_extension": ".jl",
   "mimetype": "application/julia",
   "name": "julia",
   "version": "1.0.2"
  }
 },
 "nbformat": 4,
 "nbformat_minor": 2
}
